{
 "cells": [
  {
   "cell_type": "code",
   "execution_count": 1,
   "id": "1f82e03c",
   "metadata": {
    "_cell_guid": "b1076dfc-b9ad-4769-8c92-a6c4dae69d19",
    "_uuid": "8f2839f25d086af736a60e9eeb907d3b93b6e0e5",
    "execution": {
     "iopub.execute_input": "2023-08-06T13:13:54.307236Z",
     "iopub.status.busy": "2023-08-06T13:13:54.306764Z",
     "iopub.status.idle": "2023-08-06T13:13:57.535724Z",
     "shell.execute_reply": "2023-08-06T13:13:57.534755Z"
    },
    "papermill": {
     "duration": 3.239118,
     "end_time": "2023-08-06T13:13:57.538353",
     "exception": false,
     "start_time": "2023-08-06T13:13:54.299235",
     "status": "completed"
    },
    "tags": []
   },
   "outputs": [],
   "source": [
    "import torch"
   ]
  },
  {
   "cell_type": "code",
   "execution_count": 2,
   "id": "659b8212",
   "metadata": {
    "execution": {
     "iopub.execute_input": "2023-08-06T13:13:57.548778Z",
     "iopub.status.busy": "2023-08-06T13:13:57.546948Z",
     "iopub.status.idle": "2023-08-06T13:13:57.564178Z",
     "shell.execute_reply": "2023-08-06T13:13:57.563163Z"
    },
    "papermill": {
     "duration": 0.023978,
     "end_time": "2023-08-06T13:13:57.566191",
     "exception": false,
     "start_time": "2023-08-06T13:13:57.542213",
     "status": "completed"
    },
    "tags": []
   },
   "outputs": [],
   "source": [
    "tenso_1 = torch.rand(size=(7,7))\n",
    "tenso_2 = torch.rand(size=(1,7))"
   ]
  },
  {
   "cell_type": "code",
   "execution_count": 3,
   "id": "685b4a89",
   "metadata": {
    "execution": {
     "iopub.execute_input": "2023-08-06T13:13:57.574370Z",
     "iopub.status.busy": "2023-08-06T13:13:57.574055Z",
     "iopub.status.idle": "2023-08-06T13:13:57.672560Z",
     "shell.execute_reply": "2023-08-06T13:13:57.671532Z"
    },
    "papermill": {
     "duration": 0.106062,
     "end_time": "2023-08-06T13:13:57.675680",
     "exception": false,
     "start_time": "2023-08-06T13:13:57.569618",
     "status": "completed"
    },
    "tags": []
   },
   "outputs": [
    {
     "data": {
      "text/plain": [
       "tensor([[1.8054],\n",
       "        [1.8509],\n",
       "        [1.2344],\n",
       "        [1.7684],\n",
       "        [1.0812],\n",
       "        [2.2796],\n",
       "        [1.9049]])"
      ]
     },
     "execution_count": 3,
     "metadata": {},
     "output_type": "execute_result"
    }
   ],
   "source": [
    "tenso_1@tenso_2.T"
   ]
  },
  {
   "cell_type": "code",
   "execution_count": 4,
   "id": "d092c21b",
   "metadata": {
    "execution": {
     "iopub.execute_input": "2023-08-06T13:13:57.684081Z",
     "iopub.status.busy": "2023-08-06T13:13:57.683741Z",
     "iopub.status.idle": "2023-08-06T13:13:57.693076Z",
     "shell.execute_reply": "2023-08-06T13:13:57.692138Z"
    },
    "papermill": {
     "duration": 0.015981,
     "end_time": "2023-08-06T13:13:57.695216",
     "exception": false,
     "start_time": "2023-08-06T13:13:57.679235",
     "status": "completed"
    },
    "tags": []
   },
   "outputs": [
    {
     "data": {
      "text/plain": [
       "<torch._C.Generator at 0x7af43be8e690>"
      ]
     },
     "execution_count": 4,
     "metadata": {},
     "output_type": "execute_result"
    }
   ],
   "source": [
    "see_d = 43\n",
    " \n",
    "torch.manual_seed(see_d)\n"
   ]
  },
  {
   "cell_type": "code",
   "execution_count": 5,
   "id": "6abcf9c1",
   "metadata": {
    "execution": {
     "iopub.execute_input": "2023-08-06T13:13:57.704547Z",
     "iopub.status.busy": "2023-08-06T13:13:57.703667Z",
     "iopub.status.idle": "2023-08-06T13:13:57.766124Z",
     "shell.execute_reply": "2023-08-06T13:13:57.765242Z"
    },
    "papermill": {
     "duration": 0.06946,
     "end_time": "2023-08-06T13:13:57.768341",
     "exception": false,
     "start_time": "2023-08-06T13:13:57.698881",
     "status": "completed"
    },
    "tags": []
   },
   "outputs": [
    {
     "data": {
      "text/plain": [
       "'cuda'"
      ]
     },
     "execution_count": 5,
     "metadata": {},
     "output_type": "execute_result"
    }
   ],
   "source": [
    "device='cuda' if torch.cuda.is_available() else 'cpu'\n",
    "device"
   ]
  },
  {
   "cell_type": "code",
   "execution_count": 6,
   "id": "4f663df5",
   "metadata": {
    "execution": {
     "iopub.execute_input": "2023-08-06T13:13:57.777629Z",
     "iopub.status.busy": "2023-08-06T13:13:57.777358Z",
     "iopub.status.idle": "2023-08-06T13:14:00.580872Z",
     "shell.execute_reply": "2023-08-06T13:14:00.579914Z"
    },
    "papermill": {
     "duration": 2.810568,
     "end_time": "2023-08-06T13:14:00.583028",
     "exception": false,
     "start_time": "2023-08-06T13:13:57.772460",
     "status": "completed"
    },
    "tags": []
   },
   "outputs": [
    {
     "data": {
      "text/plain": [
       "tensor([[0.0215, 0.9972, 0.7134, 0.5148, 0.1393, 0.5802, 0.1400]],\n",
       "       device='cuda:0')"
      ]
     },
     "execution_count": 6,
     "metadata": {},
     "output_type": "execute_result"
    }
   ],
   "source": [
    "tenso_1.to(device)\n",
    "tenso_2.to(device)"
   ]
  },
  {
   "cell_type": "code",
   "execution_count": 7,
   "id": "2d80e0ea",
   "metadata": {
    "execution": {
     "iopub.execute_input": "2023-08-06T13:14:00.592606Z",
     "iopub.status.busy": "2023-08-06T13:14:00.592311Z",
     "iopub.status.idle": "2023-08-06T13:14:00.600605Z",
     "shell.execute_reply": "2023-08-06T13:14:00.599607Z"
    },
    "papermill": {
     "duration": 0.015338,
     "end_time": "2023-08-06T13:14:00.602669",
     "exception": false,
     "start_time": "2023-08-06T13:14:00.587331",
     "status": "completed"
    },
    "tags": []
   },
   "outputs": [
    {
     "data": {
      "text/plain": [
       "tensor([[1.8054],\n",
       "        [1.8509],\n",
       "        [1.2344],\n",
       "        [1.7684],\n",
       "        [1.0812],\n",
       "        [2.2796],\n",
       "        [1.9049]])"
      ]
     },
     "execution_count": 7,
     "metadata": {},
     "output_type": "execute_result"
    }
   ],
   "source": [
    "ere = tenso_1@tenso_2.T\n",
    "ere"
   ]
  },
  {
   "cell_type": "code",
   "execution_count": 8,
   "id": "e151eaca",
   "metadata": {
    "execution": {
     "iopub.execute_input": "2023-08-06T13:14:00.612425Z",
     "iopub.status.busy": "2023-08-06T13:14:00.612166Z",
     "iopub.status.idle": "2023-08-06T13:14:00.620752Z",
     "shell.execute_reply": "2023-08-06T13:14:00.619763Z"
    },
    "papermill": {
     "duration": 0.015712,
     "end_time": "2023-08-06T13:14:00.622852",
     "exception": false,
     "start_time": "2023-08-06T13:14:00.607140",
     "status": "completed"
    },
    "tags": []
   },
   "outputs": [
    {
     "data": {
      "text/plain": [
       "(tensor(2.2796), tensor(1.0812))"
      ]
     },
     "execution_count": 8,
     "metadata": {},
     "output_type": "execute_result"
    }
   ],
   "source": [
    "torch.max(ere), torch.min(ere)"
   ]
  },
  {
   "cell_type": "code",
   "execution_count": 9,
   "id": "d8e3a5e9",
   "metadata": {
    "execution": {
     "iopub.execute_input": "2023-08-06T13:14:00.633057Z",
     "iopub.status.busy": "2023-08-06T13:14:00.632295Z",
     "iopub.status.idle": "2023-08-06T13:14:00.641200Z",
     "shell.execute_reply": "2023-08-06T13:14:00.640257Z"
    },
    "papermill": {
     "duration": 0.015925,
     "end_time": "2023-08-06T13:14:00.643180",
     "exception": false,
     "start_time": "2023-08-06T13:14:00.627255",
     "status": "completed"
    },
    "tags": []
   },
   "outputs": [
    {
     "data": {
      "text/plain": [
       "(tensor(5), tensor(4))"
      ]
     },
     "execution_count": 9,
     "metadata": {},
     "output_type": "execute_result"
    }
   ],
   "source": [
    "torch.argmax(ere), torch.argmin(ere)"
   ]
  },
  {
   "cell_type": "code",
   "execution_count": 10,
   "id": "8c875d82",
   "metadata": {
    "execution": {
     "iopub.execute_input": "2023-08-06T13:14:00.653429Z",
     "iopub.status.busy": "2023-08-06T13:14:00.652679Z",
     "iopub.status.idle": "2023-08-06T13:14:00.660597Z",
     "shell.execute_reply": "2023-08-06T13:14:00.659683Z"
    },
    "papermill": {
     "duration": 0.014897,
     "end_time": "2023-08-06T13:14:00.662532",
     "exception": false,
     "start_time": "2023-08-06T13:14:00.647635",
     "status": "completed"
    },
    "tags": []
   },
   "outputs": [
    {
     "name": "stdout",
     "output_type": "stream",
     "text": [
      "4 torch.Size([1, 1, 4, 4])\n"
     ]
    },
    {
     "data": {
      "text/plain": [
       "2"
      ]
     },
     "execution_count": 10,
     "metadata": {},
     "output_type": "execute_result"
    }
   ],
   "source": [
    "piie = torch.rand(size=(1,1,4,4))\n",
    "print(piie.ndim, piie.shape)\n",
    "piie1 = piie.squeeze()\n",
    "piie1.ndim\n"
   ]
  },
  {
   "cell_type": "code",
   "execution_count": null,
   "id": "082e0171",
   "metadata": {
    "papermill": {
     "duration": 0.0043,
     "end_time": "2023-08-06T13:14:00.671554",
     "exception": false,
     "start_time": "2023-08-06T13:14:00.667254",
     "status": "completed"
    },
    "tags": []
   },
   "outputs": [],
   "source": []
  }
 ],
 "metadata": {
  "kernelspec": {
   "display_name": "Python 3",
   "language": "python",
   "name": "python3"
  },
  "language_info": {
   "codemirror_mode": {
    "name": "ipython",
    "version": 3
   },
   "file_extension": ".py",
   "mimetype": "text/x-python",
   "name": "python",
   "nbconvert_exporter": "python",
   "pygments_lexer": "ipython3",
   "version": "3.10.12"
  },
  "papermill": {
   "default_parameters": {},
   "duration": 18.717712,
   "end_time": "2023-08-06T13:14:03.081421",
   "environment_variables": {},
   "exception": null,
   "input_path": "__notebook__.ipynb",
   "output_path": "__notebook__.ipynb",
   "parameters": {},
   "start_time": "2023-08-06T13:13:44.363709",
   "version": "2.4.0"
  }
 },
 "nbformat": 4,
 "nbformat_minor": 5
}
