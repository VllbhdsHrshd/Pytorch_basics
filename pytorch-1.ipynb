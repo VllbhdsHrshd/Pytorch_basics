{
 "cells": [
  {
   "cell_type": "code",
   "execution_count": 1,
   "id": "47198c3a",
   "metadata": {
    "execution": {
     "iopub.execute_input": "2023-08-06T12:25:51.006859Z",
     "iopub.status.busy": "2023-08-06T12:25:51.006387Z",
     "iopub.status.idle": "2023-08-06T12:25:54.393531Z",
     "shell.execute_reply": "2023-08-06T12:25:54.392473Z"
    },
    "papermill": {
     "duration": 3.405757,
     "end_time": "2023-08-06T12:25:54.395688",
     "exception": false,
     "start_time": "2023-08-06T12:25:50.989931",
     "status": "completed"
    },
    "tags": []
   },
   "outputs": [
    {
     "data": {
      "text/plain": [
       "'2.0.0'"
      ]
     },
     "execution_count": 1,
     "metadata": {},
     "output_type": "execute_result"
    }
   ],
   "source": [
    "import torch\n",
    "torch.__version__"
   ]
  },
  {
   "cell_type": "code",
   "execution_count": 2,
   "id": "53ced6c2",
   "metadata": {
    "execution": {
     "iopub.execute_input": "2023-08-06T12:25:54.426233Z",
     "iopub.status.busy": "2023-08-06T12:25:54.425457Z",
     "iopub.status.idle": "2023-08-06T12:25:54.462859Z",
     "shell.execute_reply": "2023-08-06T12:25:54.461944Z"
    },
    "papermill": {
     "duration": 0.055007,
     "end_time": "2023-08-06T12:25:54.465016",
     "exception": false,
     "start_time": "2023-08-06T12:25:54.410009",
     "status": "completed"
    },
    "tags": []
   },
   "outputs": [
    {
     "data": {
      "text/plain": [
       "(tensor(7), 0)"
      ]
     },
     "execution_count": 2,
     "metadata": {},
     "output_type": "execute_result"
    }
   ],
   "source": [
    "scalar = torch.tensor(7)\n",
    "scalar,scalar.ndim"
   ]
  },
  {
   "cell_type": "code",
   "execution_count": 3,
   "id": "66ac9bdf",
   "metadata": {
    "execution": {
     "iopub.execute_input": "2023-08-06T12:25:54.495963Z",
     "iopub.status.busy": "2023-08-06T12:25:54.495155Z",
     "iopub.status.idle": "2023-08-06T12:25:54.501539Z",
     "shell.execute_reply": "2023-08-06T12:25:54.500584Z"
    },
    "papermill": {
     "duration": 0.023706,
     "end_time": "2023-08-06T12:25:54.503544",
     "exception": false,
     "start_time": "2023-08-06T12:25:54.479838",
     "status": "completed"
    },
    "tags": []
   },
   "outputs": [
    {
     "data": {
      "text/plain": [
       "7"
      ]
     },
     "execution_count": 3,
     "metadata": {},
     "output_type": "execute_result"
    }
   ],
   "source": [
    "scalar.item()"
   ]
  },
  {
   "cell_type": "code",
   "execution_count": 4,
   "id": "ffd12105",
   "metadata": {
    "execution": {
     "iopub.execute_input": "2023-08-06T12:25:54.536924Z",
     "iopub.status.busy": "2023-08-06T12:25:54.536626Z",
     "iopub.status.idle": "2023-08-06T12:25:54.547141Z",
     "shell.execute_reply": "2023-08-06T12:25:54.546143Z"
    },
    "papermill": {
     "duration": 0.031134,
     "end_time": "2023-08-06T12:25:54.549174",
     "exception": false,
     "start_time": "2023-08-06T12:25:54.518040",
     "status": "completed"
    },
    "tags": []
   },
   "outputs": [
    {
     "data": {
      "text/plain": [
       "(tensor([22, 23]), 1, torch.Size([2]), tensor(22), tensor(23))"
      ]
     },
     "execution_count": 4,
     "metadata": {},
     "output_type": "execute_result"
    }
   ],
   "source": [
    "vector = torch.tensor([22,23])\n",
    "vector, vector.ndim, vector.shape,vector[0],vector[1]"
   ]
  },
  {
   "cell_type": "code",
   "execution_count": 5,
   "id": "7a5eb1ee",
   "metadata": {
    "execution": {
     "iopub.execute_input": "2023-08-06T12:25:54.581653Z",
     "iopub.status.busy": "2023-08-06T12:25:54.580858Z",
     "iopub.status.idle": "2023-08-06T12:25:54.588212Z",
     "shell.execute_reply": "2023-08-06T12:25:54.587255Z"
    },
    "papermill": {
     "duration": 0.026319,
     "end_time": "2023-08-06T12:25:54.590183",
     "exception": false,
     "start_time": "2023-08-06T12:25:54.563864",
     "status": "completed"
    },
    "tags": []
   },
   "outputs": [
    {
     "data": {
      "text/plain": [
       "(tensor([[2, 9],\n",
       "         [5, 6],\n",
       "         [8, 9]]),\n",
       " 2,\n",
       " torch.Size([3, 2]))"
      ]
     },
     "execution_count": 5,
     "metadata": {},
     "output_type": "execute_result"
    }
   ],
   "source": [
    "matrix = torch.tensor([[2,9],[5,6],[8,9]])\n",
    "matrix, matrix.ndim, matrix.shape, "
   ]
  },
  {
   "cell_type": "code",
   "execution_count": 6,
   "id": "81d792db",
   "metadata": {
    "execution": {
     "iopub.execute_input": "2023-08-06T12:25:54.621788Z",
     "iopub.status.busy": "2023-08-06T12:25:54.621025Z",
     "iopub.status.idle": "2023-08-06T12:25:54.629562Z",
     "shell.execute_reply": "2023-08-06T12:25:54.628609Z"
    },
    "papermill": {
     "duration": 0.026414,
     "end_time": "2023-08-06T12:25:54.631669",
     "exception": false,
     "start_time": "2023-08-06T12:25:54.605255",
     "status": "completed"
    },
    "tags": []
   },
   "outputs": [
    {
     "data": {
      "text/plain": [
       "(tensor([[[1, 2, 3],\n",
       "          [4, 5, 6],\n",
       "          [7, 8, 9]],\n",
       " \n",
       "         [[1, 2, 3],\n",
       "          [4, 5, 6],\n",
       "          [7, 8, 9]],\n",
       " \n",
       "         [[1, 2, 1],\n",
       "          [1, 1, 3],\n",
       "          [1, 2, 3]]]),\n",
       " 3,\n",
       " torch.Size([3, 3, 3]))"
      ]
     },
     "execution_count": 6,
     "metadata": {},
     "output_type": "execute_result"
    }
   ],
   "source": [
    "Tensor = torch.tensor([[[1,2,3],[4,5,6],[7,8,9]],[[1,2,3],[4,5,6],[7,8,9]],[[1,2,1],[1,1,3],[1,2,3]]])\n",
    "Tensor, Tensor.ndim, Tensor.shape"
   ]
  },
  {
   "cell_type": "code",
   "execution_count": 7,
   "id": "5e2ca7e1",
   "metadata": {
    "execution": {
     "iopub.execute_input": "2023-08-06T12:25:54.662834Z",
     "iopub.status.busy": "2023-08-06T12:25:54.662519Z",
     "iopub.status.idle": "2023-08-06T12:25:54.675221Z",
     "shell.execute_reply": "2023-08-06T12:25:54.674245Z"
    },
    "papermill": {
     "duration": 0.03071,
     "end_time": "2023-08-06T12:25:54.677233",
     "exception": false,
     "start_time": "2023-08-06T12:25:54.646523",
     "status": "completed"
    },
    "tags": []
   },
   "outputs": [
    {
     "data": {
      "text/plain": [
       "(tensor([[[1, 2, 3],\n",
       "          [1, 2, 3],\n",
       "          [1, 2, 3]]]),\n",
       " torch.Size([1, 3, 3]),\n",
       " tensor([[[1, 2, 3],\n",
       "          [1, 2, 3],\n",
       "          [1, 2, 3]],\n",
       " \n",
       "         [[1, 2, 3],\n",
       "          [1, 2, 3],\n",
       "          [1, 2, 3]]]),\n",
       " torch.Size([2, 3, 3]),\n",
       " tensor([[[1, 2, 3],\n",
       "          [1, 2, 3],\n",
       "          [1, 2, 3]],\n",
       " \n",
       "         [[1, 2, 3],\n",
       "          [1, 2, 3],\n",
       "          [1, 2, 3]],\n",
       " \n",
       "         [[1, 2, 3],\n",
       "          [1, 2, 3],\n",
       "          [1, 2, 3]]]),\n",
       " torch.Size([3, 3, 3]))"
      ]
     },
     "execution_count": 7,
     "metadata": {},
     "output_type": "execute_result"
    }
   ],
   "source": [
    "##size---->[1,3,3]\n",
    "set_1 = torch.tensor([[[1,2,3],[1,2,3],[1,2,3]]])\n",
    "##size---->[2,3,3]\n",
    "set_2 = torch.tensor([[[1,2,3],[1,2,3],[1,2,3]],[[1,2,3],[1,2,3],[1,2,3]]])\n",
    "##size---->[3,3,3]\n",
    "set_3 = torch.tensor([[[1,2,3],[1,2,3],[1,2,3]],[[1,2,3],[1,2,3],[1,2,3]],[[1,2,3],[1,2,3],[1,2,3]]])\n",
    "set_1,set_1.shape, set_2,set_2.shape, set_3, set_3.shape"
   ]
  },
  {
   "cell_type": "code",
   "execution_count": 8,
   "id": "a66ecf2a",
   "metadata": {
    "execution": {
     "iopub.execute_input": "2023-08-06T12:25:54.708826Z",
     "iopub.status.busy": "2023-08-06T12:25:54.708057Z",
     "iopub.status.idle": "2023-08-06T12:25:54.714485Z",
     "shell.execute_reply": "2023-08-06T12:25:54.713609Z"
    },
    "papermill": {
     "duration": 0.024153,
     "end_time": "2023-08-06T12:25:54.716445",
     "exception": false,
     "start_time": "2023-08-06T12:25:54.692292",
     "status": "completed"
    },
    "tags": []
   },
   "outputs": [
    {
     "data": {
      "text/plain": [
       "(3, 3, 3)"
      ]
     },
     "execution_count": 8,
     "metadata": {},
     "output_type": "execute_result"
    }
   ],
   "source": [
    "set_1.ndim, set_2.ndim, set_3.ndim"
   ]
  },
  {
   "cell_type": "code",
   "execution_count": 9,
   "id": "90c3faed",
   "metadata": {
    "execution": {
     "iopub.execute_input": "2023-08-06T12:25:54.747886Z",
     "iopub.status.busy": "2023-08-06T12:25:54.747139Z",
     "iopub.status.idle": "2023-08-06T12:25:54.795535Z",
     "shell.execute_reply": "2023-08-06T12:25:54.794608Z"
    },
    "papermill": {
     "duration": 0.066318,
     "end_time": "2023-08-06T12:25:54.797589",
     "exception": false,
     "start_time": "2023-08-06T12:25:54.731271",
     "status": "completed"
    },
    "tags": []
   },
   "outputs": [
    {
     "data": {
      "text/plain": [
       "(tensor([[0.2947, 0.7136, 0.0742, 0.9200],\n",
       "         [0.4094, 0.1993, 0.7055, 0.2232],\n",
       "         [0.2439, 0.3809, 0.7897, 0.0501]]),\n",
       " torch.float32,\n",
       " 2)"
      ]
     },
     "execution_count": 9,
     "metadata": {},
     "output_type": "execute_result"
    }
   ],
   "source": [
    "random_tensor = torch.rand(size = (3,4))\n",
    "random_tensor, random_tensor.dtype, random_tensor.ndim"
   ]
  },
  {
   "cell_type": "code",
   "execution_count": 10,
   "id": "b166ee13",
   "metadata": {
    "execution": {
     "iopub.execute_input": "2023-08-06T12:25:54.828813Z",
     "iopub.status.busy": "2023-08-06T12:25:54.828504Z",
     "iopub.status.idle": "2023-08-06T12:25:54.835296Z",
     "shell.execute_reply": "2023-08-06T12:25:54.834359Z"
    },
    "papermill": {
     "duration": 0.024625,
     "end_time": "2023-08-06T12:25:54.837254",
     "exception": false,
     "start_time": "2023-08-06T12:25:54.812629",
     "status": "completed"
    },
    "tags": []
   },
   "outputs": [
    {
     "data": {
      "text/plain": [
       "(torch.Size([3, 128, 128]), 3)"
      ]
     },
     "execution_count": 10,
     "metadata": {},
     "output_type": "execute_result"
    }
   ],
   "source": [
    "random_image_tensor = torch.rand(size=(3,128,128))\n",
    "random_image_tensor.shape, random_image_tensor.ndim"
   ]
  },
  {
   "cell_type": "code",
   "execution_count": 11,
   "id": "3e5d4d69",
   "metadata": {
    "execution": {
     "iopub.execute_input": "2023-08-06T12:25:54.869173Z",
     "iopub.status.busy": "2023-08-06T12:25:54.868424Z",
     "iopub.status.idle": "2023-08-06T12:25:54.885522Z",
     "shell.execute_reply": "2023-08-06T12:25:54.884605Z"
    },
    "papermill": {
     "duration": 0.035014,
     "end_time": "2023-08-06T12:25:54.887507",
     "exception": false,
     "start_time": "2023-08-06T12:25:54.852493",
     "status": "completed"
    },
    "tags": []
   },
   "outputs": [
    {
     "data": {
      "text/plain": [
       "tensor([[[0.3084, 0.7495, 0.8845,  ..., 0.9912, 0.4678, 0.3701],\n",
       "         [0.3141, 0.8006, 0.3452,  ..., 0.1778, 0.3695, 0.0931],\n",
       "         [0.3235, 0.4687, 0.6950,  ..., 0.5291, 0.0258, 0.1710],\n",
       "         ...,\n",
       "         [0.7815, 0.1380, 0.5467,  ..., 0.2115, 0.3924, 0.0215],\n",
       "         [0.5181, 0.2056, 0.8763,  ..., 0.5874, 0.0831, 0.6931],\n",
       "         [0.6403, 0.1061, 0.4215,  ..., 0.8358, 0.7619, 0.6048]],\n",
       "\n",
       "        [[0.8596, 0.1501, 0.0291,  ..., 0.5697, 0.0162, 0.4275],\n",
       "         [0.6916, 0.8391, 0.4534,  ..., 0.9767, 0.8225, 0.3152],\n",
       "         [0.1414, 0.2880, 0.5041,  ..., 0.1393, 0.7468, 0.5321],\n",
       "         ...,\n",
       "         [0.8964, 0.0845, 0.5769,  ..., 0.8649, 0.1831, 0.9744],\n",
       "         [0.8299, 0.3306, 0.1132,  ..., 0.0144, 0.6713, 0.4185],\n",
       "         [0.5220, 0.7933, 0.4992,  ..., 0.9985, 0.0234, 0.9228]],\n",
       "\n",
       "        [[0.2227, 0.0295, 0.4591,  ..., 0.8320, 0.8918, 0.4314],\n",
       "         [0.0865, 0.2489, 0.0300,  ..., 0.3526, 0.1684, 0.3942],\n",
       "         [0.1974, 0.4542, 0.7415,  ..., 0.0987, 0.7107, 0.4343],\n",
       "         ...,\n",
       "         [0.6569, 0.5618, 0.7945,  ..., 0.8413, 0.0796, 0.4785],\n",
       "         [0.9939, 0.8802, 0.9521,  ..., 0.4048, 0.8884, 0.9056],\n",
       "         [0.0273, 0.8744, 0.1043,  ..., 0.6364, 0.8203, 0.5201]]])"
      ]
     },
     "execution_count": 11,
     "metadata": {},
     "output_type": "execute_result"
    }
   ],
   "source": [
    "random_image_tensor"
   ]
  },
  {
   "cell_type": "code",
   "execution_count": 12,
   "id": "56b81088",
   "metadata": {
    "execution": {
     "iopub.execute_input": "2023-08-06T12:25:54.919574Z",
     "iopub.status.busy": "2023-08-06T12:25:54.919281Z",
     "iopub.status.idle": "2023-08-06T12:25:54.926763Z",
     "shell.execute_reply": "2023-08-06T12:25:54.925882Z"
    },
    "papermill": {
     "duration": 0.025553,
     "end_time": "2023-08-06T12:25:54.928663",
     "exception": false,
     "start_time": "2023-08-06T12:25:54.903110",
     "status": "completed"
    },
    "tags": []
   },
   "outputs": [
    {
     "data": {
      "text/plain": [
       "(tensor([[0., 0., 0., 0.],\n",
       "         [0., 0., 0., 0.],\n",
       "         [0., 0., 0., 0.]]),\n",
       " torch.float32)"
      ]
     },
     "execution_count": 12,
     "metadata": {},
     "output_type": "execute_result"
    }
   ],
   "source": [
    "##Zeros and Ones tensor\n",
    "zeros = torch.zeros(size =(3,4))\n",
    "zeros, zeros.dtype"
   ]
  },
  {
   "cell_type": "code",
   "execution_count": 13,
   "id": "54152dc1",
   "metadata": {
    "execution": {
     "iopub.execute_input": "2023-08-06T12:25:54.961527Z",
     "iopub.status.busy": "2023-08-06T12:25:54.960799Z",
     "iopub.status.idle": "2023-08-06T12:25:54.968869Z",
     "shell.execute_reply": "2023-08-06T12:25:54.967903Z"
    },
    "papermill": {
     "duration": 0.026461,
     "end_time": "2023-08-06T12:25:54.970863",
     "exception": false,
     "start_time": "2023-08-06T12:25:54.944402",
     "status": "completed"
    },
    "tags": []
   },
   "outputs": [
    {
     "data": {
      "text/plain": [
       "(tensor([[1., 1.],\n",
       "         [1., 1.]]),\n",
       " torch.Size([2, 2]),\n",
       " 2)"
      ]
     },
     "execution_count": 13,
     "metadata": {},
     "output_type": "execute_result"
    }
   ],
   "source": [
    "ones = torch.ones(size=(2,2))\n",
    "ones, ones.shape, ones.ndim"
   ]
  },
  {
   "cell_type": "code",
   "execution_count": 14,
   "id": "005c14e2",
   "metadata": {
    "execution": {
     "iopub.execute_input": "2023-08-06T12:25:55.003856Z",
     "iopub.status.busy": "2023-08-06T12:25:55.003112Z",
     "iopub.status.idle": "2023-08-06T12:25:55.011235Z",
     "shell.execute_reply": "2023-08-06T12:25:55.010275Z"
    },
    "papermill": {
     "duration": 0.026774,
     "end_time": "2023-08-06T12:25:55.013368",
     "exception": false,
     "start_time": "2023-08-06T12:25:54.986594",
     "status": "completed"
    },
    "tags": []
   },
   "outputs": [
    {
     "data": {
      "text/plain": [
       "(tensor([ 2,  4,  6,  8, 10, 12, 14, 16, 18, 20, 22, 24, 26, 28, 30]),\n",
       " torch.Size([15]),\n",
       " 1)"
      ]
     },
     "execution_count": 14,
     "metadata": {},
     "output_type": "execute_result"
    }
   ],
   "source": [
    "# by default step size is 1\n",
    "ek_se_dus = torch.arange(start = 2, end =31, step=2 )\n",
    "ek_se_dus, ek_se_dus.shape, ek_se_dus.ndim"
   ]
  },
  {
   "cell_type": "code",
   "execution_count": 15,
   "id": "dde7737c",
   "metadata": {
    "execution": {
     "iopub.execute_input": "2023-08-06T12:25:55.046752Z",
     "iopub.status.busy": "2023-08-06T12:25:55.045996Z",
     "iopub.status.idle": "2023-08-06T12:25:55.053607Z",
     "shell.execute_reply": "2023-08-06T12:25:55.052273Z"
    },
    "papermill": {
     "duration": 0.026034,
     "end_time": "2023-08-06T12:25:55.055479",
     "exception": false,
     "start_time": "2023-08-06T12:25:55.029445",
     "status": "completed"
    },
    "tags": []
   },
   "outputs": [
    {
     "data": {
      "text/plain": [
       "(tensor([0, 0, 0, 0, 0, 0, 0, 0, 0, 0, 0, 0, 0, 0, 0]),\n",
       " tensor([1, 1, 1, 1, 1, 1, 1, 1, 1, 1, 1, 1, 1, 1, 1]))"
      ]
     },
     "execution_count": 15,
     "metadata": {},
     "output_type": "execute_result"
    }
   ],
   "source": [
    "## this one is interesting\n",
    "\n",
    "fifteen_zeros = torch.zeros_like(input= ek_se_dus)\n",
    "\n",
    "fifteen_ones = torch.ones_like(input=ek_se_dus)\n",
    "fifteen_zeros,fifteen_ones"
   ]
  },
  {
   "cell_type": "code",
   "execution_count": 16,
   "id": "cbd2b34f",
   "metadata": {
    "execution": {
     "iopub.execute_input": "2023-08-06T12:25:55.088461Z",
     "iopub.status.busy": "2023-08-06T12:25:55.087731Z",
     "iopub.status.idle": "2023-08-06T12:25:55.092479Z",
     "shell.execute_reply": "2023-08-06T12:25:55.091528Z"
    },
    "papermill": {
     "duration": 0.02356,
     "end_time": "2023-08-06T12:25:55.094595",
     "exception": false,
     "start_time": "2023-08-06T12:25:55.071035",
     "status": "completed"
    },
    "tags": []
   },
   "outputs": [],
   "source": [
    "ur = torch.rand(size=(3,4))"
   ]
  },
  {
   "cell_type": "code",
   "execution_count": 17,
   "id": "75f4e7d5",
   "metadata": {
    "execution": {
     "iopub.execute_input": "2023-08-06T12:25:55.129052Z",
     "iopub.status.busy": "2023-08-06T12:25:55.128282Z",
     "iopub.status.idle": "2023-08-06T12:25:55.133403Z",
     "shell.execute_reply": "2023-08-06T12:25:55.132454Z"
    },
    "papermill": {
     "duration": 0.024006,
     "end_time": "2023-08-06T12:25:55.135333",
     "exception": false,
     "start_time": "2023-08-06T12:25:55.111327",
     "status": "completed"
    },
    "tags": []
   },
   "outputs": [],
   "source": [
    "#Its time to play around with Floating point numbers.\n",
    "float_32_tensor = torch.tensor([3,4,5,6],dtype=torch.float32,device=None,requires_grad=False)\n",
    "# float_32_tensor = torch.tensor(ur,dtype=None,device=None,requires_grad=False)"
   ]
  },
  {
   "cell_type": "code",
   "execution_count": 18,
   "id": "7ba9db9b",
   "metadata": {
    "execution": {
     "iopub.execute_input": "2023-08-06T12:25:55.168877Z",
     "iopub.status.busy": "2023-08-06T12:25:55.168127Z",
     "iopub.status.idle": "2023-08-06T12:25:55.175328Z",
     "shell.execute_reply": "2023-08-06T12:25:55.174383Z"
    },
    "papermill": {
     "duration": 0.025802,
     "end_time": "2023-08-06T12:25:55.177284",
     "exception": false,
     "start_time": "2023-08-06T12:25:55.151482",
     "status": "completed"
    },
    "tags": []
   },
   "outputs": [
    {
     "data": {
      "text/plain": [
       "(tensor([3., 4., 5., 6.]), torch.Size([4]), 1, torch.float32)"
      ]
     },
     "execution_count": 18,
     "metadata": {},
     "output_type": "execute_result"
    }
   ],
   "source": [
    "float_32_tensor, float_32_tensor.shape, float_32_tensor.ndim, float_32_tensor.dtype"
   ]
  },
  {
   "cell_type": "code",
   "execution_count": 19,
   "id": "2254de68",
   "metadata": {
    "execution": {
     "iopub.execute_input": "2023-08-06T12:25:55.210677Z",
     "iopub.status.busy": "2023-08-06T12:25:55.209928Z",
     "iopub.status.idle": "2023-08-06T12:25:55.217167Z",
     "shell.execute_reply": "2023-08-06T12:25:55.216263Z"
    },
    "papermill": {
     "duration": 0.025965,
     "end_time": "2023-08-06T12:25:55.219161",
     "exception": false,
     "start_time": "2023-08-06T12:25:55.193196",
     "status": "completed"
    },
    "tags": []
   },
   "outputs": [
    {
     "data": {
      "text/plain": [
       "(tensor([[0.7401, 0.5150, 0.8947, 0.0754],\n",
       "         [0.4450, 0.8571, 0.6765, 0.2076],\n",
       "         [0.9845, 0.4730, 0.5025, 0.1276]]),\n",
       " 2,\n",
       " torch.Size([3, 4]),\n",
       " torch.float32)"
      ]
     },
     "execution_count": 19,
     "metadata": {},
     "output_type": "execute_result"
    }
   ],
   "source": [
    "ur, ur.ndim,ur.shape,ur.dtype"
   ]
  },
  {
   "cell_type": "code",
   "execution_count": 20,
   "id": "29d284a2",
   "metadata": {
    "execution": {
     "iopub.execute_input": "2023-08-06T12:25:55.253135Z",
     "iopub.status.busy": "2023-08-06T12:25:55.252218Z",
     "iopub.status.idle": "2023-08-06T12:25:55.256401Z",
     "shell.execute_reply": "2023-08-06T12:25:55.255604Z"
    },
    "papermill": {
     "duration": 0.022938,
     "end_time": "2023-08-06T12:25:55.258330",
     "exception": false,
     "start_time": "2023-08-06T12:25:55.235392",
     "status": "completed"
    },
    "tags": []
   },
   "outputs": [],
   "source": [
    "##Manipulating Tensors i.e. Operations performed on Tensors\n",
    "## +(addition),-(subtraction),*(multiplication),/(division),@(Matrix Multiplication)\n",
    "\n",
    "\n"
   ]
  },
  {
   "cell_type": "code",
   "execution_count": 21,
   "id": "80b2c391",
   "metadata": {
    "execution": {
     "iopub.execute_input": "2023-08-06T12:25:55.291966Z",
     "iopub.status.busy": "2023-08-06T12:25:55.291241Z",
     "iopub.status.idle": "2023-08-06T12:25:55.306215Z",
     "shell.execute_reply": "2023-08-06T12:25:55.305334Z"
    },
    "papermill": {
     "duration": 0.03368,
     "end_time": "2023-08-06T12:25:55.308147",
     "exception": false,
     "start_time": "2023-08-06T12:25:55.274467",
     "status": "completed"
    },
    "tags": []
   },
   "outputs": [
    {
     "name": "stdout",
     "output_type": "stream",
     "text": [
      "tensor([1, 2, 3])\n",
      "tensor([11, 12, 13]) tensor([0.9000, 1.9000, 2.9000]) tensor([10, 20, 30]) tensor([10., 20., 30.])\n"
     ]
    },
    {
     "data": {
      "text/plain": [
       "(torch.int64, torch.float32)"
      ]
     },
     "execution_count": 21,
     "metadata": {},
     "output_type": "execute_result"
    }
   ],
   "source": [
    "tensor_a = torch.tensor([1,2,3])\n",
    "print(tensor_a)\n",
    "bb = tensor_a+10\n",
    "# type(bb)\n",
    "cc = tensor_a - 0.1\n",
    "dd = tensor_a * 10\n",
    "ee = tensor_a / 0.1\n",
    "# ff = tensor_a \n",
    "print(bb,cc,dd,ee)\n",
    "dd.dtype, ee.dtype"
   ]
  },
  {
   "cell_type": "code",
   "execution_count": 22,
   "id": "92519904",
   "metadata": {
    "execution": {
     "iopub.execute_input": "2023-08-06T12:25:55.343344Z",
     "iopub.status.busy": "2023-08-06T12:25:55.342518Z",
     "iopub.status.idle": "2023-08-06T12:25:55.349308Z",
     "shell.execute_reply": "2023-08-06T12:25:55.348349Z"
    },
    "papermill": {
     "duration": 0.026659,
     "end_time": "2023-08-06T12:25:55.351369",
     "exception": false,
     "start_time": "2023-08-06T12:25:55.324710",
     "status": "completed"
    },
    "tags": []
   },
   "outputs": [
    {
     "data": {
      "text/plain": [
       "tensor([100., 200., 300.])"
      ]
     },
     "execution_count": 22,
     "metadata": {},
     "output_type": "execute_result"
    }
   ],
   "source": [
    "torch.multiply(ee, 10)"
   ]
  },
  {
   "cell_type": "code",
   "execution_count": 23,
   "id": "4826137d",
   "metadata": {
    "execution": {
     "iopub.execute_input": "2023-08-06T12:25:55.386737Z",
     "iopub.status.busy": "2023-08-06T12:25:55.386334Z",
     "iopub.status.idle": "2023-08-06T12:25:55.393726Z",
     "shell.execute_reply": "2023-08-06T12:25:55.392705Z"
    },
    "papermill": {
     "duration": 0.027164,
     "end_time": "2023-08-06T12:25:55.395661",
     "exception": false,
     "start_time": "2023-08-06T12:25:55.368497",
     "status": "completed"
    },
    "tags": []
   },
   "outputs": [
    {
     "data": {
      "text/plain": [
       "tensor([100, 400, 900])"
      ]
     },
     "execution_count": 23,
     "metadata": {},
     "output_type": "execute_result"
    }
   ],
   "source": [
    "ff = dd*dd\n",
    "ff ## element wise multiplication"
   ]
  },
  {
   "cell_type": "code",
   "execution_count": 24,
   "id": "4379d909",
   "metadata": {
    "execution": {
     "iopub.execute_input": "2023-08-06T12:25:55.431440Z",
     "iopub.status.busy": "2023-08-06T12:25:55.430693Z",
     "iopub.status.idle": "2023-08-06T12:25:55.439407Z",
     "shell.execute_reply": "2023-08-06T12:25:55.438254Z"
    },
    "papermill": {
     "duration": 0.029138,
     "end_time": "2023-08-06T12:25:55.441798",
     "exception": false,
     "start_time": "2023-08-06T12:25:55.412660",
     "status": "completed"
    },
    "tags": []
   },
   "outputs": [
    {
     "data": {
      "text/plain": [
       "tensor(1400)"
      ]
     },
     "execution_count": 24,
     "metadata": {},
     "output_type": "execute_result"
    }
   ],
   "source": [
    "##Lets look into matrix Multiplication\n",
    "## torch.matmul\n",
    "torch.matmul(dd,dd) ## element wise multiplication and addition\n"
   ]
  },
  {
   "cell_type": "code",
   "execution_count": 25,
   "id": "37c2384b",
   "metadata": {
    "execution": {
     "iopub.execute_input": "2023-08-06T12:25:55.476976Z",
     "iopub.status.busy": "2023-08-06T12:25:55.476380Z",
     "iopub.status.idle": "2023-08-06T12:25:55.483050Z",
     "shell.execute_reply": "2023-08-06T12:25:55.482014Z"
    },
    "papermill": {
     "duration": 0.026206,
     "end_time": "2023-08-06T12:25:55.485031",
     "exception": false,
     "start_time": "2023-08-06T12:25:55.458825",
     "status": "completed"
    },
    "tags": []
   },
   "outputs": [
    {
     "data": {
      "text/plain": [
       "tensor(1400)"
      ]
     },
     "execution_count": 25,
     "metadata": {},
     "output_type": "execute_result"
    }
   ],
   "source": [
    "dd@dd"
   ]
  },
  {
   "cell_type": "code",
   "execution_count": 26,
   "id": "87ec9c38",
   "metadata": {
    "execution": {
     "iopub.execute_input": "2023-08-06T12:25:55.520535Z",
     "iopub.status.busy": "2023-08-06T12:25:55.519828Z",
     "iopub.status.idle": "2023-08-06T12:25:55.570071Z",
     "shell.execute_reply": "2023-08-06T12:25:55.569041Z"
    },
    "papermill": {
     "duration": 0.070157,
     "end_time": "2023-08-06T12:25:55.572198",
     "exception": false,
     "start_time": "2023-08-06T12:25:55.502041",
     "status": "completed"
    },
    "tags": []
   },
   "outputs": [
    {
     "name": "stdout",
     "output_type": "stream",
     "text": [
      "tensor([[0.2108, 0.0864, 0.0348],\n",
      "        [0.6531, 0.5063, 0.4016]])\n",
      "tensor([[1., 2.],\n",
      "        [3., 4.],\n",
      "        [5., 6.]])\n"
     ]
    },
    {
     "data": {
      "text/plain": [
       "tensor([[0.6440, 0.9760],\n",
       "        [4.1799, 5.7409]])"
      ]
     },
     "execution_count": 26,
     "metadata": {},
     "output_type": "execute_result"
    }
   ],
   "source": [
    "aa = torch.rand(size=(2,3), dtype = torch.float32)\n",
    "print(aa)\n",
    "gg = torch.tensor([[1,2],[3,4],[5,6]], dtype =torch.float32)\n",
    "print(gg)\n",
    "# aa@gg\n",
    "torch.matmul(aa,gg)\n",
    "## note @ or torch.matmul won't work in dtype = torch.float16 or lower\n",
    "## unless you autocast your var in Cuda or make its dtype\n",
    "## torch.float32\n",
    "## And more importantly remember the matrix multiplication rule for dimension\n"
   ]
  },
  {
   "cell_type": "code",
   "execution_count": 27,
   "id": "0d67e7f7",
   "metadata": {
    "execution": {
     "iopub.execute_input": "2023-08-06T12:25:55.608656Z",
     "iopub.status.busy": "2023-08-06T12:25:55.607840Z",
     "iopub.status.idle": "2023-08-06T12:25:55.617937Z",
     "shell.execute_reply": "2023-08-06T12:25:55.616909Z"
    },
    "papermill": {
     "duration": 0.030229,
     "end_time": "2023-08-06T12:25:55.619899",
     "exception": false,
     "start_time": "2023-08-06T12:25:55.589670",
     "status": "completed"
    },
    "tags": []
   },
   "outputs": [
    {
     "name": "stdout",
     "output_type": "stream",
     "text": [
      "tensor([[1.5170, 1.0991, 0.8379],\n",
      "        [3.2449, 2.2847, 1.7105],\n",
      "        [4.9727, 3.4703, 2.5831]])\n",
      "tensor([[0.6440, 0.9760],\n",
      "        [4.1799, 5.7409]])\n",
      "tensor([[ 5., 11., 17.],\n",
      "        [11., 25., 39.],\n",
      "        [17., 39., 61.]])\n",
      "tensor([[0.0531, 0.1954],\n",
      "        [0.1954, 0.8442]])\n"
     ]
    }
   ],
   "source": [
    "## to make a transpose use tensor.T\n",
    "# print(gg@gg)  or print(aa@aa) ## won't work\n",
    "print(gg@aa)\n",
    "print(aa@gg)\n",
    "print(gg@gg.T)\n",
    "print(aa@aa.T)"
   ]
  },
  {
   "cell_type": "markdown",
   "id": "652e90b1",
   "metadata": {
    "papermill": {
     "duration": 0.017313,
     "end_time": "2023-08-06T12:25:55.655102",
     "exception": false,
     "start_time": "2023-08-06T12:25:55.637789",
     "status": "completed"
    },
    "tags": []
   },
   "source": [
    "**Most commonly errors in DL are of Three Types:**\n",
    "**Shape mismatch during matmul**\n",
    "**Placement of Vars(one in GPU and other in CPU)**\n",
    "**And their dtype**"
   ]
  },
  {
   "cell_type": "markdown",
   "id": "afcee562",
   "metadata": {
    "papermill": {
     "duration": 0.017369,
     "end_time": "2023-08-06T12:25:55.689668",
     "exception": false,
     "start_time": "2023-08-06T12:25:55.672299",
     "status": "completed"
    },
    "tags": []
   },
   "source": [
    "**@ or torch.mm or torch.matmul They mean the Same**"
   ]
  },
  {
   "cell_type": "code",
   "execution_count": 28,
   "id": "c1d9b725",
   "metadata": {
    "execution": {
     "iopub.execute_input": "2023-08-06T12:25:55.726110Z",
     "iopub.status.busy": "2023-08-06T12:25:55.725775Z",
     "iopub.status.idle": "2023-08-06T12:25:55.743092Z",
     "shell.execute_reply": "2023-08-06T12:25:55.742124Z"
    },
    "papermill": {
     "duration": 0.038212,
     "end_time": "2023-08-06T12:25:55.745048",
     "exception": false,
     "start_time": "2023-08-06T12:25:55.706836",
     "status": "completed"
    },
    "tags": []
   },
   "outputs": [
    {
     "name": "stdout",
     "output_type": "stream",
     "text": [
      "tensor([[0.2666, 0.6274],\n",
      "        [0.2696, 0.4414]]) <class 'torch.Tensor'> torch.float32 torch.Size([2, 2]) 2\n"
     ]
    },
    {
     "data": {
      "text/plain": [
       "(tensor([[ 1.0348,  0.4592,  0.3892,  0.0690,  0.3858,  0.3514],\n",
       "         [ 0.9272,  0.3378,  0.3622, -0.0094,  0.4842,  0.3286]],\n",
       "        grad_fn=<AddmmBackward0>),\n",
       " torch.Size([2, 6]))"
      ]
     },
     "execution_count": 28,
     "metadata": {},
     "output_type": "execute_result"
    }
   ],
   "source": [
    "torch.manual_seed(42)\n",
    "linear = torch.nn.Linear(in_features = 2 , out_features=6)\n",
    "x = torch.rand(size=(2,2))\n",
    "print(x, type(x), x.dtype, x.shape, x.ndim)\n",
    "output = linear(x)\n",
    "output, output.shape"
   ]
  },
  {
   "cell_type": "code",
   "execution_count": 29,
   "id": "8ac85b0d",
   "metadata": {
    "execution": {
     "iopub.execute_input": "2023-08-06T12:25:55.782347Z",
     "iopub.status.busy": "2023-08-06T12:25:55.781436Z",
     "iopub.status.idle": "2023-08-06T12:25:55.788667Z",
     "shell.execute_reply": "2023-08-06T12:25:55.787321Z"
    },
    "papermill": {
     "duration": 0.028086,
     "end_time": "2023-08-06T12:25:55.791102",
     "exception": false,
     "start_time": "2023-08-06T12:25:55.763016",
     "status": "completed"
    },
    "tags": []
   },
   "outputs": [
    {
     "name": "stdout",
     "output_type": "stream",
     "text": [
      "tensor([ 0, 10, 20, 30, 40, 50, 60, 70, 80, 90]) tensor(0) tensor(90) tensor(450) 10\n"
     ]
    }
   ],
   "source": [
    "# Finding min max mean sum\n",
    "x = torch.arange(0,100,10)\n",
    "\n",
    "print(x,x.min(), x.max(), x.sum(), len(x))"
   ]
  },
  {
   "cell_type": "code",
   "execution_count": 30,
   "id": "a87567e4",
   "metadata": {
    "execution": {
     "iopub.execute_input": "2023-08-06T12:25:55.828850Z",
     "iopub.status.busy": "2023-08-06T12:25:55.828262Z",
     "iopub.status.idle": "2023-08-06T12:25:55.838236Z",
     "shell.execute_reply": "2023-08-06T12:25:55.837137Z"
    },
    "papermill": {
     "duration": 0.030094,
     "end_time": "2023-08-06T12:25:55.840151",
     "exception": false,
     "start_time": "2023-08-06T12:25:55.810057",
     "status": "completed"
    },
    "tags": []
   },
   "outputs": [
    {
     "name": "stdout",
     "output_type": "stream",
     "text": [
      "tensor(45.)\n"
     ]
    }
   ],
   "source": [
    "print(x.type(torch.float32).mean())"
   ]
  },
  {
   "cell_type": "code",
   "execution_count": 31,
   "id": "7cd16ad2",
   "metadata": {
    "execution": {
     "iopub.execute_input": "2023-08-06T12:25:55.876808Z",
     "iopub.status.busy": "2023-08-06T12:25:55.876510Z",
     "iopub.status.idle": "2023-08-06T12:25:55.885253Z",
     "shell.execute_reply": "2023-08-06T12:25:55.884295Z"
    },
    "papermill": {
     "duration": 0.029084,
     "end_time": "2023-08-06T12:25:55.887214",
     "exception": false,
     "start_time": "2023-08-06T12:25:55.858130",
     "status": "completed"
    },
    "tags": []
   },
   "outputs": [
    {
     "data": {
      "text/plain": [
       "(tensor(0), tensor(90), tensor(45.), tensor(450))"
      ]
     },
     "execution_count": 31,
     "metadata": {},
     "output_type": "execute_result"
    }
   ],
   "source": [
    "##Another way to do this issss....\n",
    "torch.min(x), torch.max(x), torch.mean(x.type(torch.float32)), torch.sum(x)"
   ]
  },
  {
   "cell_type": "code",
   "execution_count": 32,
   "id": "8d9d7e28",
   "metadata": {
    "execution": {
     "iopub.execute_input": "2023-08-06T12:25:55.924122Z",
     "iopub.status.busy": "2023-08-06T12:25:55.923351Z",
     "iopub.status.idle": "2023-08-06T12:25:55.930530Z",
     "shell.execute_reply": "2023-08-06T12:25:55.929584Z"
    },
    "papermill": {
     "duration": 0.027736,
     "end_time": "2023-08-06T12:25:55.932664",
     "exception": false,
     "start_time": "2023-08-06T12:25:55.904928",
     "status": "completed"
    },
    "tags": []
   },
   "outputs": [
    {
     "data": {
      "text/plain": [
       "tensor([[0.2969, 0.8317],\n",
       "        [0.1053, 0.2695],\n",
       "        [0.3588, 0.1994],\n",
       "        [0.5472, 0.0062],\n",
       "        [0.9516, 0.0753],\n",
       "        [0.8860, 0.5832],\n",
       "        [0.3376, 0.8090],\n",
       "        [0.5779, 0.9040],\n",
       "        [0.5547, 0.3423],\n",
       "        [0.6343, 0.3644],\n",
       "        [0.7104, 0.9464],\n",
       "        [0.7890, 0.2814]])"
      ]
     },
     "execution_count": 32,
     "metadata": {},
     "output_type": "execute_result"
    }
   ],
   "source": [
    "##Now something to do with positional argument\n",
    "tensorr = torch.rand(12,2)\n",
    "tensorr"
   ]
  },
  {
   "cell_type": "code",
   "execution_count": 33,
   "id": "0f3904fc",
   "metadata": {
    "execution": {
     "iopub.execute_input": "2023-08-06T12:25:55.969891Z",
     "iopub.status.busy": "2023-08-06T12:25:55.969117Z",
     "iopub.status.idle": "2023-08-06T12:25:55.978390Z",
     "shell.execute_reply": "2023-08-06T12:25:55.977431Z"
    },
    "papermill": {
     "duration": 0.029835,
     "end_time": "2023-08-06T12:25:55.980331",
     "exception": false,
     "start_time": "2023-08-06T12:25:55.950496",
     "status": "completed"
    },
    "tags": []
   },
   "outputs": [
    {
     "data": {
      "text/plain": [
       "(tensor(8), tensor(7))"
      ]
     },
     "execution_count": 33,
     "metadata": {},
     "output_type": "execute_result"
    }
   ],
   "source": [
    "tensorr.argmax(), tensorr.argmin()"
   ]
  },
  {
   "cell_type": "code",
   "execution_count": 34,
   "id": "54cd28b3",
   "metadata": {
    "execution": {
     "iopub.execute_input": "2023-08-06T12:25:56.018022Z",
     "iopub.status.busy": "2023-08-06T12:25:56.017715Z",
     "iopub.status.idle": "2023-08-06T12:25:56.030007Z",
     "shell.execute_reply": "2023-08-06T12:25:56.028964Z"
    },
    "papermill": {
     "duration": 0.033802,
     "end_time": "2023-08-06T12:25:56.032044",
     "exception": false,
     "start_time": "2023-08-06T12:25:55.998242",
     "status": "completed"
    },
    "tags": []
   },
   "outputs": [
    {
     "name": "stdout",
     "output_type": "stream",
     "text": [
      "torch.float32\n"
     ]
    },
    {
     "data": {
      "text/plain": [
       "torch.float16"
      ]
     },
     "execution_count": 34,
     "metadata": {},
     "output_type": "execute_result"
    }
   ],
   "source": [
    "## to change tensor datatypes\n",
    "tensor = torch.arange(10.,100.,10.)\n",
    "print(tensor.dtype)\n",
    "tensor_16 = tensor.type(torch.float16)\n",
    "tensor_16.dtype"
   ]
  },
  {
   "cell_type": "code",
   "execution_count": 35,
   "id": "bc387a38",
   "metadata": {
    "execution": {
     "iopub.execute_input": "2023-08-06T12:25:56.069892Z",
     "iopub.status.busy": "2023-08-06T12:25:56.069604Z",
     "iopub.status.idle": "2023-08-06T12:25:56.077192Z",
     "shell.execute_reply": "2023-08-06T12:25:56.076228Z"
    },
    "papermill": {
     "duration": 0.028735,
     "end_time": "2023-08-06T12:25:56.079238",
     "exception": false,
     "start_time": "2023-08-06T12:25:56.050503",
     "status": "completed"
    },
    "tags": []
   },
   "outputs": [
    {
     "data": {
      "text/plain": [
       "(tensor([1., 2., 3., 4., 5., 6., 7.]), torch.Size([7]), 1)"
      ]
     },
     "execution_count": 35,
     "metadata": {},
     "output_type": "execute_result"
    }
   ],
   "source": [
    "##Reshaping , Stacking, squeezing, unsqueezing\n",
    "y = torch.arange(1.,8.)\n",
    "y, y.shape, y.ndim"
   ]
  },
  {
   "cell_type": "code",
   "execution_count": 36,
   "id": "4fc96efb",
   "metadata": {
    "execution": {
     "iopub.execute_input": "2023-08-06T12:25:56.116856Z",
     "iopub.status.busy": "2023-08-06T12:25:56.116538Z",
     "iopub.status.idle": "2023-08-06T12:25:56.123983Z",
     "shell.execute_reply": "2023-08-06T12:25:56.123048Z"
    },
    "papermill": {
     "duration": 0.028504,
     "end_time": "2023-08-06T12:25:56.125932",
     "exception": false,
     "start_time": "2023-08-06T12:25:56.097428",
     "status": "completed"
    },
    "tags": []
   },
   "outputs": [
    {
     "data": {
      "text/plain": [
       "(tensor([[1., 2., 3., 4., 5., 6., 7.]]), torch.Size([1, 7]), 2)"
      ]
     },
     "execution_count": 36,
     "metadata": {},
     "output_type": "execute_result"
    }
   ],
   "source": [
    "## (torch.reshape() )reshape adds a dimension to the current dimension of the tensor\n",
    "## in which it is applied\n",
    "y_reshaped = y.reshape(1,7)\n",
    "y_reshaped, y_reshaped.shape, y_reshaped.ndim"
   ]
  },
  {
   "cell_type": "code",
   "execution_count": 37,
   "id": "c9e014f4",
   "metadata": {
    "execution": {
     "iopub.execute_input": "2023-08-06T12:25:56.163795Z",
     "iopub.status.busy": "2023-08-06T12:25:56.163491Z",
     "iopub.status.idle": "2023-08-06T12:25:56.169963Z",
     "shell.execute_reply": "2023-08-06T12:25:56.169126Z"
    },
    "papermill": {
     "duration": 0.027576,
     "end_time": "2023-08-06T12:25:56.172015",
     "exception": false,
     "start_time": "2023-08-06T12:25:56.144439",
     "status": "completed"
    },
    "tags": []
   },
   "outputs": [
    {
     "data": {
      "text/plain": [
       "(tensor([[1., 2., 3., 4., 5., 6., 7.]]), torch.Size([1, 7]))"
      ]
     },
     "execution_count": 37,
     "metadata": {},
     "output_type": "execute_result"
    }
   ],
   "source": [
    "z = y.view(1,7)\n",
    "z, z.shape"
   ]
  },
  {
   "cell_type": "code",
   "execution_count": 38,
   "id": "836c16e8",
   "metadata": {
    "execution": {
     "iopub.execute_input": "2023-08-06T12:25:56.209814Z",
     "iopub.status.busy": "2023-08-06T12:25:56.209518Z",
     "iopub.status.idle": "2023-08-06T12:25:56.217309Z",
     "shell.execute_reply": "2023-08-06T12:25:56.216399Z"
    },
    "papermill": {
     "duration": 0.028954,
     "end_time": "2023-08-06T12:25:56.219262",
     "exception": false,
     "start_time": "2023-08-06T12:25:56.190308",
     "status": "completed"
    },
    "tags": []
   },
   "outputs": [
    {
     "data": {
      "text/plain": [
       "(tensor([[5., 2., 3., 4., 5., 6., 7.]]), tensor([5., 2., 3., 4., 5., 6., 7.]))"
      ]
     },
     "execution_count": 38,
     "metadata": {},
     "output_type": "execute_result"
    }
   ],
   "source": [
    "z[:,0] = 5\n",
    "z,y"
   ]
  },
  {
   "cell_type": "code",
   "execution_count": 39,
   "id": "05e51adc",
   "metadata": {
    "execution": {
     "iopub.execute_input": "2023-08-06T12:25:56.257805Z",
     "iopub.status.busy": "2023-08-06T12:25:56.257074Z",
     "iopub.status.idle": "2023-08-06T12:25:56.264927Z",
     "shell.execute_reply": "2023-08-06T12:25:56.264029Z"
    },
    "papermill": {
     "duration": 0.029021,
     "end_time": "2023-08-06T12:25:56.266824",
     "exception": false,
     "start_time": "2023-08-06T12:25:56.237803",
     "status": "completed"
    },
    "tags": []
   },
   "outputs": [
    {
     "data": {
      "text/plain": [
       "(tensor([[5., 5., 5., 5.],\n",
       "         [2., 2., 2., 2.],\n",
       "         [3., 3., 3., 3.],\n",
       "         [4., 4., 4., 4.],\n",
       "         [5., 5., 5., 5.],\n",
       "         [6., 6., 6., 6.],\n",
       "         [7., 7., 7., 7.]]),\n",
       " 2,\n",
       " torch.Size([7, 4]))"
      ]
     },
     "execution_count": 39,
     "metadata": {},
     "output_type": "execute_result"
    }
   ],
   "source": [
    "## dim=0 ====>> stacking on the top of each other\n",
    "## dim=0 ====>> Rows wise stacking\n",
    "## dim=1 ====>> taking transpose and then stacking column wise\n",
    "## dim=0 > Row and dim=1 > Column\n",
    "\n",
    "y_stacked = torch.stack([y,y,y,y], dim=1)\n",
    "y_stacked, y_stacked.ndim, y_stacked.shape"
   ]
  },
  {
   "cell_type": "code",
   "execution_count": 40,
   "id": "92e15b39",
   "metadata": {
    "execution": {
     "iopub.execute_input": "2023-08-06T12:25:56.305784Z",
     "iopub.status.busy": "2023-08-06T12:25:56.305034Z",
     "iopub.status.idle": "2023-08-06T12:25:56.311861Z",
     "shell.execute_reply": "2023-08-06T12:25:56.310914Z"
    },
    "papermill": {
     "duration": 0.028589,
     "end_time": "2023-08-06T12:25:56.314002",
     "exception": false,
     "start_time": "2023-08-06T12:25:56.285413",
     "status": "completed"
    },
    "tags": []
   },
   "outputs": [
    {
     "data": {
      "text/plain": [
       "(tensor([[5., 2., 3., 4., 5., 6., 7.]]), torch.Size([1, 7]), 2)"
      ]
     },
     "execution_count": 40,
     "metadata": {},
     "output_type": "execute_result"
    }
   ],
   "source": [
    "## Squeeze <> UnSqueeze\n",
    "## Squeeze removes one dimesion at a time\n",
    "## Unsqueeze adds an extra dimension\n",
    "y_reshaped, y_reshaped.shape, y_reshaped.ndim"
   ]
  },
  {
   "cell_type": "code",
   "execution_count": 41,
   "id": "b4c772f7",
   "metadata": {
    "execution": {
     "iopub.execute_input": "2023-08-06T12:25:56.354311Z",
     "iopub.status.busy": "2023-08-06T12:25:56.352647Z",
     "iopub.status.idle": "2023-08-06T12:25:56.360422Z",
     "shell.execute_reply": "2023-08-06T12:25:56.359461Z"
    },
    "papermill": {
     "duration": 0.0298,
     "end_time": "2023-08-06T12:25:56.362362",
     "exception": false,
     "start_time": "2023-08-06T12:25:56.332562",
     "status": "completed"
    },
    "tags": []
   },
   "outputs": [
    {
     "data": {
      "text/plain": [
       "(tensor([5., 2., 3., 4., 5., 6., 7.]), torch.Size([7]), 1)"
      ]
     },
     "execution_count": 41,
     "metadata": {},
     "output_type": "execute_result"
    }
   ],
   "source": [
    "y1 = y_reshaped.squeeze()\n",
    "y1, y1.shape, y1.ndim"
   ]
  },
  {
   "cell_type": "code",
   "execution_count": 42,
   "id": "654178fc",
   "metadata": {
    "execution": {
     "iopub.execute_input": "2023-08-06T12:25:56.402499Z",
     "iopub.status.busy": "2023-08-06T12:25:56.401505Z",
     "iopub.status.idle": "2023-08-06T12:25:56.410058Z",
     "shell.execute_reply": "2023-08-06T12:25:56.409103Z"
    },
    "papermill": {
     "duration": 0.030734,
     "end_time": "2023-08-06T12:25:56.412008",
     "exception": false,
     "start_time": "2023-08-06T12:25:56.381274",
     "status": "completed"
    },
    "tags": []
   },
   "outputs": [
    {
     "data": {
      "text/plain": [
       "(tensor([[5., 2., 3., 4., 5., 6., 7.]]), torch.Size([1, 7]), 2)"
      ]
     },
     "execution_count": 42,
     "metadata": {},
     "output_type": "execute_result"
    }
   ],
   "source": [
    "y2 = y1.unsqueeze(dim =0) # requires positional arg as to where to Row/col\n",
    "y2, y2.shape, y2.ndim\n",
    "# y2 == y_reshaped\n"
   ]
  },
  {
   "cell_type": "code",
   "execution_count": 43,
   "id": "2d60f659",
   "metadata": {
    "execution": {
     "iopub.execute_input": "2023-08-06T12:25:56.453021Z",
     "iopub.status.busy": "2023-08-06T12:25:56.452661Z",
     "iopub.status.idle": "2023-08-06T12:25:56.460625Z",
     "shell.execute_reply": "2023-08-06T12:25:56.459323Z"
    },
    "papermill": {
     "duration": 0.031519,
     "end_time": "2023-08-06T12:25:56.462636",
     "exception": false,
     "start_time": "2023-08-06T12:25:56.431117",
     "status": "completed"
    },
    "tags": []
   },
   "outputs": [
    {
     "name": "stdout",
     "output_type": "stream",
     "text": [
      "torch.Size([224, 224, 3])\n",
      "torch.Size([224, 224, 3])\n"
     ]
    }
   ],
   "source": [
    "## Rearrange the order of Axes\n",
    "x_original = torch.rand(size=(224,224,3))\n",
    "x_permuted = x_original.permute(0,1,2)\n",
    "print(x_original.shape)\n",
    "print(x_permuted.shape)"
   ]
  },
  {
   "cell_type": "code",
   "execution_count": 44,
   "id": "886bb86c",
   "metadata": {
    "execution": {
     "iopub.execute_input": "2023-08-06T12:25:56.502863Z",
     "iopub.status.busy": "2023-08-06T12:25:56.502067Z",
     "iopub.status.idle": "2023-08-06T12:25:56.511102Z",
     "shell.execute_reply": "2023-08-06T12:25:56.510203Z"
    },
    "papermill": {
     "duration": 0.031333,
     "end_time": "2023-08-06T12:25:56.513220",
     "exception": false,
     "start_time": "2023-08-06T12:25:56.481887",
     "status": "completed"
    },
    "tags": []
   },
   "outputs": [
    {
     "data": {
      "text/plain": [
       "(tensor([1, 2, 3, 4, 5, 6, 7, 8, 9]),\n",
       " torch.Size([9]),\n",
       " 1,\n",
       " tensor([[1, 2, 3, 4, 5, 6, 7, 8, 9]]),\n",
       " torch.Size([1, 9]),\n",
       " 2,\n",
       " tensor([[[1, 2, 3],\n",
       "          [4, 5, 6],\n",
       "          [7, 8, 9]]]),\n",
       " torch.Size([1, 3, 3]),\n",
       " 3)"
      ]
     },
     "execution_count": 44,
     "metadata": {},
     "output_type": "execute_result"
    }
   ],
   "source": [
    "##Indexing\n",
    "x = torch.arange(1,10).reshape(1,3,3)\n",
    "x\n",
    "# try reshape(9), reshape(1,9), reshape(1,3,3)\n",
    "x1 = x.reshape(9)\n",
    "x2 = x.reshape(1,9)\n",
    "x3 = x.reshape(1,3,3)\n",
    "x1,x1.shape,x1.ndim,x2,x2.shape,x2.ndim,x3,x3.shape, x3.ndim\n",
    "## did you see the connection !!"
   ]
  },
  {
   "cell_type": "code",
   "execution_count": 45,
   "id": "3d6f7739",
   "metadata": {
    "execution": {
     "iopub.execute_input": "2023-08-06T12:25:56.557029Z",
     "iopub.status.busy": "2023-08-06T12:25:56.556208Z",
     "iopub.status.idle": "2023-08-06T12:25:56.563757Z",
     "shell.execute_reply": "2023-08-06T12:25:56.562844Z"
    },
    "papermill": {
     "duration": 0.033424,
     "end_time": "2023-08-06T12:25:56.565699",
     "exception": false,
     "start_time": "2023-08-06T12:25:56.532275",
     "status": "completed"
    },
    "tags": []
   },
   "outputs": [
    {
     "data": {
      "text/plain": [
       "(tensor([[1, 2, 3]]), tensor([5]), tensor([[2, 5, 8]]), tensor([1, 2, 3]))"
      ]
     },
     "execution_count": 45,
     "metadata": {},
     "output_type": "execute_result"
    }
   ],
   "source": [
    "x[:,0], x[:,1,1], x[:,:,1],x[0,0,:]"
   ]
  },
  {
   "cell_type": "code",
   "execution_count": 46,
   "id": "d92f83b3",
   "metadata": {
    "execution": {
     "iopub.execute_input": "2023-08-06T12:25:56.606389Z",
     "iopub.status.busy": "2023-08-06T12:25:56.605662Z",
     "iopub.status.idle": "2023-08-06T12:25:56.610071Z",
     "shell.execute_reply": "2023-08-06T12:25:56.609247Z"
    },
    "papermill": {
     "duration": 0.026442,
     "end_time": "2023-08-06T12:25:56.612038",
     "exception": false,
     "start_time": "2023-08-06T12:25:56.585596",
     "status": "completed"
    },
    "tags": []
   },
   "outputs": [],
   "source": [
    "\n",
    "import numpy as np"
   ]
  },
  {
   "cell_type": "code",
   "execution_count": 47,
   "id": "8adb49e9",
   "metadata": {
    "execution": {
     "iopub.execute_input": "2023-08-06T12:25:56.652207Z",
     "iopub.status.busy": "2023-08-06T12:25:56.651358Z",
     "iopub.status.idle": "2023-08-06T12:25:56.661148Z",
     "shell.execute_reply": "2023-08-06T12:25:56.660260Z"
    },
    "papermill": {
     "duration": 0.031824,
     "end_time": "2023-08-06T12:25:56.663061",
     "exception": false,
     "start_time": "2023-08-06T12:25:56.631237",
     "status": "completed"
    },
    "tags": []
   },
   "outputs": [
    {
     "data": {
      "text/plain": [
       "(array([1., 2., 3., 4., 5., 6., 7.]),\n",
       " tensor([1., 2., 3., 4., 5., 6., 7.], dtype=torch.float64),\n",
       " array([2., 3., 4., 5., 6., 7., 8.]),\n",
       " tensor([2., 3., 4., 5., 6., 7., 8.], dtype=torch.float64))"
      ]
     },
     "execution_count": 47,
     "metadata": {},
     "output_type": "execute_result"
    }
   ],
   "source": [
    "ara = np.arange(1.0,8.0)\n",
    "ten = torch.from_numpy(ara)\n",
    "ara, ten, ara+1, ten+1"
   ]
  },
  {
   "cell_type": "code",
   "execution_count": 48,
   "id": "4010a553",
   "metadata": {
    "execution": {
     "iopub.execute_input": "2023-08-06T12:25:56.703766Z",
     "iopub.status.busy": "2023-08-06T12:25:56.703023Z",
     "iopub.status.idle": "2023-08-06T12:25:56.709504Z",
     "shell.execute_reply": "2023-08-06T12:25:56.708577Z"
    },
    "papermill": {
     "duration": 0.028671,
     "end_time": "2023-08-06T12:25:56.711443",
     "exception": false,
     "start_time": "2023-08-06T12:25:56.682772",
     "status": "completed"
    },
    "tags": []
   },
   "outputs": [
    {
     "data": {
      "text/plain": [
       "array([1., 2., 3., 4., 5., 6., 7.])"
      ]
     },
     "execution_count": 48,
     "metadata": {},
     "output_type": "execute_result"
    }
   ],
   "source": [
    "arat = ten.numpy()\n",
    "arat"
   ]
  },
  {
   "cell_type": "code",
   "execution_count": 49,
   "id": "8da3132e",
   "metadata": {
    "execution": {
     "iopub.execute_input": "2023-08-06T12:25:56.752791Z",
     "iopub.status.busy": "2023-08-06T12:25:56.751739Z",
     "iopub.status.idle": "2023-08-06T12:25:57.771764Z",
     "shell.execute_reply": "2023-08-06T12:25:57.770534Z"
    },
    "papermill": {
     "duration": 1.043087,
     "end_time": "2023-08-06T12:25:57.774311",
     "exception": false,
     "start_time": "2023-08-06T12:25:56.731224",
     "status": "completed"
    },
    "tags": []
   },
   "outputs": [
    {
     "name": "stdout",
     "output_type": "stream",
     "text": [
      "Sun Aug  6 12:25:57 2023       \r\n",
      "+-----------------------------------------------------------------------------+\r\n",
      "| NVIDIA-SMI 470.161.03   Driver Version: 470.161.03   CUDA Version: 11.4     |\r\n",
      "|-------------------------------+----------------------+----------------------+\r\n",
      "| GPU  Name        Persistence-M| Bus-Id        Disp.A | Volatile Uncorr. ECC |\r\n",
      "| Fan  Temp  Perf  Pwr:Usage/Cap|         Memory-Usage | GPU-Util  Compute M. |\r\n",
      "|                               |                      |               MIG M. |\r\n",
      "|===============================+======================+======================|\r\n",
      "|   0  Tesla P100-PCIE...  Off  | 00000000:00:04.0 Off |                    0 |\r\n",
      "| N/A   35C    P0    26W / 250W |      0MiB / 16280MiB |      0%      Default |\r\n",
      "|                               |                      |                  N/A |\r\n",
      "+-------------------------------+----------------------+----------------------+\r\n",
      "                                                                               \r\n",
      "+-----------------------------------------------------------------------------+\r\n",
      "| Processes:                                                                  |\r\n",
      "|  GPU   GI   CI        PID   Type   Process name                  GPU Memory |\r\n",
      "|        ID   ID                                                   Usage      |\r\n",
      "|=============================================================================|\r\n",
      "|  No running processes found                                                 |\r\n",
      "+-----------------------------------------------------------------------------+\r\n"
     ]
    }
   ],
   "source": [
    "!nvidia-smi"
   ]
  },
  {
   "cell_type": "code",
   "execution_count": 50,
   "id": "9ed00708",
   "metadata": {
    "execution": {
     "iopub.execute_input": "2023-08-06T12:25:57.815912Z",
     "iopub.status.busy": "2023-08-06T12:25:57.815562Z",
     "iopub.status.idle": "2023-08-06T12:25:57.888564Z",
     "shell.execute_reply": "2023-08-06T12:25:57.887617Z"
    },
    "papermill": {
     "duration": 0.095965,
     "end_time": "2023-08-06T12:25:57.890668",
     "exception": false,
     "start_time": "2023-08-06T12:25:57.794703",
     "status": "completed"
    },
    "tags": []
   },
   "outputs": [
    {
     "data": {
      "text/plain": [
       "True"
      ]
     },
     "execution_count": 50,
     "metadata": {},
     "output_type": "execute_result"
    }
   ],
   "source": [
    "torch.cuda.is_available()"
   ]
  },
  {
   "cell_type": "code",
   "execution_count": 51,
   "id": "876843e0",
   "metadata": {
    "execution": {
     "iopub.execute_input": "2023-08-06T12:25:57.931422Z",
     "iopub.status.busy": "2023-08-06T12:25:57.931117Z",
     "iopub.status.idle": "2023-08-06T12:25:57.935564Z",
     "shell.execute_reply": "2023-08-06T12:25:57.934618Z"
    },
    "papermill": {
     "duration": 0.027099,
     "end_time": "2023-08-06T12:25:57.937567",
     "exception": false,
     "start_time": "2023-08-06T12:25:57.910468",
     "status": "completed"
    },
    "tags": []
   },
   "outputs": [],
   "source": [
    "device = \"cuda\" if torch.cuda.is_available() else \"cpu\"\n"
   ]
  },
  {
   "cell_type": "code",
   "execution_count": 52,
   "id": "41760582",
   "metadata": {
    "execution": {
     "iopub.execute_input": "2023-08-06T12:25:57.978705Z",
     "iopub.status.busy": "2023-08-06T12:25:57.977873Z",
     "iopub.status.idle": "2023-08-06T12:25:58.002121Z",
     "shell.execute_reply": "2023-08-06T12:25:58.001051Z"
    },
    "papermill": {
     "duration": 0.047049,
     "end_time": "2023-08-06T12:25:58.004444",
     "exception": false,
     "start_time": "2023-08-06T12:25:57.957395",
     "status": "completed"
    },
    "tags": []
   },
   "outputs": [
    {
     "data": {
      "text/plain": [
       "('cuda', 1)"
      ]
     },
     "execution_count": 52,
     "metadata": {},
     "output_type": "execute_result"
    }
   ],
   "source": [
    "device, torch.cuda.device_count()"
   ]
  },
  {
   "cell_type": "code",
   "execution_count": 53,
   "id": "83bba36e",
   "metadata": {
    "execution": {
     "iopub.execute_input": "2023-08-06T12:25:58.045415Z",
     "iopub.status.busy": "2023-08-06T12:25:58.045135Z",
     "iopub.status.idle": "2023-08-06T12:26:01.052675Z",
     "shell.execute_reply": "2023-08-06T12:26:01.051488Z"
    },
    "papermill": {
     "duration": 3.030582,
     "end_time": "2023-08-06T12:26:01.054966",
     "exception": false,
     "start_time": "2023-08-06T12:25:58.024384",
     "status": "completed"
    },
    "tags": []
   },
   "outputs": [
    {
     "data": {
      "text/plain": [
       "tensor([1., 2., 3., 4., 5., 6., 7.], device='cuda:0', dtype=torch.float64)"
      ]
     },
     "execution_count": 53,
     "metadata": {},
     "output_type": "execute_result"
    }
   ],
   "source": [
    "ten.to(device)"
   ]
  },
  {
   "cell_type": "code",
   "execution_count": 54,
   "id": "73d3453a",
   "metadata": {
    "execution": {
     "iopub.execute_input": "2023-08-06T12:26:01.100580Z",
     "iopub.status.busy": "2023-08-06T12:26:01.100243Z",
     "iopub.status.idle": "2023-08-06T12:26:01.108654Z",
     "shell.execute_reply": "2023-08-06T12:26:01.107619Z"
    },
    "papermill": {
     "duration": 0.034345,
     "end_time": "2023-08-06T12:26:01.111070",
     "exception": false,
     "start_time": "2023-08-06T12:26:01.076725",
     "status": "completed"
    },
    "tags": []
   },
   "outputs": [
    {
     "data": {
      "text/plain": [
       "array([1., 2., 3., 4., 5., 6., 7.])"
      ]
     },
     "execution_count": 54,
     "metadata": {},
     "output_type": "execute_result"
    }
   ],
   "source": [
    "ten.cpu().numpy()"
   ]
  },
  {
   "cell_type": "code",
   "execution_count": 55,
   "id": "ff019dc0",
   "metadata": {
    "execution": {
     "iopub.execute_input": "2023-08-06T12:26:01.156327Z",
     "iopub.status.busy": "2023-08-06T12:26:01.156044Z",
     "iopub.status.idle": "2023-08-06T12:26:01.163091Z",
     "shell.execute_reply": "2023-08-06T12:26:01.162088Z"
    },
    "papermill": {
     "duration": 0.030772,
     "end_time": "2023-08-06T12:26:01.165288",
     "exception": false,
     "start_time": "2023-08-06T12:26:01.134516",
     "status": "completed"
    },
    "tags": []
   },
   "outputs": [
    {
     "data": {
      "text/plain": [
       "tensor([1., 2., 3., 4., 5., 6., 7.], dtype=torch.float64)"
      ]
     },
     "execution_count": 55,
     "metadata": {},
     "output_type": "execute_result"
    }
   ],
   "source": [
    "ten"
   ]
  },
  {
   "cell_type": "code",
   "execution_count": null,
   "id": "dd8e2cd2",
   "metadata": {
    "papermill": {
     "duration": 0.020146,
     "end_time": "2023-08-06T12:26:01.205432",
     "exception": false,
     "start_time": "2023-08-06T12:26:01.185286",
     "status": "completed"
    },
    "tags": []
   },
   "outputs": [],
   "source": []
  }
 ],
 "metadata": {
  "kernelspec": {
   "display_name": "Python 3",
   "language": "python",
   "name": "python3"
  },
  "language_info": {
   "codemirror_mode": {
    "name": "ipython",
    "version": 3
   },
   "file_extension": ".py",
   "mimetype": "text/x-python",
   "name": "python",
   "nbconvert_exporter": "python",
   "pygments_lexer": "ipython3",
   "version": "3.10.12"
  },
  "papermill": {
   "default_parameters": {},
   "duration": 22.367964,
   "end_time": "2023-08-06T12:26:02.949888",
   "environment_variables": {},
   "exception": null,
   "input_path": "__notebook__.ipynb",
   "output_path": "__notebook__.ipynb",
   "parameters": {},
   "start_time": "2023-08-06T12:25:40.581924",
   "version": "2.4.0"
  }
 },
 "nbformat": 4,
 "nbformat_minor": 5
}
