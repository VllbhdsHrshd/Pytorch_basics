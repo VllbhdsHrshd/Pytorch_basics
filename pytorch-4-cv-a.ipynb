{
 "cells": [
  {
   "cell_type": "code",
   "execution_count": 1,
   "id": "8a734a8c",
   "metadata": {
    "_cell_guid": "b1076dfc-b9ad-4769-8c92-a6c4dae69d19",
    "_uuid": "8f2839f25d086af736a60e9eeb907d3b93b6e0e5",
    "execution": {
     "iopub.execute_input": "2023-08-09T18:45:22.244651Z",
     "iopub.status.busy": "2023-08-09T18:45:22.244155Z",
     "iopub.status.idle": "2023-08-09T18:45:22.249151Z",
     "shell.execute_reply": "2023-08-09T18:45:22.248283Z"
    },
    "papermill": {
     "duration": 0.01953,
     "end_time": "2023-08-09T18:45:22.253025",
     "exception": false,
     "start_time": "2023-08-09T18:45:22.233495",
     "status": "completed"
    },
    "tags": []
   },
   "outputs": [],
   "source": [
    "## so its our favourite application area in DL \n",
    "## HIp hip hooray make way for CV"
   ]
  },
  {
   "cell_type": "raw",
   "id": "f489f0a2",
   "metadata": {
    "papermill": {
     "duration": 0.008442,
     "end_time": "2023-08-09T18:45:22.270380",
     "exception": false,
     "start_time": "2023-08-09T18:45:22.261938",
     "status": "completed"
    },
    "tags": []
   },
   "source": [
    "Lets get familiar with the pytorch framework w/ CV P.O.V"
   ]
  },
  {
   "cell_type": "code",
   "execution_count": 2,
   "id": "e83143ad",
   "metadata": {
    "execution": {
     "iopub.execute_input": "2023-08-09T18:45:22.288624Z",
     "iopub.status.busy": "2023-08-09T18:45:22.288367Z",
     "iopub.status.idle": "2023-08-09T18:45:22.292719Z",
     "shell.execute_reply": "2023-08-09T18:45:22.291607Z"
    },
    "papermill": {
     "duration": 0.015834,
     "end_time": "2023-08-09T18:45:22.294743",
     "exception": false,
     "start_time": "2023-08-09T18:45:22.278909",
     "status": "completed"
    },
    "tags": []
   },
   "outputs": [],
   "source": [
    "## typical workflow for CV\n",
    "## Import cv pytorch libs\n",
    "## load data[ibuilt/custom]\n",
    "## preprocess \n",
    "## model building\n",
    "## making predictions[w/ baseline model]\n",
    "## setup generic reusable code for future work\n",
    "## improve model\n",
    "## Add Non Linearity+CNN+etc..\n",
    "## Compare which model performed well\n",
    "## Evaluate the  results with the help of Confusion matrix\n",
    "## saving and loading the best model\n",
    "## Depending on the work some of the steps mentioned above \n",
    "## can be omitted without the loss of generality\n",
    "\n"
   ]
  },
  {
   "cell_type": "code",
   "execution_count": 3,
   "id": "145c419e",
   "metadata": {
    "execution": {
     "iopub.execute_input": "2023-08-09T18:45:22.313079Z",
     "iopub.status.busy": "2023-08-09T18:45:22.312825Z",
     "iopub.status.idle": "2023-08-09T18:45:22.317686Z",
     "shell.execute_reply": "2023-08-09T18:45:22.316863Z"
    },
    "papermill": {
     "duration": 0.016412,
     "end_time": "2023-08-09T18:45:22.319856",
     "exception": false,
     "start_time": "2023-08-09T18:45:22.303444",
     "status": "completed"
    },
    "tags": []
   },
   "outputs": [],
   "source": [
    "## CV pytorch Libs includes\n",
    "## torchvision. -> torchvision.models\n",
    "## for datasets[inbuilt] purpose\n",
    "## torch.util.data.datasets or torchvision.datasets\n",
    "## Transformation -> torchvision.transforms\n",
    "## Ok we'll get to know it better in due course of time\n",
    "## So lets get started\n"
   ]
  },
  {
   "cell_type": "code",
   "execution_count": 4,
   "id": "d34241ec",
   "metadata": {
    "execution": {
     "iopub.execute_input": "2023-08-09T18:45:22.338122Z",
     "iopub.status.busy": "2023-08-09T18:45:22.337870Z",
     "iopub.status.idle": "2023-08-09T18:45:25.999362Z",
     "shell.execute_reply": "2023-08-09T18:45:25.998377Z"
    },
    "papermill": {
     "duration": 3.673321,
     "end_time": "2023-08-09T18:45:26.001737",
     "exception": false,
     "start_time": "2023-08-09T18:45:22.328416",
     "status": "completed"
    },
    "tags": []
   },
   "outputs": [],
   "source": [
    "## importing libs\n",
    "import torch\n",
    "from torch import nn\n",
    "import torchvision\n",
    "from torchvision import datasets\n",
    "from torchvision.transforms import ToTensor\n",
    "import matplotlib.pyplot as plt\n",
    "## checking"
   ]
  },
  {
   "cell_type": "code",
   "execution_count": 5,
   "id": "1c317736",
   "metadata": {
    "execution": {
     "iopub.execute_input": "2023-08-09T18:45:26.022238Z",
     "iopub.status.busy": "2023-08-09T18:45:26.020590Z",
     "iopub.status.idle": "2023-08-09T18:45:26.028224Z",
     "shell.execute_reply": "2023-08-09T18:45:26.027350Z"
    },
    "papermill": {
     "duration": 0.01966,
     "end_time": "2023-08-09T18:45:26.030303",
     "exception": false,
     "start_time": "2023-08-09T18:45:26.010643",
     "status": "completed"
    },
    "tags": []
   },
   "outputs": [
    {
     "data": {
      "text/plain": [
       "('0.15.1', '2.0.0')"
      ]
     },
     "execution_count": 5,
     "metadata": {},
     "output_type": "execute_result"
    }
   ],
   "source": [
    "torchvision.__version__, torch.__version__"
   ]
  },
  {
   "cell_type": "code",
   "execution_count": 6,
   "id": "9b04810b",
   "metadata": {
    "execution": {
     "iopub.execute_input": "2023-08-09T18:45:26.048756Z",
     "iopub.status.busy": "2023-08-09T18:45:26.048491Z",
     "iopub.status.idle": "2023-08-09T18:45:32.699527Z",
     "shell.execute_reply": "2023-08-09T18:45:32.698386Z"
    },
    "papermill": {
     "duration": 6.663077,
     "end_time": "2023-08-09T18:45:32.702013",
     "exception": false,
     "start_time": "2023-08-09T18:45:26.038936",
     "status": "completed"
    },
    "tags": []
   },
   "outputs": [
    {
     "name": "stdout",
     "output_type": "stream",
     "text": [
      "Downloading http://fashion-mnist.s3-website.eu-central-1.amazonaws.com/train-images-idx3-ubyte.gz\n",
      "Downloading http://fashion-mnist.s3-website.eu-central-1.amazonaws.com/train-images-idx3-ubyte.gz to data/FashionMNIST/raw/train-images-idx3-ubyte.gz\n"
     ]
    },
    {
     "name": "stderr",
     "output_type": "stream",
     "text": [
      "100%|██████████| 26421880/26421880 [00:02<00:00, 12320009.94it/s]\n"
     ]
    },
    {
     "name": "stdout",
     "output_type": "stream",
     "text": [
      "Extracting data/FashionMNIST/raw/train-images-idx3-ubyte.gz to data/FashionMNIST/raw\n",
      "\n",
      "Downloading http://fashion-mnist.s3-website.eu-central-1.amazonaws.com/train-labels-idx1-ubyte.gz\n",
      "Downloading http://fashion-mnist.s3-website.eu-central-1.amazonaws.com/train-labels-idx1-ubyte.gz to data/FashionMNIST/raw/train-labels-idx1-ubyte.gz\n"
     ]
    },
    {
     "name": "stderr",
     "output_type": "stream",
     "text": [
      "100%|██████████| 29515/29515 [00:00<00:00, 210091.39it/s]\n"
     ]
    },
    {
     "name": "stdout",
     "output_type": "stream",
     "text": [
      "Extracting data/FashionMNIST/raw/train-labels-idx1-ubyte.gz to data/FashionMNIST/raw\n",
      "\n",
      "Downloading http://fashion-mnist.s3-website.eu-central-1.amazonaws.com/t10k-images-idx3-ubyte.gz\n",
      "Downloading http://fashion-mnist.s3-website.eu-central-1.amazonaws.com/t10k-images-idx3-ubyte.gz to data/FashionMNIST/raw/t10k-images-idx3-ubyte.gz\n"
     ]
    },
    {
     "name": "stderr",
     "output_type": "stream",
     "text": [
      "100%|██████████| 4422102/4422102 [00:01<00:00, 3940431.81it/s]\n"
     ]
    },
    {
     "name": "stdout",
     "output_type": "stream",
     "text": [
      "Extracting data/FashionMNIST/raw/t10k-images-idx3-ubyte.gz to data/FashionMNIST/raw\n",
      "\n",
      "Downloading http://fashion-mnist.s3-website.eu-central-1.amazonaws.com/t10k-labels-idx1-ubyte.gz\n",
      "Downloading http://fashion-mnist.s3-website.eu-central-1.amazonaws.com/t10k-labels-idx1-ubyte.gz to data/FashionMNIST/raw/t10k-labels-idx1-ubyte.gz\n"
     ]
    },
    {
     "name": "stderr",
     "output_type": "stream",
     "text": [
      "100%|██████████| 5148/5148 [00:00<00:00, 3549026.46it/s]"
     ]
    },
    {
     "name": "stdout",
     "output_type": "stream",
     "text": [
      "Extracting data/FashionMNIST/raw/t10k-labels-idx1-ubyte.gz to data/FashionMNIST/raw\n",
      "\n"
     ]
    },
    {
     "name": "stderr",
     "output_type": "stream",
     "text": [
      "\n"
     ]
    }
   ],
   "source": [
    "## Lets start with inbuilt dataset such as FshionMNIST\n",
    "train_data = datasets.FashionMNIST(\n",
    "root = \"data\",## path to downloaded data\n",
    "train=True, ## getting train data\n",
    "download = True, ## download if it doesn't exist\n",
    "transform=ToTensor(),## format of Image PIL hence convert to tensor format\n",
    "target_transform = None ## we'll see this one later..)\n",
    ")\n",
    "    \n",
    "\n",
    "    "
   ]
  },
  {
   "cell_type": "code",
   "execution_count": 7,
   "id": "d958aad6",
   "metadata": {
    "execution": {
     "iopub.execute_input": "2023-08-09T18:45:32.728102Z",
     "iopub.status.busy": "2023-08-09T18:45:32.727274Z",
     "iopub.status.idle": "2023-08-09T18:45:32.741076Z",
     "shell.execute_reply": "2023-08-09T18:45:32.740224Z"
    },
    "papermill": {
     "duration": 0.028775,
     "end_time": "2023-08-09T18:45:32.743084",
     "exception": false,
     "start_time": "2023-08-09T18:45:32.714309",
     "status": "completed"
    },
    "tags": []
   },
   "outputs": [],
   "source": [
    "## seting up tets data\n",
    "test_data = datasets.FashionMNIST(\n",
    "root=\"data\",\n",
    "train=False,\n",
    "download=True,\n",
    "transform=ToTensor()\n",
    ")"
   ]
  },
  {
   "cell_type": "code",
   "execution_count": 8,
   "id": "80a261bc",
   "metadata": {
    "execution": {
     "iopub.execute_input": "2023-08-09T18:45:32.769075Z",
     "iopub.status.busy": "2023-08-09T18:45:32.768220Z",
     "iopub.status.idle": "2023-08-09T18:45:32.794279Z",
     "shell.execute_reply": "2023-08-09T18:45:32.793243Z"
    },
    "papermill": {
     "duration": 0.041014,
     "end_time": "2023-08-09T18:45:32.796424",
     "exception": false,
     "start_time": "2023-08-09T18:45:32.755410",
     "status": "completed"
    },
    "tags": []
   },
   "outputs": [
    {
     "data": {
      "text/plain": [
       "(torch.Size([1, 28, 28]), 1, 9)"
      ]
     },
     "execution_count": 8,
     "metadata": {},
     "output_type": "execute_result"
    }
   ],
   "source": [
    "## lets check the downloaded data\n",
    "image , label = train_data[0]\n",
    "image.shape,  len(image), label"
   ]
  },
  {
   "cell_type": "code",
   "execution_count": 9,
   "id": "392ad3c7",
   "metadata": {
    "execution": {
     "iopub.execute_input": "2023-08-09T18:45:32.822125Z",
     "iopub.status.busy": "2023-08-09T18:45:32.821855Z",
     "iopub.status.idle": "2023-08-09T18:45:32.828206Z",
     "shell.execute_reply": "2023-08-09T18:45:32.827384Z"
    },
    "papermill": {
     "duration": 0.021446,
     "end_time": "2023-08-09T18:45:32.830217",
     "exception": false,
     "start_time": "2023-08-09T18:45:32.808771",
     "status": "completed"
    },
    "tags": []
   },
   "outputs": [
    {
     "data": {
      "text/plain": [
       "(60000, 60000, 10000, 10000)"
      ]
     },
     "execution_count": 9,
     "metadata": {},
     "output_type": "execute_result"
    }
   ],
   "source": [
    "## so the dataset got a total of 9 labels\n",
    "## hence its going to be a multi class classification problem\n",
    "## [1,28,28] -> [nos channel, height, width] -> monochrome[greyscale] images of dimension 28x28\n",
    "## other format includes ->> [N,C,H,W] -> [batchsize/nos of images, nos of channel, height, width]\n",
    "## the best practice is [NHWC]\n",
    "\n",
    "## okay lets check the number of images\n",
    "len(train_data.data), len(train_data.targets), len(test_data.data), len(test_data.targets)\n",
    "\n"
   ]
  },
  {
   "cell_type": "code",
   "execution_count": 10,
   "id": "4a992e6b",
   "metadata": {
    "execution": {
     "iopub.execute_input": "2023-08-09T18:45:32.856014Z",
     "iopub.status.busy": "2023-08-09T18:45:32.855758Z",
     "iopub.status.idle": "2023-08-09T18:45:32.861558Z",
     "shell.execute_reply": "2023-08-09T18:45:32.860708Z"
    },
    "papermill": {
     "duration": 0.020898,
     "end_time": "2023-08-09T18:45:32.863397",
     "exception": false,
     "start_time": "2023-08-09T18:45:32.842499",
     "status": "completed"
    },
    "tags": []
   },
   "outputs": [
    {
     "data": {
      "text/plain": [
       "['T-shirt/top',\n",
       " 'Trouser',\n",
       " 'Pullover',\n",
       " 'Dress',\n",
       " 'Coat',\n",
       " 'Sandal',\n",
       " 'Shirt',\n",
       " 'Sneaker',\n",
       " 'Bag',\n",
       " 'Ankle boot']"
      ]
     },
     "execution_count": 10,
     "metadata": {},
     "output_type": "execute_result"
    }
   ],
   "source": [
    "## okay so what are those classes\n",
    "class_type = train_data.classes\n",
    "class_type"
   ]
  },
  {
   "cell_type": "code",
   "execution_count": 11,
   "id": "4cbb9332",
   "metadata": {
    "execution": {
     "iopub.execute_input": "2023-08-09T18:45:32.889880Z",
     "iopub.status.busy": "2023-08-09T18:45:32.889062Z",
     "iopub.status.idle": "2023-08-09T18:45:33.208357Z",
     "shell.execute_reply": "2023-08-09T18:45:33.207270Z"
    },
    "papermill": {
     "duration": 0.33452,
     "end_time": "2023-08-09T18:45:33.210483",
     "exception": false,
     "start_time": "2023-08-09T18:45:32.875963",
     "status": "completed"
    },
    "tags": []
   },
   "outputs": [
    {
     "name": "stdout",
     "output_type": "stream",
     "text": [
      "Image shape _torch.Size([1, 28, 28])\n"
     ]
    },
    {
     "data": {
      "text/plain": [
       "Text(0.5, 1.0, '9')"
      ]
     },
     "execution_count": 11,
     "metadata": {},
     "output_type": "execute_result"
    },
    {
     "data": {
      "image/png": "[encoded data removed]",
      "text/plain": [
       "<Figure size 640x480 with 1 Axes>"
      ]
     },
     "metadata": {},
     "output_type": "display_data"
    }
   ],
   "source": [
    "## so how does those data appears to be\n",
    "image , label = train_data[0]\n",
    "print(f\"Image shape _{image.shape}\")\n",
    "plt.imshow(image.squeeze())\n",
    "plt.title(label)"
   ]
  },
  {
   "cell_type": "code",
   "execution_count": 12,
   "id": "ed244800",
   "metadata": {
    "execution": {
     "iopub.execute_input": "2023-08-09T18:45:33.238668Z",
     "iopub.status.busy": "2023-08-09T18:45:33.238093Z",
     "iopub.status.idle": "2023-08-09T18:45:33.524286Z",
     "shell.execute_reply": "2023-08-09T18:45:33.523357Z"
    },
    "papermill": {
     "duration": 0.3027,
     "end_time": "2023-08-09T18:45:33.526535",
     "exception": false,
     "start_time": "2023-08-09T18:45:33.223835",
     "status": "completed"
    },
    "tags": []
   },
   "outputs": [
    {
     "data": {
      "text/plain": [
       "Text(0.5, 1.0, 'Ankle boot')"
      ]
     },
     "execution_count": 12,
     "metadata": {},
     "output_type": "execute_result"
    },
    {
     "data": {
      "image/png": "[encoded data removed]",
      "text/plain": [
       "<Figure size 640x480 with 1 Axes>"
      ]
     },
     "metadata": {},
     "output_type": "display_data"
    }
   ],
   "source": [
    "## Greyscale???\n",
    "plt.imshow(image.squeeze(), cmap = \"gray\")\n",
    "plt.title(class_type[label])"
   ]
  },
  {
   "cell_type": "code",
   "execution_count": 13,
   "id": "73d29fc0",
   "metadata": {
    "execution": {
     "iopub.execute_input": "2023-08-09T18:45:33.555137Z",
     "iopub.status.busy": "2023-08-09T18:45:33.554827Z",
     "iopub.status.idle": "2023-08-09T18:45:34.610165Z",
     "shell.execute_reply": "2023-08-09T18:45:34.609237Z"
    },
    "papermill": {
     "duration": 1.072128,
     "end_time": "2023-08-09T18:45:34.612557",
     "exception": false,
     "start_time": "2023-08-09T18:45:33.540429",
     "status": "completed"
    },
    "tags": []
   },
   "outputs": [
    {
     "data": {
      "image/png": "[encoded data removed]",
      "text/plain": [
       "<Figure size 900x900 with 16 Axes>"
      ]
     },
     "metadata": {},
     "output_type": "display_data"
    }
   ],
   "source": [
    "## ah thats great .. lets look into more images...\n",
    "torch.manual_seed(482)\n",
    "fig = plt.figure(figsize=(9,9))\n",
    "rows , cols = 4,4\n",
    "for i in range(1, rows*cols+1):\n",
    "    random_idx = torch.randint(0, len(train_data),size=[1]).item()\n",
    "    img, label = train_data[random_idx]\n",
    "    fig.add_subplot(rows, cols, i)\n",
    "    plt.imshow(img.squeeze(), cmap=\"gray\")\n",
    "    plt.title(class_type[label])\n",
    "    plt.axis(False)"
   ]
  },
  {
   "cell_type": "code",
   "execution_count": 14,
   "id": "3949051f",
   "metadata": {
    "execution": {
     "iopub.execute_input": "2023-08-09T18:45:34.643244Z",
     "iopub.status.busy": "2023-08-09T18:45:34.642594Z",
     "iopub.status.idle": "2023-08-09T18:45:34.650819Z",
     "shell.execute_reply": "2023-08-09T18:45:34.649389Z"
    },
    "papermill": {
     "duration": 0.025683,
     "end_time": "2023-08-09T18:45:34.652919",
     "exception": false,
     "start_time": "2023-08-09T18:45:34.627236",
     "status": "completed"
    },
    "tags": []
   },
   "outputs": [
    {
     "name": "stdout",
     "output_type": "stream",
     "text": [
      "Dataloader: (<torch.utils.data.dataloader.DataLoader object at 0x78d0813b3bb0>, <torch.utils.data.dataloader.DataLoader object at 0x78d08134d480>)\n",
      "length of the train dataloader__1875\n",
      "length of the test dataloader__313\n"
     ]
    }
   ],
   "source": [
    "## for further processing lets prepare the DataLoader\n",
    "## what purpose does dataloader serves??\n",
    "## process large dataset -> smaller chunks of python iterables [batches]\n",
    "## load data into model for training and inference\n",
    "## why batches ?? -> computationally efficient\n",
    "## size of those mini batches -> 32 or relatively in power of 2\n",
    "\n",
    "\n",
    "from torch.utils.data import DataLoader\n",
    "batsiz = 32 ## also a hyperparameter\n",
    "\n",
    "## turm dataset into iterables\n",
    "train_dataloader = DataLoader(train_data, batch_size= batsiz,shuffle=True)\n",
    "## shuffle allows data to be shuffled in every epoch\n",
    "test_dataloader = DataLoader(test_data, batch_size=batsiz, shuffle=False)\n",
    "## you may/maynot shuffle the testing data\n",
    "\n",
    "print(f\"Dataloader: {train_dataloader, test_dataloader}\")\n",
    "print(f\"length of the train dataloader__{len(train_dataloader)}\")\n",
    "print(f\"length of the test dataloader__{len(test_dataloader)}\")\n",
    "\n",
    "\n",
    "\n"
   ]
  },
  {
   "cell_type": "code",
   "execution_count": 15,
   "id": "32cd93b5",
   "metadata": {
    "execution": {
     "iopub.execute_input": "2023-08-09T18:45:34.683005Z",
     "iopub.status.busy": "2023-08-09T18:45:34.682129Z",
     "iopub.status.idle": "2023-08-09T18:45:34.711644Z",
     "shell.execute_reply": "2023-08-09T18:45:34.710699Z"
    },
    "papermill": {
     "duration": 0.046636,
     "end_time": "2023-08-09T18:45:34.713753",
     "exception": false,
     "start_time": "2023-08-09T18:45:34.667117",
     "status": "completed"
    },
    "tags": []
   },
   "outputs": [
    {
     "data": {
      "text/plain": [
       "(torch.Size([32, 1, 28, 28]), torch.Size([32]))"
      ]
     },
     "execution_count": 15,
     "metadata": {},
     "output_type": "execute_result"
    }
   ],
   "source": [
    "## shall we take a peek into the dataloader\n",
    "train_features_batch, train_labels_batch = next(iter(train_dataloader))\n",
    "train_features_batch.shape, train_labels_batch.shape"
   ]
  },
  {
   "cell_type": "code",
   "execution_count": 16,
   "id": "13c74102",
   "metadata": {
    "execution": {
     "iopub.execute_input": "2023-08-09T18:45:34.744462Z",
     "iopub.status.busy": "2023-08-09T18:45:34.743696Z",
     "iopub.status.idle": "2023-08-09T18:45:34.919408Z",
     "shell.execute_reply": "2023-08-09T18:45:34.918375Z"
    },
    "papermill": {
     "duration": 0.192911,
     "end_time": "2023-08-09T18:45:34.921684",
     "exception": false,
     "start_time": "2023-08-09T18:45:34.728773",
     "status": "completed"
    },
    "tags": []
   },
   "outputs": [
    {
     "name": "stdout",
     "output_type": "stream",
     "text": [
      "Image size: torch.Size([1, 28, 28])\n",
      "Label : 8, label size: torch.Size([])\n"
     ]
    },
    {
     "data": {
      "image/png": "[encoded data removed]",
      "text/plain": [
       "<Figure size 640x480 with 1 Axes>"
      ]
     },
     "metadata": {},
     "output_type": "display_data"
    }
   ],
   "source": [
    "## note the format of the presentation of the data\n",
    "## lets check a sample\n",
    "torch.manual_seed(433)\n",
    "random_idx = torch.randint(0, len(train_features_batch),size=[1]).item()\n",
    "img, label = train_features_batch[random_idx], train_labels_batch[random_idx]\n",
    "plt.imshow(img.squeeze(), cmap=\"gray\")\n",
    "plt.title(class_type[label])\n",
    "plt.axis(\"off\")\n",
    "print(f\"Image size: {img.shape}\")\n",
    "print(f\"Label : {label}, label size: {label.shape}\")\n"
   ]
  },
  {
   "cell_type": "code",
   "execution_count": 17,
   "id": "729a7ae7",
   "metadata": {
    "execution": {
     "iopub.execute_input": "2023-08-09T18:45:34.952169Z",
     "iopub.status.busy": "2023-08-09T18:45:34.951888Z",
     "iopub.status.idle": "2023-08-09T18:45:34.957840Z",
     "shell.execute_reply": "2023-08-09T18:45:34.956968Z"
    },
    "papermill": {
     "duration": 0.023942,
     "end_time": "2023-08-09T18:45:34.960216",
     "exception": false,
     "start_time": "2023-08-09T18:45:34.936274",
     "status": "completed"
    },
    "tags": []
   },
   "outputs": [
    {
     "name": "stdout",
     "output_type": "stream",
     "text": [
      "torch.Size([1, 28, 28]) torch.Size([1, 784]) 1\n"
     ]
    }
   ],
   "source": [
    "## Baseline model 0\n",
    "## simplest model and consist of two linear layers\n",
    "## but since we're dealing with the image data, we need a way\n",
    "## to flatten them in order to feed then to linear layers\n",
    "## so we'll use nn.Flatten() -> compresses the dimension of tensor into a single vector\n",
    "\n",
    "## To create a flattening layer\n",
    "flatten_model = nn.Flatten() \n",
    "## a single sample is taken\n",
    "x = train_features_batch[0]\n",
    "\n",
    "## Flatten the sample\n",
    "output = flatten_model(x)\n",
    "\n",
    "## lets see the output of the flatten layer\n",
    "print(x.shape, output.shape, len(x))\n",
    "\n"
   ]
  },
  {
   "cell_type": "code",
   "execution_count": 18,
   "id": "e6835da7",
   "metadata": {
    "execution": {
     "iopub.execute_input": "2023-08-09T18:45:34.990710Z",
     "iopub.status.busy": "2023-08-09T18:45:34.989960Z",
     "iopub.status.idle": "2023-08-09T18:45:34.996178Z",
     "shell.execute_reply": "2023-08-09T18:45:34.995355Z"
    },
    "papermill": {
     "duration": 0.023469,
     "end_time": "2023-08-09T18:45:34.998122",
     "exception": false,
     "start_time": "2023-08-09T18:45:34.974653",
     "status": "completed"
    },
    "tags": []
   },
   "outputs": [],
   "source": [
    "## lets define the blueprint of our baseline model\n",
    "class FashionMnistModel_0(nn.Module):\n",
    "    def __init__(self, input_shape: int, hidden_units: int, output_shape: int):\n",
    "        super().__init__()\n",
    "        self.layer_stack = nn.Sequential(\n",
    "        nn.Flatten(),\n",
    "        nn.Linear(in_features=input_shape, out_features=hidden_units),\n",
    "        nn.Linear(in_features= hidden_units, out_features = output_shape)\n",
    "        )\n",
    "    def forward(self, x):\n",
    "        return self.layer_stack(x)\n",
    "\n",
    "    \n",
    "\n"
   ]
  },
  {
   "cell_type": "code",
   "execution_count": 19,
   "id": "6c61362b",
   "metadata": {
    "execution": {
     "iopub.execute_input": "2023-08-09T18:45:35.030072Z",
     "iopub.status.busy": "2023-08-09T18:45:35.029304Z",
     "iopub.status.idle": "2023-08-09T18:45:35.040339Z",
     "shell.execute_reply": "2023-08-09T18:45:35.039372Z"
    },
    "papermill": {
     "duration": 0.029171,
     "end_time": "2023-08-09T18:45:35.042722",
     "exception": false,
     "start_time": "2023-08-09T18:45:35.013551",
     "status": "completed"
    },
    "tags": []
   },
   "outputs": [
    {
     "data": {
      "text/plain": [
       "FashionMnistModel_0(\n",
       "  (layer_stack): Sequential(\n",
       "    (0): Flatten(start_dim=1, end_dim=-1)\n",
       "    (1): Linear(in_features=784, out_features=10, bias=True)\n",
       "    (2): Linear(in_features=10, out_features=10, bias=True)\n",
       "  )\n",
       ")"
      ]
     },
     "execution_count": 19,
     "metadata": {},
     "output_type": "execute_result"
    }
   ],
   "source": [
    "## its time to instantiate a model\n",
    "torch.manual_seed(52)\n",
    "model_0 = FashionMnistModel_0(input_shape=784, hidden_units=10,output_shape=len(class_type))\n",
    "model_0.to(\"cpu\") ## we'll load it in GPU later"
   ]
  },
  {
   "cell_type": "code",
   "execution_count": 20,
   "id": "ca7d2aba",
   "metadata": {
    "execution": {
     "iopub.execute_input": "2023-08-09T18:45:35.074535Z",
     "iopub.status.busy": "2023-08-09T18:45:35.073723Z",
     "iopub.status.idle": "2023-08-09T18:45:35.248346Z",
     "shell.execute_reply": "2023-08-09T18:45:35.247443Z"
    },
    "papermill": {
     "duration": 0.192292,
     "end_time": "2023-08-09T18:45:35.250713",
     "exception": false,
     "start_time": "2023-08-09T18:45:35.058421",
     "status": "completed"
    },
    "tags": []
   },
   "outputs": [
    {
     "name": "stdout",
     "output_type": "stream",
     "text": [
      "Downloading helper_functions.py\n"
     ]
    }
   ],
   "source": [
    "## get some help with the helper function\n",
    "import requests\n",
    "from pathlib import Path \n",
    "\n",
    "# Download helper functions from Learn PyTorch repo (if not already downloaded)\n",
    "if Path(\"helper_functions.py\").is_file():\n",
    "  print(\"helper_functions.py already exists, skipping download\")\n",
    "else:\n",
    "  print(\"Downloading helper_functions.py\")\n",
    "  # Note: you need the \"raw\" GitHub URL for this to work\n",
    "  request = requests.get(\"https://raw.githubusercontent.com/mrdbourke/pytorch-deep-learning/main/helper_functions.py\")\n",
    "  with open(\"helper_functions.py\", \"wb\") as f:\n",
    "    f.write(request.content)"
   ]
  },
  {
   "cell_type": "code",
   "execution_count": 21,
   "id": "4c62b4b8",
   "metadata": {
    "execution": {
     "iopub.execute_input": "2023-08-09T18:45:35.281952Z",
     "iopub.status.busy": "2023-08-09T18:45:35.281151Z",
     "iopub.status.idle": "2023-08-09T18:45:35.352982Z",
     "shell.execute_reply": "2023-08-09T18:45:35.352077Z"
    },
    "papermill": {
     "duration": 0.089572,
     "end_time": "2023-08-09T18:45:35.355104",
     "exception": false,
     "start_time": "2023-08-09T18:45:35.265532",
     "status": "completed"
    },
    "tags": []
   },
   "outputs": [],
   "source": [
    "## importing accuracy metric\n",
    "from helper_functions import accuracy_fn\n",
    "## seting up loss function and optimizer\n",
    "loss_fn = nn.CrossEntropyLoss()\n",
    "optimizer = torch.optim.SGD(params = model_0.parameters(), lr=0.1)\n"
   ]
  },
  {
   "cell_type": "code",
   "execution_count": 22,
   "id": "bbf78bad",
   "metadata": {
    "execution": {
     "iopub.execute_input": "2023-08-09T18:45:35.387513Z",
     "iopub.status.busy": "2023-08-09T18:45:35.386666Z",
     "iopub.status.idle": "2023-08-09T18:45:35.393365Z",
     "shell.execute_reply": "2023-08-09T18:45:35.392497Z"
    },
    "papermill": {
     "duration": 0.025418,
     "end_time": "2023-08-09T18:45:35.395309",
     "exception": false,
     "start_time": "2023-08-09T18:45:35.369891",
     "status": "completed"
    },
    "tags": []
   },
   "outputs": [],
   "source": [
    "## the reason why we let the model persist on CPU because\n",
    "## we want to check the amount of time it requires\n",
    "## to run on both devices. That way we'll make inference\n",
    "## as to whether we really train our model in GPU\n",
    "from timeit import default_timer as timer \n",
    "def print_train_time(start: float, end: float, device: torch.device = None):\n",
    "    \"\"\"Prints difference between start and end time.\n",
    "\n",
    "    Args:\n",
    "        start (float): Start time of computation (preferred in timeit format). \n",
    "        end (float): End time of computation.\n",
    "        device ([type], optional): Device that compute is running on. Defaults to None.\n",
    "\n",
    "    Returns:\n",
    "        float: time between start and end in seconds (higher is longer).\n",
    "    \"\"\"\n",
    "    total_time = end - start\n",
    "    print(f\"Train time on {device}: {total_time:.3f} seconds\")\n",
    "    return total_time"
   ]
  },
  {
   "cell_type": "code",
   "execution_count": 23,
   "id": "23fc8051",
   "metadata": {
    "execution": {
     "iopub.execute_input": "2023-08-09T18:45:35.425947Z",
     "iopub.status.busy": "2023-08-09T18:45:35.425683Z",
     "iopub.status.idle": "2023-08-09T18:46:01.826853Z",
     "shell.execute_reply": "2023-08-09T18:46:01.825894Z"
    },
    "papermill": {
     "duration": 26.420784,
     "end_time": "2023-08-09T18:46:01.830650",
     "exception": false,
     "start_time": "2023-08-09T18:45:35.409866",
     "status": "completed"
    },
    "tags": []
   },
   "outputs": [
    {
     "data": {
      "application/vnd.jupyter.widget-view+json": {
       "model_id": "460d594b46164d5f8722131efb98a3df",
       "version_major": 2,
       "version_minor": 0
      },
      "text/plain": [
       "  0%|          | 0/3 [00:00<?, ?it/s]"
      ]
     },
     "metadata": {},
     "output_type": "display_data"
    },
    {
     "name": "stdout",
     "output_type": "stream",
     "text": [
      "Epoch:  0\n",
      "-----\n",
      "Looked at 0/60000 samples\n",
      "Looked at 12800/60000 samples\n",
      "Looked at 25600/60000 samples\n",
      "Looked at 38400/60000 samples\n",
      "Looked at 51200/60000 samples\n",
      "Train_loss _0.5889773368835449|| test_loss_0.5039510726928711|| test_accuracy_82.34824281150159\n",
      "Epoch:  1\n",
      "-----\n",
      "Looked at 0/60000 samples\n",
      "Looked at 12800/60000 samples\n",
      "Looked at 25600/60000 samples\n",
      "Looked at 38400/60000 samples\n",
      "Looked at 51200/60000 samples\n",
      "Train_loss _0.47580134868621826|| test_loss_0.4836200177669525|| test_accuracy_82.84744408945687\n",
      "Epoch:  2\n",
      "-----\n",
      "Looked at 0/60000 samples\n",
      "Looked at 12800/60000 samples\n",
      "Looked at 25600/60000 samples\n",
      "Looked at 38400/60000 samples\n",
      "Looked at 51200/60000 samples\n",
      "Train_loss _0.45461198687553406|| test_loss_0.47721362113952637|| test_accuracy_83.50638977635782\n",
      "Train time on cpu: 26.307 seconds\n"
     ]
    }
   ],
   "source": [
    "## this time the training will be different\n",
    "## steps\n",
    "## loop through the epochs\n",
    "## loop through the training batches, perform testing steps, calc loss\n",
    "## same as above but for test batches\n",
    "## print out the stats\n",
    "## and jot down the time\n",
    "## so here we go\n",
    "\n",
    "\n",
    "\n",
    "## for progress bar\n",
    "from tqdm.auto import tqdm\n",
    "## setting seed and timer\n",
    "torch.manual_seed(42)\n",
    "train_time_start_on_cpu = timer()\n",
    "\n",
    "## set the number of epochs\n",
    "epochs = 3\n",
    "\n",
    "## creating training and testing loop\n",
    "for epoch in tqdm(range(epochs)):\n",
    "    print(f\"Epoch:  {epoch}\\n-----\")\n",
    "    ##training\n",
    "    train_loss = 0\n",
    "    ## add a loop to loop through the training batch\n",
    "    for batch, (X,y) in enumerate(train_dataloader):\n",
    "        model_0.train()\n",
    "        ## forward pass \n",
    "        y_pred = model_0(X)\n",
    "        ## calc loss(per batch)\n",
    "        loss = loss_fn(y_pred, y)\n",
    "        train_loss += loss\n",
    "        ##setting optimizer to 0\n",
    "        optimizer.zero_grad()\n",
    "        ## backprop\n",
    "        loss.backward()\n",
    "        ## update the optimizer\n",
    "        optimizer.step()\n",
    "        \n",
    "        ## printing out stats\n",
    "        if batch%400 ==0:\n",
    "            print(f\"Looked at {batch*len(X)}/{len(train_dataloader.dataset)} samples\")\n",
    "    \n",
    "    train_loss /= len(train_dataloader)\n",
    "    ## testing time\n",
    "    ## setup the vars\n",
    "    test_loss, test_acc = 0,0\n",
    "    model_0.eval()\n",
    "    with torch.inference_mode():\n",
    "        for X,y in test_dataloader:\n",
    "            ## forward pass\n",
    "            test_pred = model_0(X)\n",
    "            ## calc loss\n",
    "            test_loss += loss_fn(test_pred, y)\n",
    "            ## accuracy\n",
    "            test_acc += accuracy_fn(y_true = y, y_pred = test_pred.argmax(dim=1))\n",
    "        \n",
    "        test_loss /= len(test_dataloader)\n",
    "        test_acc /= len(test_dataloader)\n",
    "    \n",
    "    print(f\"Train_loss _{train_loss}|| test_loss_{test_loss}|| test_accuracy_{test_acc}\")\n",
    "\n",
    "# Calculate training time      \n",
    "train_time_end_on_cpu = timer()\n",
    "total_train_time_model_0 = print_train_time(start=train_time_start_on_cpu, \n",
    "                                           end=train_time_end_on_cpu,\n",
    "                                           device=str(next(model_0.parameters()).device))\n",
    "\n",
    "        \n"
   ]
  },
  {
   "cell_type": "code",
   "execution_count": 24,
   "id": "c1d84e85",
   "metadata": {
    "execution": {
     "iopub.execute_input": "2023-08-09T18:46:01.864777Z",
     "iopub.status.busy": "2023-08-09T18:46:01.863990Z",
     "iopub.status.idle": "2023-08-09T18:46:02.959821Z",
     "shell.execute_reply": "2023-08-09T18:46:02.958633Z"
    },
    "papermill": {
     "duration": 1.115815,
     "end_time": "2023-08-09T18:46:02.962769",
     "exception": false,
     "start_time": "2023-08-09T18:46:01.846954",
     "status": "completed"
    },
    "tags": []
   },
   "outputs": [
    {
     "data": {
      "text/plain": [
       "{'model_name': 'FashionMnistModel_0',\n",
       " 'model_loss': 0.47721362113952637,\n",
       " 'model_acc': 83.50638977635782}"
      ]
     },
     "execution_count": 24,
     "metadata": {},
     "output_type": "execute_result"
    }
   ],
   "source": [
    "torch.manual_seed(42)\n",
    "def eval_model(model: torch.nn.Module, \n",
    "               data_loader: torch.utils.data.DataLoader, \n",
    "               loss_fn: torch.nn.Module, \n",
    "               accuracy_fn):\n",
    "    \"\"\"Returns a dictionary containing the results of model predicting on data_loader.\n",
    "\n",
    "    Args:\n",
    "        model (torch.nn.Module): A PyTorch model capable of making predictions on data_loader.\n",
    "        data_loader (torch.utils.data.DataLoader): The target dataset to predict on.\n",
    "        loss_fn (torch.nn.Module): The loss function of model.\n",
    "        accuracy_fn: An accuracy function to compare the models predictions to the truth labels.\n",
    "\n",
    "    Returns:\n",
    "        (dict): Results of model making predictions on data_loader.\n",
    "    \"\"\"\n",
    "    loss, acc = 0, 0\n",
    "    model.eval()\n",
    "    with torch.inference_mode():\n",
    "        for X, y in data_loader:\n",
    "            # Make predictions with the model\n",
    "            y_pred = model(X)\n",
    "            \n",
    "            # Accumulate the loss and accuracy values per batch\n",
    "            loss += loss_fn(y_pred, y)\n",
    "            acc += accuracy_fn(y_true=y, \n",
    "                                y_pred=y_pred.argmax(dim=1)) # For accuracy, need the prediction labels (logits -> pred_prob -> pred_labels)\n",
    "        \n",
    "        # Scale loss and acc to find the average loss/acc per batch\n",
    "        loss /= len(data_loader)\n",
    "        acc /= len(data_loader)\n",
    "        \n",
    "    return {\"model_name\": model.__class__.__name__, # only works when model was created with a class\n",
    "            \"model_loss\": loss.item(),\n",
    "            \"model_acc\": acc}\n",
    "\n",
    "# Calculate model 0 results on test dataset\n",
    "model_0_results = eval_model(model=model_0, data_loader=test_dataloader,\n",
    "    loss_fn=loss_fn, accuracy_fn=accuracy_fn\n",
    ")\n",
    "model_0_results"
   ]
  },
  {
   "cell_type": "code",
   "execution_count": 25,
   "id": "11765c72",
   "metadata": {
    "execution": {
     "iopub.execute_input": "2023-08-09T18:46:02.997405Z",
     "iopub.status.busy": "2023-08-09T18:46:02.996670Z",
     "iopub.status.idle": "2023-08-09T18:46:03.003048Z",
     "shell.execute_reply": "2023-08-09T18:46:03.002065Z"
    },
    "papermill": {
     "duration": 0.025706,
     "end_time": "2023-08-09T18:46:03.005012",
     "exception": false,
     "start_time": "2023-08-09T18:46:02.979306",
     "status": "completed"
    },
    "tags": []
   },
   "outputs": [
    {
     "data": {
      "text/plain": [
       "'cuda'"
      ]
     },
     "execution_count": 25,
     "metadata": {},
     "output_type": "execute_result"
    }
   ],
   "source": [
    "# Setup device agnostic code\n",
    "import torch\n",
    "device = \"cuda\" if torch.cuda.is_available() else \"cpu\"\n",
    "device"
   ]
  },
  {
   "cell_type": "code",
   "execution_count": 26,
   "id": "381ace9a",
   "metadata": {
    "execution": {
     "iopub.execute_input": "2023-08-09T18:46:03.039862Z",
     "iopub.status.busy": "2023-08-09T18:46:03.038397Z",
     "iopub.status.idle": "2023-08-09T18:46:03.045171Z",
     "shell.execute_reply": "2023-08-09T18:46:03.044273Z"
    },
    "papermill": {
     "duration": 0.025842,
     "end_time": "2023-08-09T18:46:03.047101",
     "exception": false,
     "start_time": "2023-08-09T18:46:03.021259",
     "status": "completed"
    },
    "tags": []
   },
   "outputs": [],
   "source": [
    "## lets try something really different like adding non-linearity\n",
    "class FashionMnistModel_1(nn.Module):\n",
    "    def __init__(self, inn: int, hid_uni: int, outs :int ):\n",
    "        super().__init__()\n",
    "        self.layerstack = nn.Sequential(\n",
    "        nn.Flatten(),\n",
    "        nn.Linear(in_features=inn, out_features=hid_uni),\n",
    "        nn.ReLU(),\n",
    "        nn.Linear(in_features = hid_uni, out_features=outs),\n",
    "        nn.ReLU())\n",
    "    def forward(self, x: torch.Tensor):\n",
    "        return self.layerstack(x)"
   ]
  },
  {
   "cell_type": "code",
   "execution_count": 27,
   "id": "8e1082fa",
   "metadata": {
    "execution": {
     "iopub.execute_input": "2023-08-09T18:46:03.084546Z",
     "iopub.status.busy": "2023-08-09T18:46:03.083676Z",
     "iopub.status.idle": "2023-08-09T18:46:06.008004Z",
     "shell.execute_reply": "2023-08-09T18:46:06.007072Z"
    },
    "papermill": {
     "duration": 2.946752,
     "end_time": "2023-08-09T18:46:06.010327",
     "exception": false,
     "start_time": "2023-08-09T18:46:03.063575",
     "status": "completed"
    },
    "tags": []
   },
   "outputs": [
    {
     "data": {
      "text/plain": [
       "device(type='cuda', index=0)"
      ]
     },
     "execution_count": 27,
     "metadata": {},
     "output_type": "execute_result"
    }
   ],
   "source": [
    "## standard ML practice -> change a thing repeat experiments several times and note down readings\n",
    "torch.manual_seed(43)\n",
    "model_1 = FashionMnistModel_1(inn=784, hid_uni=10,outs=len(class_type))\n",
    "model_1.to(device)\n",
    "next(model_1.parameters()).device"
   ]
  },
  {
   "cell_type": "code",
   "execution_count": 28,
   "id": "1255fa96",
   "metadata": {
    "execution": {
     "iopub.execute_input": "2023-08-09T18:46:06.044779Z",
     "iopub.status.busy": "2023-08-09T18:46:06.044483Z",
     "iopub.status.idle": "2023-08-09T18:46:06.049287Z",
     "shell.execute_reply": "2023-08-09T18:46:06.048384Z"
    },
    "papermill": {
     "duration": 0.024237,
     "end_time": "2023-08-09T18:46:06.051281",
     "exception": false,
     "start_time": "2023-08-09T18:46:06.027044",
     "status": "completed"
    },
    "tags": []
   },
   "outputs": [],
   "source": [
    "## setting up loss optimizer and evaluation metrics\n",
    "from helper_functions import accuracy_fn\n",
    "loss_fn = nn.CrossEntropyLoss()\n",
    "optimizer = torch.optim.SGD(params=model_1.parameters(), lr =0.1)"
   ]
  },
  {
   "cell_type": "code",
   "execution_count": 29,
   "id": "41b63478",
   "metadata": {
    "execution": {
     "iopub.execute_input": "2023-08-09T18:46:06.087203Z",
     "iopub.status.busy": "2023-08-09T18:46:06.086705Z",
     "iopub.status.idle": "2023-08-09T18:46:06.098116Z",
     "shell.execute_reply": "2023-08-09T18:46:06.097287Z"
    },
    "papermill": {
     "duration": 0.032293,
     "end_time": "2023-08-09T18:46:06.100032",
     "exception": false,
     "start_time": "2023-08-09T18:46:06.067739",
     "status": "completed"
    },
    "tags": []
   },
   "outputs": [],
   "source": [
    "def train_step(model: torch.nn.Module,\n",
    "               data_loader: torch.utils.data.DataLoader,\n",
    "               loss_fn: torch.nn.Module,\n",
    "               optimizer: torch.optim.Optimizer,\n",
    "               accuracy_fn,\n",
    "               device: torch.device = device):\n",
    "    train_loss, train_acc = 0, 0\n",
    "    model.to(device)\n",
    "    for batch, (X, y) in enumerate(data_loader):\n",
    "        # Send data to GPU\n",
    "        X, y = X.to(device), y.to(device)\n",
    "\n",
    "        # 1. Forward pass\n",
    "        y_pred = model(X)\n",
    "\n",
    "        # 2. Calculate loss\n",
    "        loss = loss_fn(y_pred, y)\n",
    "        train_loss += loss\n",
    "        train_acc += accuracy_fn(y_true=y,\n",
    "                                 y_pred=y_pred.argmax(dim=1)) # Go from logits -> pred labels\n",
    "\n",
    "        # 3. Optimizer zero grad\n",
    "        optimizer.zero_grad()\n",
    "\n",
    "        # 4. Loss backward\n",
    "        loss.backward()\n",
    "\n",
    "        # 5. Optimizer step\n",
    "        optimizer.step()\n",
    "\n",
    "    # Calculate loss and accuracy per epoch and print out what's happening\n",
    "    train_loss /= len(data_loader)\n",
    "    train_acc /= len(data_loader)\n",
    "    print(f\"Train loss: {train_loss:.5f} | Train accuracy: {train_acc:.2f}%\")\n",
    "\n",
    "def test_step(data_loader: torch.utils.data.DataLoader,\n",
    "              model: torch.nn.Module,\n",
    "              loss_fn: torch.nn.Module,\n",
    "              accuracy_fn,\n",
    "              device: torch.device = device):\n",
    "    test_loss, test_acc = 0, 0\n",
    "    model.to(device)\n",
    "    model.eval() # put model in eval mode\n",
    "    # Turn on inference context manager\n",
    "    with torch.inference_mode(): \n",
    "        for X, y in data_loader:\n",
    "            # Send data to GPU\n",
    "            X, y = X.to(device), y.to(device)\n",
    "            \n",
    "            # 1. Forward pass\n",
    "            test_pred = model(X)\n",
    "            \n",
    "            # 2. Calculate loss and accuracy\n",
    "            test_loss += loss_fn(test_pred, y)\n",
    "            test_acc += accuracy_fn(y_true=y,\n",
    "                y_pred=test_pred.argmax(dim=1) # Go from logits -> pred labels\n",
    "            )\n",
    "        \n",
    "        # Adjust metrics and print out\n",
    "        test_loss /= len(data_loader)\n",
    "        test_acc /= len(data_loader)\n",
    "        print(f\"Test loss: {test_loss:.5f} | Test accuracy: {test_acc:.2f}%\\n\")"
   ]
  },
  {
   "cell_type": "code",
   "execution_count": 30,
   "id": "29f6bdfb",
   "metadata": {
    "execution": {
     "iopub.execute_input": "2023-08-09T18:46:06.134588Z",
     "iopub.status.busy": "2023-08-09T18:46:06.133796Z",
     "iopub.status.idle": "2023-08-09T18:46:36.722675Z",
     "shell.execute_reply": "2023-08-09T18:46:36.721675Z"
    },
    "papermill": {
     "duration": 30.629713,
     "end_time": "2023-08-09T18:46:36.746395",
     "exception": false,
     "start_time": "2023-08-09T18:46:06.116682",
     "status": "completed"
    },
    "tags": []
   },
   "outputs": [
    {
     "data": {
      "application/vnd.jupyter.widget-view+json": {
       "model_id": "6258b86836854fc186afe3db90d53b6f",
       "version_major": 2,
       "version_minor": 0
      },
      "text/plain": [
       "  0%|          | 0/3 [00:00<?, ?it/s]"
      ]
     },
     "metadata": {},
     "output_type": "display_data"
    },
    {
     "name": "stdout",
     "output_type": "stream",
     "text": [
      "Epoch: 0\n",
      "---------\n",
      "Train loss: 0.86674 | Train accuracy: 68.40%\n",
      "Test loss: 0.52723 | Test accuracy: 81.95%\n",
      "\n",
      "Epoch: 1\n",
      "---------\n",
      "Train loss: 0.48883 | Train accuracy: 82.62%\n",
      "Test loss: 0.48935 | Test accuracy: 82.53%\n",
      "\n",
      "Epoch: 2\n",
      "---------\n",
      "Train loss: 0.45399 | Train accuracy: 83.65%\n",
      "Test loss: 0.47151 | Test accuracy: 83.08%\n",
      "\n",
      "Train time on cuda: 30.580 seconds\n"
     ]
    }
   ],
   "source": [
    "torch.manual_seed(42)\n",
    "\n",
    "# Measure time\n",
    "from timeit import default_timer as timer\n",
    "train_time_start_on_gpu = timer()\n",
    "\n",
    "epochs = 3\n",
    "for epoch in tqdm(range(epochs)):\n",
    "    print(f\"Epoch: {epoch}\\n---------\")\n",
    "    train_step(data_loader=train_dataloader, \n",
    "        model=model_1, \n",
    "        loss_fn=loss_fn,\n",
    "        optimizer=optimizer,\n",
    "        accuracy_fn=accuracy_fn\n",
    "    )\n",
    "    test_step(data_loader=test_dataloader,\n",
    "        model=model_1,\n",
    "        loss_fn=loss_fn,\n",
    "        accuracy_fn=accuracy_fn\n",
    "    )\n",
    "\n",
    "train_time_end_on_gpu = timer()\n",
    "total_train_time_model_1 = print_train_time(start=train_time_start_on_gpu,\n",
    "                                            end=train_time_end_on_gpu,\n",
    "                                            device=device)"
   ]
  },
  {
   "cell_type": "code",
   "execution_count": null,
   "id": "811b466e",
   "metadata": {
    "papermill": {
     "duration": 0.01704,
     "end_time": "2023-08-09T18:46:36.782059",
     "exception": false,
     "start_time": "2023-08-09T18:46:36.765019",
     "status": "completed"
    },
    "tags": []
   },
   "outputs": [],
   "source": []
  }
 ],
 "metadata": {
  "kernelspec": {
   "display_name": "Python 3",
   "language": "python",
   "name": "python3"
  },
  "language_info": {
   "codemirror_mode": {
    "name": "ipython",
    "version": 3
   },
   "file_extension": ".py",
   "mimetype": "text/x-python",
   "name": "python",
   "nbconvert_exporter": "python",
   "pygments_lexer": "ipython3",
   "version": "3.10.12"
  },
  "papermill": {
   "default_parameters": {},
   "duration": 86.684789,
   "end_time": "2023-08-09T18:46:38.522646",
   "environment_variables": {},
   "exception": null,
   "input_path": "__notebook__.ipynb",
   "output_path": "__notebook__.ipynb",
   "parameters": {},
   "start_time": "2023-08-09T18:45:11.837857",
   "version": "2.4.0"
  },
  "widgets": {
   "application/vnd.jupyter.widget-state+json": {
    "state": {
     "03618be10fc94133973793bcfe543cd7": {
      "model_module": "@jupyter-widgets/controls",
      "model_module_version": "1.5.0",
      "model_name": "DescriptionStyleModel",
      "state": {
       "_model_module": "@jupyter-widgets/controls",
       "_model_module_version": "1.5.0",
       "_model_name": "DescriptionStyleModel",
       "_view_count": null,
       "_view_module": "@jupyter-widgets/base",
       "_view_module_version": "1.2.0",
       "_view_name": "StyleView",
       "description_width": ""
      }
     },
     "047a955498734c04a048e0e542ee3f8a": {
      "model_module": "@jupyter-widgets/controls",
      "model_module_version": "1.5.0",
      "model_name": "DescriptionStyleModel",
      "state": {
       "_model_module": "@jupyter-widgets/controls",
       "_model_module_version": "1.5.0",
       "_model_name": "DescriptionStyleModel",
       "_view_count": null,
       "_view_module": "@jupyter-widgets/base",
       "_view_module_version": "1.2.0",
       "_view_name": "StyleView",
       "description_width": ""
      }
     },
     "0794fdd8a20b4f268cf91ef87a01ce91": {
      "model_module": "@jupyter-widgets/controls",
      "model_module_version": "1.5.0",
      "model_name": "DescriptionStyleModel",
      "state": {
       "_model_module": "@jupyter-widgets/controls",
       "_model_module_version": "1.5.0",
       "_model_name": "DescriptionStyleModel",
       "_view_count": null,
       "_view_module": "@jupyter-widgets/base",
       "_view_module_version": "1.2.0",
       "_view_name": "StyleView",
       "description_width": ""
      }
     },
     "1a9c4b1142944a1e8aafd4a6b3aaf8ca": {
      "model_module": "@jupyter-widgets/base",
      "model_module_version": "1.2.0",
      "model_name": "LayoutModel",
      "state": {
       "_model_module": "@jupyter-widgets/base",
       "_model_module_version": "1.2.0",
       "_model_name": "LayoutModel",
       "_view_count": null,
       "_view_module": "@jupyter-widgets/base",
       "_view_module_version": "1.2.0",
       "_view_name": "LayoutView",
       "align_content": null,
       "align_items": null,
       "align_self": null,
       "border": null,
       "bottom": null,
       "display": null,
       "flex": null,
       "flex_flow": null,
       "grid_area": null,
       "grid_auto_columns": null,
       "grid_auto_flow": null,
       "grid_auto_rows": null,
       "grid_column": null,
       "grid_gap": null,
       "grid_row": null,
       "grid_template_areas": null,
       "grid_template_columns": null,
       "grid_template_rows": null,
       "height": null,
       "justify_content": null,
       "justify_items": null,
       "left": null,
       "margin": null,
       "max_height": null,
       "max_width": null,
       "min_height": null,
       "min_width": null,
       "object_fit": null,
       "object_position": null,
       "order": null,
       "overflow": null,
       "overflow_x": null,
       "overflow_y": null,
       "padding": null,
       "right": null,
       "top": null,
       "visibility": null,
       "width": null
      }
     },
     "4546d6218ce546e0a094b164ab680154": {
      "model_module": "@jupyter-widgets/controls",
      "model_module_version": "1.5.0",
      "model_name": "HTMLModel",
      "state": {
       "_dom_classes": [],
       "_model_module": "@jupyter-widgets/controls",
       "_model_module_version": "1.5.0",
       "_model_name": "HTMLModel",
       "_view_count": null,
       "_view_module": "@jupyter-widgets/controls",
       "_view_module_version": "1.5.0",
       "_view_name": "HTMLView",
       "description": "",
       "description_tooltip": null,
       "layout": "IPY_MODEL_c12ce497bf1d4b1b917f95954994fbb3",
       "placeholder": "​",
       "style": "IPY_MODEL_9ca07ce9ef7549da9ea6dfd1c2183d0c",
       "value": "100%"
      }
     },
     "460d594b46164d5f8722131efb98a3df": {
      "model_module": "@jupyter-widgets/controls",
      "model_module_version": "1.5.0",
      "model_name": "HBoxModel",
      "state": {
       "_dom_classes": [],
       "_model_module": "@jupyter-widgets/controls",
       "_model_module_version": "1.5.0",
       "_model_name": "HBoxModel",
       "_view_count": null,
       "_view_module": "@jupyter-widgets/controls",
       "_view_module_version": "1.5.0",
       "_view_name": "HBoxView",
       "box_style": "",
       "children": [
        "IPY_MODEL_4546d6218ce546e0a094b164ab680154",
        "IPY_MODEL_8b4a15f9c35b4fd2bc03ea5fcbae6f14",
        "IPY_MODEL_9165b9bda3154b54bb3d552f9470d9d2"
       ],
       "layout": "IPY_MODEL_511416c983d54451a2c0efd42110615b"
      }
     },
     "4cbb56af73854c21b42242dbee54cde6": {
      "model_module": "@jupyter-widgets/base",
      "model_module_version": "1.2.0",
      "model_name": "LayoutModel",
      "state": {
       "_model_module": "@jupyter-widgets/base",
       "_model_module_version": "1.2.0",
       "_model_name": "LayoutModel",
       "_view_count": null,
       "_view_module": "@jupyter-widgets/base",
       "_view_module_version": "1.2.0",
       "_view_name": "LayoutView",
       "align_content": null,
       "align_items": null,
       "align_self": null,
       "border": null,
       "bottom": null,
       "display": null,
       "flex": null,
       "flex_flow": null,
       "grid_area": null,
       "grid_auto_columns": null,
       "grid_auto_flow": null,
       "grid_auto_rows": null,
       "grid_column": null,
       "grid_gap": null,
       "grid_row": null,
       "grid_template_areas": null,
       "grid_template_columns": null,
       "grid_template_rows": null,
       "height": null,
       "justify_content": null,
       "justify_items": null,
       "left": null,
       "margin": null,
       "max_height": null,
       "max_width": null,
       "min_height": null,
       "min_width": null,
       "object_fit": null,
       "object_position": null,
       "order": null,
       "overflow": null,
       "overflow_x": null,
       "overflow_y": null,
       "padding": null,
       "right": null,
       "top": null,
       "visibility": null,
       "width": null
      }
     },
     "504ed3215da343f3a7cea6dda17a0071": {
      "model_module": "@jupyter-widgets/controls",
      "model_module_version": "1.5.0",
      "model_name": "HTMLModel",
      "state": {
       "_dom_classes": [],
       "_model_module": "@jupyter-widgets/controls",
       "_model_module_version": "1.5.0",
       "_model_name": "HTMLModel",
       "_view_count": null,
       "_view_module": "@jupyter-widgets/controls",
       "_view_module_version": "1.5.0",
       "_view_name": "HTMLView",
       "description": "",
       "description_tooltip": null,
       "layout": "IPY_MODEL_5732173b0c0b43ccb8e32cca5daa18c2",
       "placeholder": "​",
       "style": "IPY_MODEL_03618be10fc94133973793bcfe543cd7",
       "value": " 3/3 [00:30&lt;00:00, 10.00s/it]"
      }
     },
     "511416c983d54451a2c0efd42110615b": {
      "model_module": "@jupyter-widgets/base",
      "model_module_version": "1.2.0",
      "model_name": "LayoutModel",
      "state": {
       "_model_module": "@jupyter-widgets/base",
       "_model_module_version": "1.2.0",
       "_model_name": "LayoutModel",
       "_view_count": null,
       "_view_module": "@jupyter-widgets/base",
       "_view_module_version": "1.2.0",
       "_view_name": "LayoutView",
       "align_content": null,
       "align_items": null,
       "align_self": null,
       "border": null,
       "bottom": null,
       "display": null,
       "flex": null,
       "flex_flow": null,
       "grid_area": null,
       "grid_auto_columns": null,
       "grid_auto_flow": null,
       "grid_auto_rows": null,
       "grid_column": null,
       "grid_gap": null,
       "grid_row": null,
       "grid_template_areas": null,
       "grid_template_columns": null,
       "grid_template_rows": null,
       "height": null,
       "justify_content": null,
       "justify_items": null,
       "left": null,
       "margin": null,
       "max_height": null,
       "max_width": null,
       "min_height": null,
       "min_width": null,
       "object_fit": null,
       "object_position": null,
       "order": null,
       "overflow": null,
       "overflow_x": null,
       "overflow_y": null,
       "padding": null,
       "right": null,
       "top": null,
       "visibility": null,
       "width": null
      }
     },
     "5732173b0c0b43ccb8e32cca5daa18c2": {
      "model_module": "@jupyter-widgets/base",
      "model_module_version": "1.2.0",
      "model_name": "LayoutModel",
      "state": {
       "_model_module": "@jupyter-widgets/base",
       "_model_module_version": "1.2.0",
       "_model_name": "LayoutModel",
       "_view_count": null,
       "_view_module": "@jupyter-widgets/base",
       "_view_module_version": "1.2.0",
       "_view_name": "LayoutView",
       "align_content": null,
       "align_items": null,
       "align_self": null,
       "border": null,
       "bottom": null,
       "display": null,
       "flex": null,
       "flex_flow": null,
       "grid_area": null,
       "grid_auto_columns": null,
       "grid_auto_flow": null,
       "grid_auto_rows": null,
       "grid_column": null,
       "grid_gap": null,
       "grid_row": null,
       "grid_template_areas": null,
       "grid_template_columns": null,
       "grid_template_rows": null,
       "height": null,
       "justify_content": null,
       "justify_items": null,
       "left": null,
       "margin": null,
       "max_height": null,
       "max_width": null,
       "min_height": null,
       "min_width": null,
       "object_fit": null,
       "object_position": null,
       "order": null,
       "overflow": null,
       "overflow_x": null,
       "overflow_y": null,
       "padding": null,
       "right": null,
       "top": null,
       "visibility": null,
       "width": null
      }
     },
     "5bc3b88d3a3245b98ac50ccde170e556": {
      "model_module": "@jupyter-widgets/controls",
      "model_module_version": "1.5.0",
      "model_name": "HTMLModel",
      "state": {
       "_dom_classes": [],
       "_model_module": "@jupyter-widgets/controls",
       "_model_module_version": "1.5.0",
       "_model_name": "HTMLModel",
       "_view_count": null,
       "_view_module": "@jupyter-widgets/controls",
       "_view_module_version": "1.5.0",
       "_view_name": "HTMLView",
       "description": "",
       "description_tooltip": null,
       "layout": "IPY_MODEL_7f86ec3f62894c95a73f0bb95004306f",
       "placeholder": "​",
       "style": "IPY_MODEL_047a955498734c04a048e0e542ee3f8a",
       "value": "100%"
      }
     },
     "6258b86836854fc186afe3db90d53b6f": {
      "model_module": "@jupyter-widgets/controls",
      "model_module_version": "1.5.0",
      "model_name": "HBoxModel",
      "state": {
       "_dom_classes": [],
       "_model_module": "@jupyter-widgets/controls",
       "_model_module_version": "1.5.0",
       "_model_name": "HBoxModel",
       "_view_count": null,
       "_view_module": "@jupyter-widgets/controls",
       "_view_module_version": "1.5.0",
       "_view_name": "HBoxView",
       "box_style": "",
       "children": [
        "IPY_MODEL_5bc3b88d3a3245b98ac50ccde170e556",
        "IPY_MODEL_ed917c3083974af9aec5709d043cfd14",
        "IPY_MODEL_504ed3215da343f3a7cea6dda17a0071"
       ],
       "layout": "IPY_MODEL_d0ae6fec7d004051beeadbeda6a3aa24"
      }
     },
     "7f86ec3f62894c95a73f0bb95004306f": {
      "model_module": "@jupyter-widgets/base",
      "model_module_version": "1.2.0",
      "model_name": "LayoutModel",
      "state": {
       "_model_module": "@jupyter-widgets/base",
       "_model_module_version": "1.2.0",
       "_model_name": "LayoutModel",
       "_view_count": null,
       "_view_module": "@jupyter-widgets/base",
       "_view_module_version": "1.2.0",
       "_view_name": "LayoutView",
       "align_content": null,
       "align_items": null,
       "align_self": null,
       "border": null,
       "bottom": null,
       "display": null,
       "flex": null,
       "flex_flow": null,
       "grid_area": null,
       "grid_auto_columns": null,
       "grid_auto_flow": null,
       "grid_auto_rows": null,
       "grid_column": null,
       "grid_gap": null,
       "grid_row": null,
       "grid_template_areas": null,
       "grid_template_columns": null,
       "grid_template_rows": null,
       "height": null,
       "justify_content": null,
       "justify_items": null,
       "left": null,
       "margin": null,
       "max_height": null,
       "max_width": null,
       "min_height": null,
       "min_width": null,
       "object_fit": null,
       "object_position": null,
       "order": null,
       "overflow": null,
       "overflow_x": null,
       "overflow_y": null,
       "padding": null,
       "right": null,
       "top": null,
       "visibility": null,
       "width": null
      }
     },
     "8b4a15f9c35b4fd2bc03ea5fcbae6f14": {
      "model_module": "@jupyter-widgets/controls",
      "model_module_version": "1.5.0",
      "model_name": "FloatProgressModel",
      "state": {
       "_dom_classes": [],
       "_model_module": "@jupyter-widgets/controls",
       "_model_module_version": "1.5.0",
       "_model_name": "FloatProgressModel",
       "_view_count": null,
       "_view_module": "@jupyter-widgets/controls",
       "_view_module_version": "1.5.0",
       "_view_name": "ProgressView",
       "bar_style": "success",
       "description": "",
       "description_tooltip": null,
       "layout": "IPY_MODEL_1a9c4b1142944a1e8aafd4a6b3aaf8ca",
       "max": 3.0,
       "min": 0.0,
       "orientation": "horizontal",
       "style": "IPY_MODEL_f7b8d139ba4142ad913b5525321b11fe",
       "value": 3.0
      }
     },
     "9165b9bda3154b54bb3d552f9470d9d2": {
      "model_module": "@jupyter-widgets/controls",
      "model_module_version": "1.5.0",
      "model_name": "HTMLModel",
      "state": {
       "_dom_classes": [],
       "_model_module": "@jupyter-widgets/controls",
       "_model_module_version": "1.5.0",
       "_model_name": "HTMLModel",
       "_view_count": null,
       "_view_module": "@jupyter-widgets/controls",
       "_view_module_version": "1.5.0",
       "_view_name": "HTMLView",
       "description": "",
       "description_tooltip": null,
       "layout": "IPY_MODEL_bc7f8839cea54285b989c437b56f6422",
       "placeholder": "​",
       "style": "IPY_MODEL_0794fdd8a20b4f268cf91ef87a01ce91",
       "value": " 3/3 [00:26&lt;00:00,  8.75s/it]"
      }
     },
     "9ca07ce9ef7549da9ea6dfd1c2183d0c": {
      "model_module": "@jupyter-widgets/controls",
      "model_module_version": "1.5.0",
      "model_name": "DescriptionStyleModel",
      "state": {
       "_model_module": "@jupyter-widgets/controls",
       "_model_module_version": "1.5.0",
       "_model_name": "DescriptionStyleModel",
       "_view_count": null,
       "_view_module": "@jupyter-widgets/base",
       "_view_module_version": "1.2.0",
       "_view_name": "StyleView",
       "description_width": ""
      }
     },
     "bc7f8839cea54285b989c437b56f6422": {
      "model_module": "@jupyter-widgets/base",
      "model_module_version": "1.2.0",
      "model_name": "LayoutModel",
      "state": {
       "_model_module": "@jupyter-widgets/base",
       "_model_module_version": "1.2.0",
       "_model_name": "LayoutModel",
       "_view_count": null,
       "_view_module": "@jupyter-widgets/base",
       "_view_module_version": "1.2.0",
       "_view_name": "LayoutView",
       "align_content": null,
       "align_items": null,
       "align_self": null,
       "border": null,
       "bottom": null,
       "display": null,
       "flex": null,
       "flex_flow": null,
       "grid_area": null,
       "grid_auto_columns": null,
       "grid_auto_flow": null,
       "grid_auto_rows": null,
       "grid_column": null,
       "grid_gap": null,
       "grid_row": null,
       "grid_template_areas": null,
       "grid_template_columns": null,
       "grid_template_rows": null,
       "height": null,
       "justify_content": null,
       "justify_items": null,
       "left": null,
       "margin": null,
       "max_height": null,
       "max_width": null,
       "min_height": null,
       "min_width": null,
       "object_fit": null,
       "object_position": null,
       "order": null,
       "overflow": null,
       "overflow_x": null,
       "overflow_y": null,
       "padding": null,
       "right": null,
       "top": null,
       "visibility": null,
       "width": null
      }
     },
     "c12ce497bf1d4b1b917f95954994fbb3": {
      "model_module": "@jupyter-widgets/base",
      "model_module_version": "1.2.0",
      "model_name": "LayoutModel",
      "state": {
       "_model_module": "@jupyter-widgets/base",
       "_model_module_version": "1.2.0",
       "_model_name": "LayoutModel",
       "_view_count": null,
       "_view_module": "@jupyter-widgets/base",
       "_view_module_version": "1.2.0",
       "_view_name": "LayoutView",
       "align_content": null,
       "align_items": null,
       "align_self": null,
       "border": null,
       "bottom": null,
       "display": null,
       "flex": null,
       "flex_flow": null,
       "grid_area": null,
       "grid_auto_columns": null,
       "grid_auto_flow": null,
       "grid_auto_rows": null,
       "grid_column": null,
       "grid_gap": null,
       "grid_row": null,
       "grid_template_areas": null,
       "grid_template_columns": null,
       "grid_template_rows": null,
       "height": null,
       "justify_content": null,
       "justify_items": null,
       "left": null,
       "margin": null,
       "max_height": null,
       "max_width": null,
       "min_height": null,
       "min_width": null,
       "object_fit": null,
       "object_position": null,
       "order": null,
       "overflow": null,
       "overflow_x": null,
       "overflow_y": null,
       "padding": null,
       "right": null,
       "top": null,
       "visibility": null,
       "width": null
      }
     },
     "d0ae6fec7d004051beeadbeda6a3aa24": {
      "model_module": "@jupyter-widgets/base",
      "model_module_version": "1.2.0",
      "model_name": "LayoutModel",
      "state": {
       "_model_module": "@jupyter-widgets/base",
       "_model_module_version": "1.2.0",
       "_model_name": "LayoutModel",
       "_view_count": null,
       "_view_module": "@jupyter-widgets/base",
       "_view_module_version": "1.2.0",
       "_view_name": "LayoutView",
       "align_content": null,
       "align_items": null,
       "align_self": null,
       "border": null,
       "bottom": null,
       "display": null,
       "flex": null,
       "flex_flow": null,
       "grid_area": null,
       "grid_auto_columns": null,
       "grid_auto_flow": null,
       "grid_auto_rows": null,
       "grid_column": null,
       "grid_gap": null,
       "grid_row": null,
       "grid_template_areas": null,
       "grid_template_columns": null,
       "grid_template_rows": null,
       "height": null,
       "justify_content": null,
       "justify_items": null,
       "left": null,
       "margin": null,
       "max_height": null,
       "max_width": null,
       "min_height": null,
       "min_width": null,
       "object_fit": null,
       "object_position": null,
       "order": null,
       "overflow": null,
       "overflow_x": null,
       "overflow_y": null,
       "padding": null,
       "right": null,
       "top": null,
       "visibility": null,
       "width": null
      }
     },
     "da09a1d0588944ae91e8fc91c1190583": {
      "model_module": "@jupyter-widgets/controls",
      "model_module_version": "1.5.0",
      "model_name": "ProgressStyleModel",
      "state": {
       "_model_module": "@jupyter-widgets/controls",
       "_model_module_version": "1.5.0",
       "_model_name": "ProgressStyleModel",
       "_view_count": null,
       "_view_module": "@jupyter-widgets/base",
       "_view_module_version": "1.2.0",
       "_view_name": "StyleView",
       "bar_color": null,
       "description_width": ""
      }
     },
     "ed917c3083974af9aec5709d043cfd14": {
      "model_module": "@jupyter-widgets/controls",
      "model_module_version": "1.5.0",
      "model_name": "FloatProgressModel",
      "state": {
       "_dom_classes": [],
       "_model_module": "@jupyter-widgets/controls",
       "_model_module_version": "1.5.0",
       "_model_name": "FloatProgressModel",
       "_view_count": null,
       "_view_module": "@jupyter-widgets/controls",
       "_view_module_version": "1.5.0",
       "_view_name": "ProgressView",
       "bar_style": "success",
       "description": "",
       "description_tooltip": null,
       "layout": "IPY_MODEL_4cbb56af73854c21b42242dbee54cde6",
       "max": 3.0,
       "min": 0.0,
       "orientation": "horizontal",
       "style": "IPY_MODEL_da09a1d0588944ae91e8fc91c1190583",
       "value": 3.0
      }
     },
     "f7b8d139ba4142ad913b5525321b11fe": {
      "model_module": "@jupyter-widgets/controls",
      "model_module_version": "1.5.0",
      "model_name": "ProgressStyleModel",
      "state": {
       "_model_module": "@jupyter-widgets/controls",
       "_model_module_version": "1.5.0",
       "_model_name": "ProgressStyleModel",
       "_view_count": null,
       "_view_module": "@jupyter-widgets/base",
       "_view_module_version": "1.2.0",
       "_view_name": "StyleView",
       "bar_color": null,
       "description_width": ""
      }
     }
    },
    "version_major": 2,
    "version_minor": 0
   }
  }
 },
 "nbformat": 4,
 "nbformat_minor": 5
}
