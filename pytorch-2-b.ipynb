{
 "cells": [
  {
   "cell_type": "code",
   "execution_count": 1,
   "id": "ffd3a320",
   "metadata": {
    "_cell_guid": "b1076dfc-b9ad-4769-8c92-a6c4dae69d19",
    "_uuid": "8f2839f25d086af736a60e9eeb907d3b93b6e0e5",
    "execution": {
     "iopub.execute_input": "2023-08-06T19:40:36.911832Z",
     "iopub.status.busy": "2023-08-06T19:40:36.911017Z",
     "iopub.status.idle": "2023-08-06T19:40:40.487056Z",
     "shell.execute_reply": "2023-08-06T19:40:40.486064Z"
    },
    "papermill": {
     "duration": 3.587625,
     "end_time": "2023-08-06T19:40:40.490100",
     "exception": false,
     "start_time": "2023-08-06T19:40:36.902475",
     "status": "completed"
    },
    "tags": []
   },
   "outputs": [],
   "source": [
    "import torch\n",
    "from torch import nn\n",
    "import matplotlib.pyplot as plt\n"
   ]
  },
  {
   "cell_type": "code",
   "execution_count": 2,
   "id": "32f8ca91",
   "metadata": {
    "execution": {
     "iopub.execute_input": "2023-08-06T19:40:40.503302Z",
     "iopub.status.busy": "2023-08-06T19:40:40.502796Z",
     "iopub.status.idle": "2023-08-06T19:40:40.507102Z",
     "shell.execute_reply": "2023-08-06T19:40:40.506055Z"
    },
    "papermill": {
     "duration": 0.013706,
     "end_time": "2023-08-06T19:40:40.509700",
     "exception": false,
     "start_time": "2023-08-06T19:40:40.495994",
     "status": "completed"
    },
    "tags": []
   },
   "outputs": [],
   "source": [
    "## This time we're going to use nn layers from torch instead of explicit hard-coded\n"
   ]
  },
  {
   "cell_type": "code",
   "execution_count": 3,
   "id": "02e2cb2d",
   "metadata": {
    "execution": {
     "iopub.execute_input": "2023-08-06T19:40:40.522328Z",
     "iopub.status.busy": "2023-08-06T19:40:40.521996Z",
     "iopub.status.idle": "2023-08-06T19:40:40.600019Z",
     "shell.execute_reply": "2023-08-06T19:40:40.599099Z"
    },
    "papermill": {
     "duration": 0.086659,
     "end_time": "2023-08-06T19:40:40.602001",
     "exception": false,
     "start_time": "2023-08-06T19:40:40.515342",
     "status": "completed"
    },
    "tags": []
   },
   "outputs": [
    {
     "data": {
      "text/plain": [
       "'cuda'"
      ]
     },
     "execution_count": 3,
     "metadata": {},
     "output_type": "execute_result"
    }
   ],
   "source": [
    "device = \"cuda\" if torch.cuda.is_available() else \"cpu\"\n",
    "device"
   ]
  },
  {
   "cell_type": "code",
   "execution_count": 4,
   "id": "857e9754",
   "metadata": {
    "execution": {
     "iopub.execute_input": "2023-08-06T19:40:40.615323Z",
     "iopub.status.busy": "2023-08-06T19:40:40.614504Z",
     "iopub.status.idle": "2023-08-06T19:40:40.668886Z",
     "shell.execute_reply": "2023-08-06T19:40:40.667947Z"
    },
    "papermill": {
     "duration": 0.063531,
     "end_time": "2023-08-06T19:40:40.671206",
     "exception": false,
     "start_time": "2023-08-06T19:40:40.607675",
     "status": "completed"
    },
    "tags": []
   },
   "outputs": [],
   "source": [
    "## lets create the data.....\n",
    "weight = 0.1\n",
    "bias = 0.1\n",
    "\n",
    "start, end, step = 0, 1, 0.02 \n",
    "X = torch.arange(start, end , step).unsqueeze(dim = 1)\n",
    "# print(X[:10])\n",
    "y = weight*X + bias\n",
    "# print(y[:10])"
   ]
  },
  {
   "cell_type": "code",
   "execution_count": 5,
   "id": "cf46c6e4",
   "metadata": {
    "execution": {
     "iopub.execute_input": "2023-08-06T19:40:40.684473Z",
     "iopub.status.busy": "2023-08-06T19:40:40.684131Z",
     "iopub.status.idle": "2023-08-06T19:40:40.695977Z",
     "shell.execute_reply": "2023-08-06T19:40:40.694956Z"
    },
    "papermill": {
     "duration": 0.020988,
     "end_time": "2023-08-06T19:40:40.698083",
     "exception": false,
     "start_time": "2023-08-06T19:40:40.677095",
     "status": "completed"
    },
    "tags": []
   },
   "outputs": [
    {
     "data": {
      "text/plain": [
       "(35, 35, 15, 15)"
      ]
     },
     "execution_count": 5,
     "metadata": {},
     "output_type": "execute_result"
    }
   ],
   "source": [
    "## split to create training and testing set\n",
    "split_ratio = 0.7\n",
    "train_split_mark = int(split_ratio*len(X))\n",
    "# print(train_split_mark)\n",
    "X_train, y_train = X[:train_split_mark], y[:train_split_mark]\n",
    "X_test, y_test = X[train_split_mark:], y[train_split_mark:]\n",
    "len(X_train),len(y_train),len(X_test),len(y_test)"
   ]
  },
  {
   "cell_type": "code",
   "execution_count": 6,
   "id": "77f74df3",
   "metadata": {
    "execution": {
     "iopub.execute_input": "2023-08-06T19:40:40.711965Z",
     "iopub.status.busy": "2023-08-06T19:40:40.711290Z",
     "iopub.status.idle": "2023-08-06T19:40:40.718342Z",
     "shell.execute_reply": "2023-08-06T19:40:40.717405Z"
    },
    "papermill": {
     "duration": 0.016415,
     "end_time": "2023-08-06T19:40:40.720465",
     "exception": false,
     "start_time": "2023-08-06T19:40:40.704050",
     "status": "completed"
    },
    "tags": []
   },
   "outputs": [],
   "source": [
    "def plot_predictions(train_data=X_train, \n",
    "                     train_labels=y_train, \n",
    "                     test_data=X_test, \n",
    "                     test_labels=y_test, \n",
    "                     predictions=None):\n",
    "  \"\"\"\n",
    "  Plots training data, test data and compares predictions.\n",
    "  \"\"\"\n",
    "  plt.figure(figsize=(10, 7))\n",
    "\n",
    "  # Plot training data in blue\n",
    "  plt.scatter(train_data, train_labels, c=\"b\", s=4, label=\"Training data\")\n",
    "  \n",
    "  # Plot test data in green\n",
    "  plt.scatter(test_data, test_labels, c=\"g\", s=4, label=\"Testing data\")\n",
    "\n",
    "  if predictions is not None:\n",
    "    # Plot the predictions in red (predictions were made on the test data)\n",
    "    plt.scatter(test_data, predictions, c=\"r\", s=4, label=\"Predictions\")\n",
    "\n",
    "  # Show the legend\n",
    "  plt.legend(prop={\"size\": 14});"
   ]
  },
  {
   "cell_type": "code",
   "execution_count": 7,
   "id": "93b30a15",
   "metadata": {
    "execution": {
     "iopub.execute_input": "2023-08-06T19:40:40.733640Z",
     "iopub.status.busy": "2023-08-06T19:40:40.732899Z",
     "iopub.status.idle": "2023-08-06T19:40:41.126118Z",
     "shell.execute_reply": "2023-08-06T19:40:41.125169Z"
    },
    "papermill": {
     "duration": 0.402906,
     "end_time": "2023-08-06T19:40:41.128982",
     "exception": false,
     "start_time": "2023-08-06T19:40:40.726076",
     "status": "completed"
    },
    "tags": []
   },
   "outputs": [
    {
     "data": {
      "image/png": "[encoded data removed]",
      "text/plain": [
       "<Figure size 1000x700 with 1 Axes>"
      ]
     },
     "metadata": {},
     "output_type": "display_data"
    }
   ],
   "source": [
    "# Note: If you've reset your runtime, this function won't work, \n",
    "# you'll have to rerun the cell above where it's instantiated.\n",
    "plot_predictions(X_train, y_train, X_test, y_test)"
   ]
  },
  {
   "cell_type": "code",
   "execution_count": 8,
   "id": "7c5ee07b",
   "metadata": {
    "execution": {
     "iopub.execute_input": "2023-08-06T19:40:41.143762Z",
     "iopub.status.busy": "2023-08-06T19:40:41.142836Z",
     "iopub.status.idle": "2023-08-06T19:40:41.149169Z",
     "shell.execute_reply": "2023-08-06T19:40:41.148270Z"
    },
    "papermill": {
     "duration": 0.015523,
     "end_time": "2023-08-06T19:40:41.151302",
     "exception": false,
     "start_time": "2023-08-06T19:40:41.135779",
     "status": "completed"
    },
    "tags": []
   },
   "outputs": [],
   "source": [
    "## Lets now build the pytorch Linear model\n",
    "## using torch.nn subclasses\n",
    "\n",
    "\n",
    "class LinearRegressionModel(nn.Module):\n",
    "    def __init__(self):\n",
    "        super().__init__()\n",
    "        \n",
    "        ## using nn.Linear\n",
    "        self.linear_layer = nn.Linear(in_features = 1, out_features=1)\n",
    "        ## and thats all compared to our previos approach\n",
    "        \n",
    "    def forward(self,x:torch.Tensor) -> torch.Tensor:\n",
    "        return self.linear_layer(x)\n",
    "\n",
    "    \n"
   ]
  },
  {
   "cell_type": "code",
   "execution_count": 9,
   "id": "65b9442f",
   "metadata": {
    "execution": {
     "iopub.execute_input": "2023-08-06T19:40:41.164226Z",
     "iopub.status.busy": "2023-08-06T19:40:41.163953Z",
     "iopub.status.idle": "2023-08-06T19:40:41.205610Z",
     "shell.execute_reply": "2023-08-06T19:40:41.204569Z"
    },
    "papermill": {
     "duration": 0.050643,
     "end_time": "2023-08-06T19:40:41.207862",
     "exception": false,
     "start_time": "2023-08-06T19:40:41.157219",
     "status": "completed"
    },
    "tags": []
   },
   "outputs": [
    {
     "data": {
      "text/plain": [
       "(LinearRegressionModel(\n",
       "   (linear_layer): Linear(in_features=1, out_features=1, bias=True)\n",
       " ),\n",
       " OrderedDict([('linear_layer.weight', tensor([[0.4912]])),\n",
       "              ('linear_layer.bias', tensor([0.5226]))]))"
      ]
     },
     "execution_count": 9,
     "metadata": {},
     "output_type": "execute_result"
    }
   ],
   "source": [
    "torch.manual_seed(53)\n",
    "model = LinearRegressionModel()\n",
    "model, model.state_dict()"
   ]
  },
  {
   "cell_type": "code",
   "execution_count": 10,
   "id": "df1041da",
   "metadata": {
    "execution": {
     "iopub.execute_input": "2023-08-06T19:40:41.222379Z",
     "iopub.status.busy": "2023-08-06T19:40:41.221506Z",
     "iopub.status.idle": "2023-08-06T19:40:41.227928Z",
     "shell.execute_reply": "2023-08-06T19:40:41.226935Z"
    },
    "papermill": {
     "duration": 0.015571,
     "end_time": "2023-08-06T19:40:41.229984",
     "exception": false,
     "start_time": "2023-08-06T19:40:41.214413",
     "status": "completed"
    },
    "tags": []
   },
   "outputs": [
    {
     "data": {
      "text/plain": [
       "device(type='cpu')"
      ]
     },
     "execution_count": 10,
     "metadata": {},
     "output_type": "execute_result"
    }
   ],
   "source": [
    "## checking if the model is loaded onto GPU\n",
    "next(model.parameters()).device"
   ]
  },
  {
   "cell_type": "code",
   "execution_count": 11,
   "id": "9fd60237",
   "metadata": {
    "execution": {
     "iopub.execute_input": "2023-08-06T19:40:41.245026Z",
     "iopub.status.busy": "2023-08-06T19:40:41.243347Z",
     "iopub.status.idle": "2023-08-06T19:40:44.320999Z",
     "shell.execute_reply": "2023-08-06T19:40:44.320034Z"
    },
    "papermill": {
     "duration": 3.087126,
     "end_time": "2023-08-06T19:40:44.323293",
     "exception": false,
     "start_time": "2023-08-06T19:40:41.236167",
     "status": "completed"
    },
    "tags": []
   },
   "outputs": [
    {
     "data": {
      "text/plain": [
       "device(type='cuda', index=0)"
      ]
     },
     "execution_count": 11,
     "metadata": {},
     "output_type": "execute_result"
    }
   ],
   "source": [
    "## as expected it isn't, so lets load it to the GPU\n",
    "model.to(device)\n",
    "next(model.parameters()).device"
   ]
  },
  {
   "cell_type": "code",
   "execution_count": 12,
   "id": "b3ecf843",
   "metadata": {
    "execution": {
     "iopub.execute_input": "2023-08-06T19:40:44.339152Z",
     "iopub.status.busy": "2023-08-06T19:40:44.337649Z",
     "iopub.status.idle": "2023-08-06T19:40:44.343978Z",
     "shell.execute_reply": "2023-08-06T19:40:44.343007Z"
    },
    "papermill": {
     "duration": 0.016193,
     "end_time": "2023-08-06T19:40:44.346114",
     "exception": false,
     "start_time": "2023-08-06T19:40:44.329921",
     "status": "completed"
    },
    "tags": []
   },
   "outputs": [],
   "source": [
    "## Now lets lay some ground work for the training\n",
    "\n",
    "## create a loss function\n",
    "loss_fn = nn.L1Loss()\n",
    "## creating an optimizer\n",
    "optimizer = torch.optim.SGD(params=model.parameters(), lr =0.04)\n"
   ]
  },
  {
   "cell_type": "code",
   "execution_count": 13,
   "id": "eaf3a61a",
   "metadata": {
    "execution": {
     "iopub.execute_input": "2023-08-06T19:40:44.362457Z",
     "iopub.status.busy": "2023-08-06T19:40:44.360820Z",
     "iopub.status.idle": "2023-08-06T19:40:47.050606Z",
     "shell.execute_reply": "2023-08-06T19:40:47.048828Z"
    },
    "papermill": {
     "duration": 2.69989,
     "end_time": "2023-08-06T19:40:47.052681",
     "exception": false,
     "start_time": "2023-08-06T19:40:44.352791",
     "status": "completed"
    },
    "tags": []
   },
   "outputs": [
    {
     "name": "stdout",
     "output_type": "stream",
     "text": [
      "Epoch: 0, train_loss: 0.5555478930473328, test_loss: 0.6997004151344299\n",
      "Epoch: 100, train_loss: 0.012970374897122383, test_loss: 0.05343583598732948\n",
      "Epoch: 200, train_loss: 0.012970374897122383, test_loss: 0.05343583598732948\n",
      "Epoch: 300, train_loss: 0.012970374897122383, test_loss: 0.05343583598732948\n",
      "Epoch: 400, train_loss: 0.012970374897122383, test_loss: 0.05343583598732948\n",
      "Epoch: 500, train_loss: 0.012970374897122383, test_loss: 0.05343583598732948\n",
      "Epoch: 600, train_loss: 0.012970374897122383, test_loss: 0.05343583598732948\n",
      "Epoch: 700, train_loss: 0.012970374897122383, test_loss: 0.05343583598732948\n",
      "Epoch: 800, train_loss: 0.012970374897122383, test_loss: 0.05343583598732948\n",
      "Epoch: 900, train_loss: 0.012970374897122383, test_loss: 0.05343583598732948\n"
     ]
    }
   ],
   "source": [
    "torch.manual_seed(53)\n",
    "## start of the training loop\n",
    "\n",
    "epochs = 1000\n",
    "\n",
    "## This time we're going to put the entire data on the GPU\n",
    "## make sure you've Enough VRAM for your GPU\n",
    "X_train = X_train.to(device)\n",
    "X_test = X_test.to(device)\n",
    "y_train = y_train.to(device)\n",
    "y_test = y_test.to(device)\n",
    "\n",
    "## training loop\n",
    "\n",
    "for epoch in range(epochs):\n",
    "    ## specifying the mode[Training]\n",
    "    model.train()\n",
    "    \n",
    "    ## forward pass\n",
    "    y_pred = model(X_train)\n",
    "    \n",
    "    ## calc loss\n",
    "    loss = loss_fn(y_pred, y_train)\n",
    "    \n",
    "    ## set Grad to 0\n",
    "    optimizer.zero_grad()\n",
    "    \n",
    "    \n",
    "    ## loss backward-.backprop\n",
    "    loss.backward()\n",
    "    \n",
    "    ## update the optimizer\n",
    "    optimizer.step()\n",
    "    \n",
    "    \n",
    "    ## Testing out the model\n",
    "    model.eval()\n",
    "    \n",
    "    ## forward pass\n",
    "    with torch.inference_mode():\n",
    "        ## forward pass\n",
    "        test_pred = model(X_test)\n",
    "        ## calc loss\n",
    "        test_loss = loss_fn(test_pred, y_test)\n",
    "        ## ok thats all\n",
    "    \n",
    "    if epoch%100==0:\n",
    "        print(f\"Epoch: {epoch}, train_loss: {loss}, test_loss: {test_loss}\")\n",
    "        \n",
    "    \n",
    "\n",
    "\n"
   ]
  },
  {
   "cell_type": "code",
   "execution_count": 14,
   "id": "cce67a89",
   "metadata": {
    "execution": {
     "iopub.execute_input": "2023-08-06T19:40:47.067707Z",
     "iopub.status.busy": "2023-08-06T19:40:47.067416Z",
     "iopub.status.idle": "2023-08-06T19:40:47.092071Z",
     "shell.execute_reply": "2023-08-06T19:40:47.091135Z"
    },
    "papermill": {
     "duration": 0.034446,
     "end_time": "2023-08-06T19:40:47.094183",
     "exception": false,
     "start_time": "2023-08-06T19:40:47.059737",
     "status": "completed"
    },
    "tags": []
   },
   "outputs": [
    {
     "name": "stdout",
     "output_type": "stream",
     "text": [
      "weights: 0.1, bias: 0.1 and model's params: OrderedDict([('linear_layer.weight', tensor([[0.1300]], device='cuda:0')), ('linear_layer.bias', tensor([0.0768], device='cuda:0'))])\n"
     ]
    }
   ],
   "source": [
    "print(f\"weights: {weight}, bias: {bias} and model's params: {model.state_dict()}\")\n"
   ]
  },
  {
   "cell_type": "code",
   "execution_count": 15,
   "id": "8bdbec21",
   "metadata": {
    "execution": {
     "iopub.execute_input": "2023-08-06T19:40:47.109338Z",
     "iopub.status.busy": "2023-08-06T19:40:47.108999Z",
     "iopub.status.idle": "2023-08-06T19:40:47.118245Z",
     "shell.execute_reply": "2023-08-06T19:40:47.117316Z"
    },
    "papermill": {
     "duration": 0.019134,
     "end_time": "2023-08-06T19:40:47.120312",
     "exception": false,
     "start_time": "2023-08-06T19:40:47.101178",
     "status": "completed"
    },
    "tags": []
   },
   "outputs": [
    {
     "data": {
      "text/plain": [
       "tensor([[0.1678],\n",
       "        [0.1704],\n",
       "        [0.1730],\n",
       "        [0.1756],\n",
       "        [0.1782],\n",
       "        [0.1808],\n",
       "        [0.1834],\n",
       "        [0.1860],\n",
       "        [0.1886],\n",
       "        [0.1912],\n",
       "        [0.1938],\n",
       "        [0.1964],\n",
       "        [0.1990],\n",
       "        [0.2016],\n",
       "        [0.2042]], device='cuda:0')"
      ]
     },
     "execution_count": 15,
     "metadata": {},
     "output_type": "execute_result"
    }
   ],
   "source": [
    "## lets make some predictions\n",
    "model.eval()\n",
    "with torch.inference_mode():\n",
    "    y_preds = model(X_test)\n",
    "y_preds\n"
   ]
  },
  {
   "cell_type": "code",
   "execution_count": 16,
   "id": "d3a0b7d7",
   "metadata": {
    "execution": {
     "iopub.execute_input": "2023-08-06T19:40:47.136683Z",
     "iopub.status.busy": "2023-08-06T19:40:47.135824Z",
     "iopub.status.idle": "2023-08-06T19:40:47.510994Z",
     "shell.execute_reply": "2023-08-06T19:40:47.510010Z"
    },
    "papermill": {
     "duration": 0.385719,
     "end_time": "2023-08-06T19:40:47.513323",
     "exception": false,
     "start_time": "2023-08-06T19:40:47.127604",
     "status": "completed"
    },
    "tags": []
   },
   "outputs": [
    {
     "data": {
      "image/png": "[encoded data removed]",
      "text/plain": [
       "<Figure size 1000x700 with 1 Axes>"
      ]
     },
     "metadata": {},
     "output_type": "display_data"
    }
   ],
   "source": [
    "# plot_predictions(predictions=y_preds) # -> won't work... data not on CPU\n",
    "\n",
    "# Put data on the CPU and plot it\n",
    "plot_predictions(predictions=y_preds.cpu())"
   ]
  },
  {
   "cell_type": "code",
   "execution_count": 17,
   "id": "7da5dd81",
   "metadata": {
    "execution": {
     "iopub.execute_input": "2023-08-06T19:40:47.529546Z",
     "iopub.status.busy": "2023-08-06T19:40:47.529234Z",
     "iopub.status.idle": "2023-08-06T19:40:47.539384Z",
     "shell.execute_reply": "2023-08-06T19:40:47.538210Z"
    },
    "papermill": {
     "duration": 0.020578,
     "end_time": "2023-08-06T19:40:47.541383",
     "exception": false,
     "start_time": "2023-08-06T19:40:47.520805",
     "status": "completed"
    },
    "tags": []
   },
   "outputs": [
    {
     "name": "stdout",
     "output_type": "stream",
     "text": [
      "Saving model to: models/01_pytorch_B.pth\n"
     ]
    }
   ],
   "source": [
    "from pathlib import Path\n",
    "\n",
    "# 1. Create models directory \n",
    "MODEL_PATH = Path(\"models\")\n",
    "MODEL_PATH.mkdir(parents=True, exist_ok=True)\n",
    "\n",
    "# 2. Create model save path \n",
    "MODEL_NAME = \"01_pytorch_B.pth\"\n",
    "MODEL_SAVE_PATH = MODEL_PATH / MODEL_NAME\n",
    "\n",
    "# 3. Save the model state dict \n",
    "print(f\"Saving model to: {MODEL_SAVE_PATH}\")\n",
    "torch.save(obj=model.state_dict(), # only saving the state_dict() only saves the models learned parameters\n",
    "           f=MODEL_SAVE_PATH) "
   ]
  },
  {
   "cell_type": "code",
   "execution_count": 18,
   "id": "6b290dbd",
   "metadata": {
    "execution": {
     "iopub.execute_input": "2023-08-06T19:40:47.558674Z",
     "iopub.status.busy": "2023-08-06T19:40:47.557285Z",
     "iopub.status.idle": "2023-08-06T19:40:47.561798Z",
     "shell.execute_reply": "2023-08-06T19:40:47.560930Z"
    },
    "papermill": {
     "duration": 0.014871,
     "end_time": "2023-08-06T19:40:47.563802",
     "exception": false,
     "start_time": "2023-08-06T19:40:47.548931",
     "status": "completed"
    },
    "tags": []
   },
   "outputs": [],
   "source": [
    "## thats all folks for today....\n"
   ]
  },
  {
   "cell_type": "code",
   "execution_count": null,
   "id": "9e85e5b6",
   "metadata": {
    "papermill": {
     "duration": 0.007118,
     "end_time": "2023-08-06T19:40:47.578138",
     "exception": false,
     "start_time": "2023-08-06T19:40:47.571020",
     "status": "completed"
    },
    "tags": []
   },
   "outputs": [],
   "source": []
  }
 ],
 "metadata": {
  "kernelspec": {
   "display_name": "Python 3",
   "language": "python",
   "name": "python3"
  },
  "language_info": {
   "codemirror_mode": {
    "name": "ipython",
    "version": 3
   },
   "file_extension": ".py",
   "mimetype": "text/x-python",
   "name": "python",
   "nbconvert_exporter": "python",
   "pygments_lexer": "ipython3",
   "version": "3.10.12"
  },
  "papermill": {
   "default_parameters": {},
   "duration": 22.706871,
   "end_time": "2023-08-06T19:40:49.209436",
   "environment_variables": {},
   "exception": null,
   "input_path": "__notebook__.ipynb",
   "output_path": "__notebook__.ipynb",
   "parameters": {},
   "start_time": "2023-08-06T19:40:26.502565",
   "version": "2.4.0"
  }
 },
 "nbformat": 4,
 "nbformat_minor": 5
}
