{
 "cells": [
  {
   "cell_type": "code",
   "execution_count": 1,
   "id": "23e0cd00",
   "metadata": {
    "_cell_guid": "b1076dfc-b9ad-4769-8c92-a6c4dae69d19",
    "_uuid": "8f2839f25d086af736a60e9eeb907d3b93b6e0e5",
    "execution": {
     "iopub.execute_input": "2023-08-21T18:24:11.862994Z",
     "iopub.status.busy": "2023-08-21T18:24:11.862616Z",
     "iopub.status.idle": "2023-08-21T18:24:15.411386Z",
     "shell.execute_reply": "2023-08-21T18:24:15.410456Z"
    },
    "papermill": {
     "duration": 3.557224,
     "end_time": "2023-08-21T18:24:15.413897",
     "exception": false,
     "start_time": "2023-08-21T18:24:11.856673",
     "status": "completed"
    },
    "tags": []
   },
   "outputs": [],
   "source": [
    "## Loading libs\n",
    "import torch\n",
    "from torch import nn\n",
    "import torchvision\n",
    "import torchvision.transforms as transforms\n"
   ]
  },
  {
   "cell_type": "code",
   "execution_count": 2,
   "id": "25ebc495",
   "metadata": {
    "execution": {
     "iopub.execute_input": "2023-08-21T18:24:15.424419Z",
     "iopub.status.busy": "2023-08-21T18:24:15.423467Z",
     "iopub.status.idle": "2023-08-21T18:24:15.428110Z",
     "shell.execute_reply": "2023-08-21T18:24:15.427159Z"
    },
    "papermill": {
     "duration": 0.011701,
     "end_time": "2023-08-21T18:24:15.430034",
     "exception": false,
     "start_time": "2023-08-21T18:24:15.418333",
     "status": "completed"
    },
    "tags": []
   },
   "outputs": [],
   "source": [
    "## Setting up Hyperparameters\n",
    "batch_size = 64\n",
    "num_classes = 10\n",
    "lr = 0.001\n",
    "num_epochs = 50 \n",
    "\n"
   ]
  },
  {
   "cell_type": "code",
   "execution_count": 3,
   "id": "8fd13061",
   "metadata": {
    "execution": {
     "iopub.execute_input": "2023-08-21T18:24:15.440463Z",
     "iopub.status.busy": "2023-08-21T18:24:15.439048Z",
     "iopub.status.idle": "2023-08-21T18:24:15.508585Z",
     "shell.execute_reply": "2023-08-21T18:24:15.507680Z"
    },
    "papermill": {
     "duration": 0.076903,
     "end_time": "2023-08-21T18:24:15.510877",
     "exception": false,
     "start_time": "2023-08-21T18:24:15.433974",
     "status": "completed"
    },
    "tags": []
   },
   "outputs": [
    {
     "data": {
      "text/plain": [
       "'cuda'"
      ]
     },
     "execution_count": 3,
     "metadata": {},
     "output_type": "execute_result"
    }
   ],
   "source": [
    "## Device Agnostic codes\n",
    "device = \"cuda\" if torch.cuda.is_available() else \"cpu\"\n",
    "device"
   ]
  },
  {
   "cell_type": "code",
   "execution_count": 4,
   "id": "0b08c4df",
   "metadata": {
    "execution": {
     "iopub.execute_input": "2023-08-21T18:24:15.520666Z",
     "iopub.status.busy": "2023-08-21T18:24:15.520378Z",
     "iopub.status.idle": "2023-08-21T18:24:15.525670Z",
     "shell.execute_reply": "2023-08-21T18:24:15.524763Z"
    },
    "papermill": {
     "duration": 0.012502,
     "end_time": "2023-08-21T18:24:15.527607",
     "exception": false,
     "start_time": "2023-08-21T18:24:15.515105",
     "status": "completed"
    },
    "tags": []
   },
   "outputs": [],
   "source": [
    "## Since we're goisng to use CIFAR-10 Dataset\n",
    "## We need to create certain types of transforms\n",
    "\n",
    "all_transforms = transforms.Compose([\n",
    "    transforms.ToTensor(),\n",
    "    transforms.Normalize(mean=[0.4914,0.4822, 0.4465],std=[0.2023, 0.1994, 0.2010])\n",
    "    \n",
    "])\n",
    "\n"
   ]
  },
  {
   "cell_type": "code",
   "execution_count": 5,
   "id": "a520d483",
   "metadata": {
    "execution": {
     "iopub.execute_input": "2023-08-21T18:24:15.537145Z",
     "iopub.status.busy": "2023-08-21T18:24:15.536876Z",
     "iopub.status.idle": "2023-08-21T18:24:23.432510Z",
     "shell.execute_reply": "2023-08-21T18:24:23.431496Z"
    },
    "papermill": {
     "duration": 7.903163,
     "end_time": "2023-08-21T18:24:23.434989",
     "exception": false,
     "start_time": "2023-08-21T18:24:15.531826",
     "status": "completed"
    },
    "tags": []
   },
   "outputs": [
    {
     "name": "stdout",
     "output_type": "stream",
     "text": [
      "Downloading https://www.cs.toronto.edu/~kriz/cifar-10-python.tar.gz to ./data/cifar-10-python.tar.gz\n"
     ]
    },
    {
     "name": "stderr",
     "output_type": "stream",
     "text": [
      "100%|██████████| 170498071/170498071 [00:04<00:00, 34505159.47it/s]\n"
     ]
    },
    {
     "name": "stdout",
     "output_type": "stream",
     "text": [
      "Extracting ./data/cifar-10-python.tar.gz to ./data\n"
     ]
    }
   ],
   "source": [
    "## Loading datasets\n",
    "train_datasets = torchvision.datasets.CIFAR10(root=\"./data\",\n",
    "                                             train=True,\n",
    "                                             transform = all_transforms,\n",
    "                                             download= True)\n"
   ]
  },
  {
   "cell_type": "code",
   "execution_count": 6,
   "id": "5a6c4aac",
   "metadata": {
    "execution": {
     "iopub.execute_input": "2023-08-21T18:24:23.453400Z",
     "iopub.status.busy": "2023-08-21T18:24:23.453116Z",
     "iopub.status.idle": "2023-08-21T18:24:24.136775Z",
     "shell.execute_reply": "2023-08-21T18:24:24.135802Z"
    },
    "papermill": {
     "duration": 0.696008,
     "end_time": "2023-08-21T18:24:24.139327",
     "exception": false,
     "start_time": "2023-08-21T18:24:23.443319",
     "status": "completed"
    },
    "tags": []
   },
   "outputs": [
    {
     "name": "stdout",
     "output_type": "stream",
     "text": [
      "Files already downloaded and verified\n"
     ]
    }
   ],
   "source": [
    "## Creating test dataset\n",
    "\n",
    "test_datasets = torchvision.datasets.CIFAR10(root='./data',\n",
    "                                            train = False,\n",
    "                                            transform = all_transforms,\n",
    "                                            download = True)\n"
   ]
  },
  {
   "cell_type": "code",
   "execution_count": 7,
   "id": "798dac16",
   "metadata": {
    "execution": {
     "iopub.execute_input": "2023-08-21T18:24:24.158150Z",
     "iopub.status.busy": "2023-08-21T18:24:24.157858Z",
     "iopub.status.idle": "2023-08-21T18:24:24.163658Z",
     "shell.execute_reply": "2023-08-21T18:24:24.162775Z"
    },
    "papermill": {
     "duration": 0.01761,
     "end_time": "2023-08-21T18:24:24.165839",
     "exception": false,
     "start_time": "2023-08-21T18:24:24.148229",
     "status": "completed"
    },
    "tags": []
   },
   "outputs": [],
   "source": [
    "## Time to put dataset into dataloaders\n",
    "\n",
    "train_loader = torch.utils.data.DataLoader(dataset = train_datasets,\n",
    "                                          batch_size = batch_size,\n",
    "                                          shuffle= True)\n",
    "\n",
    "test_loader = torch.utils.data.DataLoader(dataset = test_datasets,\n",
    "                                         batch_size = batch_size,\n",
    "                                         shuffle = True)"
   ]
  },
  {
   "cell_type": "code",
   "execution_count": 8,
   "id": "e3bf5c0f",
   "metadata": {
    "execution": {
     "iopub.execute_input": "2023-08-21T18:24:24.183484Z",
     "iopub.status.busy": "2023-08-21T18:24:24.183222Z",
     "iopub.status.idle": "2023-08-21T18:24:24.193895Z",
     "shell.execute_reply": "2023-08-21T18:24:24.192845Z"
    },
    "papermill": {
     "duration": 0.022479,
     "end_time": "2023-08-21T18:24:24.196382",
     "exception": false,
     "start_time": "2023-08-21T18:24:24.173903",
     "status": "completed"
    },
    "tags": []
   },
   "outputs": [],
   "source": [
    "# ## Creating a blue print of the Model\n",
    "# class CNN(nn.Module):\n",
    "#     def __init__(self, num_classes):\n",
    "#         super(CNN, self).__init__()\n",
    "        \n",
    "#         self.layer_1 = nn.Conv2d(3,32,3)\n",
    "#         self.layer_2 = nn.Conv2d(32,32,3)\n",
    "#         self.max_pool1 = nn.MaxPool2d(2,2)\n",
    "        \n",
    "#         self.layer_3 = nn.Conv2d(32,64,3)\n",
    "#         self.layer_4 = nn.Conv2d(64,64,3)\n",
    "#         self.max_pool2 = nn.MaxPool2d(2,2)\n",
    "        \n",
    "#         self.fc1 = nn.Linear(1600, 28)\n",
    "#         self.relu1 = nn.ReLU()\n",
    "#         self.fc2 = nn.Linear(128, num_classes)\n",
    "        \n",
    "#     def forward(self,x):\n",
    "#         out = self.layer_1(x)\n",
    "#         out = self.layer_2(out)\n",
    "#         out = self.max_pool1(out)\n",
    "#         out = self.layer_3(out)\n",
    "#         out = self.layer_4(out)\n",
    "#         out = self.max_pool2(out)\n",
    "        \n",
    "#         ## reshape before feeding the ip into FCs\n",
    "#         out = out.reshape(out.size(0), -1)\n",
    "        \n",
    "#         out = self.fc1(out)\n",
    "#         out = self.relu1(out)\n",
    "#         out = self.fc2(out)\n",
    "        \n",
    "#         return out\n",
    "        \n",
    "# Creating a CNN class\n",
    "class CNN(nn.Module):\n",
    "\t#  Determine what layers and their order in CNN object \n",
    "    def __init__(self, num_classes):\n",
    "        super(CNN, self).__init__()\n",
    "        self.conv_layer1 = nn.Conv2d(in_channels=3, out_channels=32, kernel_size=3)\n",
    "        self.conv_layer2 = nn.Conv2d(in_channels=32, out_channels=32, kernel_size=3)\n",
    "        self.max_pool1 = nn.MaxPool2d(kernel_size = 2, stride = 2)\n",
    "        \n",
    "        self.conv_layer3 = nn.Conv2d(in_channels=32, out_channels=64, kernel_size=3)\n",
    "        self.conv_layer4 = nn.Conv2d(in_channels=64, out_channels=64, kernel_size=3)\n",
    "        self.max_pool2 = nn.MaxPool2d(kernel_size = 2, stride = 2)\n",
    "        \n",
    "        self.fc1 = nn.Linear(1600, 128)\n",
    "        self.relu1 = nn.ReLU()\n",
    "        self.fc2 = nn.Linear(128, num_classes)\n",
    "    \n",
    "    # Progresses data across layers    \n",
    "    def forward(self, x):\n",
    "        out = self.conv_layer1(x)\n",
    "        out = self.conv_layer2(out)\n",
    "        out = self.max_pool1(out)\n",
    "        \n",
    "        out = self.conv_layer3(out)\n",
    "        out = self.conv_layer4(out)\n",
    "        out = self.max_pool2(out)\n",
    "                \n",
    "        out = out.reshape(out.size(0), -1)\n",
    "        \n",
    "        out = self.fc1(out)\n",
    "        out = self.relu1(out)\n",
    "        out = self.fc2(out)\n",
    "        return out"
   ]
  },
  {
   "cell_type": "code",
   "execution_count": 9,
   "id": "13a7bc31",
   "metadata": {
    "execution": {
     "iopub.execute_input": "2023-08-21T18:24:24.213977Z",
     "iopub.status.busy": "2023-08-21T18:24:24.213456Z",
     "iopub.status.idle": "2023-08-21T18:24:27.020999Z",
     "shell.execute_reply": "2023-08-21T18:24:27.020012Z"
    },
    "papermill": {
     "duration": 2.818813,
     "end_time": "2023-08-21T18:24:27.023341",
     "exception": false,
     "start_time": "2023-08-21T18:24:24.204528",
     "status": "completed"
    },
    "tags": []
   },
   "outputs": [],
   "source": [
    "## Lets instantiate our model\n",
    "model = CNN(num_classes)\n",
    "\n",
    "model.to(device)\n",
    "\n",
    "criterion = nn.CrossEntropyLoss()\n",
    "\n",
    "optimizer = torch.optim.SGD(model.parameters(), lr = lr, weight_decay = 0.005, momentum = 0.9)\n",
    "\n",
    "\n",
    "total_step = len(train_loader)\n",
    "\n"
   ]
  },
  {
   "cell_type": "code",
   "execution_count": 10,
   "id": "10a4e721",
   "metadata": {
    "execution": {
     "iopub.execute_input": "2023-08-21T18:24:27.043949Z",
     "iopub.status.busy": "2023-08-21T18:24:27.042459Z",
     "iopub.status.idle": "2023-08-21T18:24:27.050541Z",
     "shell.execute_reply": "2023-08-21T18:24:27.049687Z"
    },
    "papermill": {
     "duration": 0.020035,
     "end_time": "2023-08-21T18:24:27.052755",
     "exception": false,
     "start_time": "2023-08-21T18:24:27.032720",
     "status": "completed"
    },
    "tags": []
   },
   "outputs": [
    {
     "data": {
      "text/plain": [
       "'cuda'"
      ]
     },
     "execution_count": 10,
     "metadata": {},
     "output_type": "execute_result"
    }
   ],
   "source": [
    "device"
   ]
  },
  {
   "cell_type": "code",
   "execution_count": 11,
   "id": "55ef481d",
   "metadata": {
    "execution": {
     "iopub.execute_input": "2023-08-21T18:24:27.070557Z",
     "iopub.status.busy": "2023-08-21T18:24:27.070168Z",
     "iopub.status.idle": "2023-08-21T18:35:24.191372Z",
     "shell.execute_reply": "2023-08-21T18:35:24.190432Z"
    },
    "papermill": {
     "duration": 657.13749,
     "end_time": "2023-08-21T18:35:24.198454",
     "exception": false,
     "start_time": "2023-08-21T18:24:27.060964",
     "status": "completed"
    },
    "tags": []
   },
   "outputs": [
    {
     "name": "stdout",
     "output_type": "stream",
     "text": [
      "Epoch [1/50], Loss: 1.7405\n",
      "Epoch [2/50], Loss: 1.3588\n",
      "Epoch [3/50], Loss: 1.6455\n",
      "Epoch [4/50], Loss: 0.8769\n",
      "Epoch [5/50], Loss: 1.3026\n",
      "Epoch [6/50], Loss: 0.7920\n",
      "Epoch [7/50], Loss: 0.9983\n",
      "Epoch [8/50], Loss: 0.9312\n",
      "Epoch [9/50], Loss: 0.5768\n",
      "Epoch [10/50], Loss: 0.8994\n",
      "Epoch [11/50], Loss: 1.1246\n",
      "Epoch [12/50], Loss: 0.6203\n",
      "Epoch [13/50], Loss: 0.7026\n",
      "Epoch [14/50], Loss: 0.7538\n",
      "Epoch [15/50], Loss: 0.5328\n",
      "Epoch [16/50], Loss: 0.6767\n",
      "Epoch [17/50], Loss: 0.5164\n",
      "Epoch [18/50], Loss: 0.4878\n",
      "Epoch [19/50], Loss: 0.9593\n",
      "Epoch [20/50], Loss: 0.9969\n",
      "Epoch [21/50], Loss: 0.9304\n",
      "Epoch [22/50], Loss: 0.7156\n",
      "Epoch [23/50], Loss: 0.6729\n",
      "Epoch [24/50], Loss: 0.5601\n",
      "Epoch [25/50], Loss: 0.8471\n",
      "Epoch [26/50], Loss: 0.3296\n",
      "Epoch [27/50], Loss: 0.3021\n",
      "Epoch [28/50], Loss: 0.4058\n",
      "Epoch [29/50], Loss: 0.4386\n",
      "Epoch [30/50], Loss: 0.3073\n",
      "Epoch [31/50], Loss: 0.6906\n",
      "Epoch [32/50], Loss: 0.2270\n",
      "Epoch [33/50], Loss: 0.3979\n",
      "Epoch [34/50], Loss: 0.7494\n",
      "Epoch [35/50], Loss: 0.0876\n",
      "Epoch [36/50], Loss: 0.4830\n",
      "Epoch [37/50], Loss: 0.1245\n",
      "Epoch [38/50], Loss: 0.1252\n",
      "Epoch [39/50], Loss: 0.3540\n",
      "Epoch [40/50], Loss: 0.9335\n",
      "Epoch [41/50], Loss: 0.0300\n",
      "Epoch [42/50], Loss: 0.1286\n",
      "Epoch [43/50], Loss: 0.1505\n",
      "Epoch [44/50], Loss: 0.2465\n",
      "Epoch [45/50], Loss: 0.1268\n",
      "Epoch [46/50], Loss: 0.1597\n",
      "Epoch [47/50], Loss: 0.1205\n",
      "Epoch [48/50], Loss: 0.3399\n",
      "Epoch [49/50], Loss: 0.0936\n",
      "Epoch [50/50], Loss: 0.1337\n"
     ]
    }
   ],
   "source": [
    "# We use the pre-defined number of epochs to determine how many iterations to train the network on\n",
    "for epoch in range(num_epochs):\n",
    "\t#Load in the data in batches using the train_loader object\n",
    "    for i, (images, labels) in enumerate(train_loader):  \n",
    "        # Move tensors to the configured device\n",
    "        images = images.to(device)\n",
    "        labels = labels.to(device)\n",
    "        \n",
    "        # Forward pass\n",
    "        outputs = model(images)\n",
    "        loss = criterion(outputs, labels)\n",
    "        \n",
    "        # Backward and optimize\n",
    "        optimizer.zero_grad()\n",
    "        loss.backward()\n",
    "        optimizer.step()\n",
    "\n",
    "    print('Epoch [{}/{}], Loss: {:.4f}'.format(epoch+1, num_epochs, loss.item()))\n",
    "\n",
    "            \n",
    "            \n"
   ]
  },
  {
   "cell_type": "code",
   "execution_count": 12,
   "id": "84b9b26c",
   "metadata": {
    "execution": {
     "iopub.execute_input": "2023-08-21T18:35:24.224761Z",
     "iopub.status.busy": "2023-08-21T18:35:24.223352Z",
     "iopub.status.idle": "2023-08-21T18:35:36.758740Z",
     "shell.execute_reply": "2023-08-21T18:35:36.757654Z"
    },
    "papermill": {
     "duration": 12.550548,
     "end_time": "2023-08-21T18:35:36.760875",
     "exception": false,
     "start_time": "2023-08-21T18:35:24.210327",
     "status": "completed"
    },
    "tags": []
   },
   "outputs": [
    {
     "name": "stdout",
     "output_type": "stream",
     "text": [
      "Accuracy of the network on the 50000 train images: 96.046 %\n"
     ]
    }
   ],
   "source": [
    "with torch.no_grad():\n",
    "    correct = 0\n",
    "    total = 0\n",
    "    for images, labels in train_loader:\n",
    "        images = images.to(device)\n",
    "        labels = labels.to(device)\n",
    "        outputs = model(images)\n",
    "        _, predicted = torch.max(outputs.data, 1)\n",
    "        total += labels.size(0)\n",
    "        correct += (predicted == labels).sum().item()\n",
    "    \n",
    "    print('Accuracy of the network on the {} train images: {} %'.format(50000, 100 * correct / total))\n",
    "\n",
    "\n"
   ]
  },
  {
   "cell_type": "code",
   "execution_count": null,
   "id": "fc2d26e1",
   "metadata": {
    "papermill": {
     "duration": 0.011699,
     "end_time": "2023-08-21T18:35:36.784680",
     "exception": false,
     "start_time": "2023-08-21T18:35:36.772981",
     "status": "completed"
    },
    "tags": []
   },
   "outputs": [],
   "source": []
  }
 ],
 "metadata": {
  "kernelspec": {
   "display_name": "Python 3",
   "language": "python",
   "name": "python3"
  },
  "language_info": {
   "codemirror_mode": {
    "name": "ipython",
    "version": 3
   },
   "file_extension": ".py",
   "mimetype": "text/x-python",
   "name": "python",
   "nbconvert_exporter": "python",
   "pygments_lexer": "ipython3",
   "version": "3.10.12"
  },
  "papermill": {
   "default_parameters": {},
   "duration": 696.926568,
   "end_time": "2023-08-21T18:35:39.183519",
   "environment_variables": {},
   "exception": null,
   "input_path": "__notebook__.ipynb",
   "output_path": "__notebook__.ipynb",
   "parameters": {},
   "start_time": "2023-08-21T18:24:02.256951",
   "version": "2.4.0"
  }
 },
 "nbformat": 4,
 "nbformat_minor": 5
}
