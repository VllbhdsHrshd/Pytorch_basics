{
 "cells": [
  {
   "cell_type": "code",
   "execution_count": 1,
   "id": "271fe8e3",
   "metadata": {
    "_cell_guid": "b1076dfc-b9ad-4769-8c92-a6c4dae69d19",
    "_uuid": "8f2839f25d086af736a60e9eeb907d3b93b6e0e5",
    "execution": {
     "iopub.execute_input": "2023-08-07T19:36:46.035379Z",
     "iopub.status.busy": "2023-08-07T19:36:46.034315Z",
     "iopub.status.idle": "2023-08-07T19:36:49.476230Z",
     "shell.execute_reply": "2023-08-07T19:36:49.475034Z"
    },
    "papermill": {
     "duration": 3.454275,
     "end_time": "2023-08-07T19:36:49.479355",
     "exception": false,
     "start_time": "2023-08-07T19:36:46.025080",
     "status": "completed"
    },
    "tags": []
   },
   "outputs": [],
   "source": [
    "import torch"
   ]
  },
  {
   "cell_type": "markdown",
   "id": "eb591443",
   "metadata": {
    "papermill": {
     "duration": 0.006063,
     "end_time": "2023-08-07T19:36:49.492005",
     "exception": false,
     "start_time": "2023-08-07T19:36:49.485942",
     "status": "completed"
    },
    "tags": []
   },
   "source": [
    "**Task - 1 start**"
   ]
  },
  {
   "cell_type": "code",
   "execution_count": 2,
   "id": "5b4050b2",
   "metadata": {
    "execution": {
     "iopub.execute_input": "2023-08-07T19:36:49.505773Z",
     "iopub.status.busy": "2023-08-07T19:36:49.505274Z",
     "iopub.status.idle": "2023-08-07T19:36:49.533661Z",
     "shell.execute_reply": "2023-08-07T19:36:49.532780Z"
    },
    "papermill": {
     "duration": 0.037701,
     "end_time": "2023-08-07T19:36:49.535767",
     "exception": false,
     "start_time": "2023-08-07T19:36:49.498066",
     "status": "completed"
    },
    "tags": []
   },
   "outputs": [],
   "source": [
    "start = 0\n",
    "end = 100\n",
    "step = 0.1\n",
    "data = torch.arange(start, end , step).unsqueeze(dim=1)\n"
   ]
  },
  {
   "cell_type": "code",
   "execution_count": 3,
   "id": "02247c83",
   "metadata": {
    "execution": {
     "iopub.execute_input": "2023-08-07T19:36:49.549697Z",
     "iopub.status.busy": "2023-08-07T19:36:49.548904Z",
     "iopub.status.idle": "2023-08-07T19:36:49.556009Z",
     "shell.execute_reply": "2023-08-07T19:36:49.555180Z"
    },
    "papermill": {
     "duration": 0.015974,
     "end_time": "2023-08-07T19:36:49.557890",
     "exception": false,
     "start_time": "2023-08-07T19:36:49.541916",
     "status": "completed"
    },
    "tags": []
   },
   "outputs": [
    {
     "data": {
      "text/plain": [
       "(2, torch.Size([1000, 1]))"
      ]
     },
     "execution_count": 3,
     "metadata": {},
     "output_type": "execute_result"
    }
   ],
   "source": [
    "data.ndim, data.shape"
   ]
  },
  {
   "cell_type": "code",
   "execution_count": 4,
   "id": "2f6fc99d",
   "metadata": {
    "execution": {
     "iopub.execute_input": "2023-08-07T19:36:49.572761Z",
     "iopub.status.busy": "2023-08-07T19:36:49.571275Z",
     "iopub.status.idle": "2023-08-07T19:36:49.602137Z",
     "shell.execute_reply": "2023-08-07T19:36:49.601282Z"
    },
    "papermill": {
     "duration": 0.040205,
     "end_time": "2023-08-07T19:36:49.604259",
     "exception": false,
     "start_time": "2023-08-07T19:36:49.564054",
     "status": "completed"
    },
    "tags": []
   },
   "outputs": [],
   "source": [
    "## Y = MX+C\n",
    "slope = 0.3\n",
    "intercept = 0.9\n",
    "Y = slope*data+intercept"
   ]
  },
  {
   "cell_type": "code",
   "execution_count": 5,
   "id": "6f6c32fa",
   "metadata": {
    "execution": {
     "iopub.execute_input": "2023-08-07T19:36:49.618424Z",
     "iopub.status.busy": "2023-08-07T19:36:49.617784Z",
     "iopub.status.idle": "2023-08-07T19:36:49.627400Z",
     "shell.execute_reply": "2023-08-07T19:36:49.626549Z"
    },
    "papermill": {
     "duration": 0.018796,
     "end_time": "2023-08-07T19:36:49.629376",
     "exception": false,
     "start_time": "2023-08-07T19:36:49.610580",
     "status": "completed"
    },
    "tags": []
   },
   "outputs": [
    {
     "name": "stdout",
     "output_type": "stream",
     "text": [
      "800\n"
     ]
    }
   ],
   "source": [
    "# Y[:10], Y[10:]\n",
    "split_factor = 0.8\n",
    "split_mark = int(split_factor * len(data))\n",
    "print(split_mark)\n",
    "X_train = data[:split_mark]\n",
    "X_test = data[split_mark:]\n",
    "y_pred = Y[:split_mark]\n",
    "y_test = Y[split_mark:]\n"
   ]
  },
  {
   "cell_type": "code",
   "execution_count": 6,
   "id": "f61ba0b1",
   "metadata": {
    "execution": {
     "iopub.execute_input": "2023-08-07T19:36:49.643698Z",
     "iopub.status.busy": "2023-08-07T19:36:49.642875Z",
     "iopub.status.idle": "2023-08-07T19:36:49.649909Z",
     "shell.execute_reply": "2023-08-07T19:36:49.648959Z"
    },
    "papermill": {
     "duration": 0.016212,
     "end_time": "2023-08-07T19:36:49.651872",
     "exception": false,
     "start_time": "2023-08-07T19:36:49.635660",
     "status": "completed"
    },
    "tags": []
   },
   "outputs": [
    {
     "data": {
      "text/plain": [
       "(800, 200, 800, 200)"
      ]
     },
     "execution_count": 6,
     "metadata": {},
     "output_type": "execute_result"
    }
   ],
   "source": [
    "len(X_train),len(X_test),len(y_pred),len(y_test)"
   ]
  },
  {
   "cell_type": "code",
   "execution_count": 7,
   "id": "f9ed9ca2",
   "metadata": {
    "execution": {
     "iopub.execute_input": "2023-08-07T19:36:49.666213Z",
     "iopub.status.busy": "2023-08-07T19:36:49.665496Z",
     "iopub.status.idle": "2023-08-07T19:36:49.954017Z",
     "shell.execute_reply": "2023-08-07T19:36:49.953070Z"
    },
    "papermill": {
     "duration": 0.297771,
     "end_time": "2023-08-07T19:36:49.955998",
     "exception": false,
     "start_time": "2023-08-07T19:36:49.658227",
     "status": "completed"
    },
    "tags": []
   },
   "outputs": [
    {
     "data": {
      "image/png": "[encoded data removed]",
      "text/plain": [
       "<Figure size 640x480 with 1 Axes>"
      ]
     },
     "metadata": {},
     "output_type": "display_data"
    }
   ],
   "source": [
    "import matplotlib.pyplot as plt\n",
    "plt.scatter(X_train, y_pred, s=1)\n",
    "plt.show()"
   ]
  },
  {
   "cell_type": "markdown",
   "id": "2d377114",
   "metadata": {
    "papermill": {
     "duration": 0.006587,
     "end_time": "2023-08-07T19:36:49.969453",
     "exception": false,
     "start_time": "2023-08-07T19:36:49.962866",
     "status": "completed"
    },
    "tags": []
   },
   "source": [
    "**Task -1 End**"
   ]
  },
  {
   "cell_type": "markdown",
   "id": "9b1cba73",
   "metadata": {
    "papermill": {
     "duration": 0.006474,
     "end_time": "2023-08-07T19:36:49.982744",
     "exception": false,
     "start_time": "2023-08-07T19:36:49.976270",
     "status": "completed"
    },
    "tags": []
   },
   "source": [
    "**Task-2 Start**"
   ]
  },
  {
   "cell_type": "code",
   "execution_count": 8,
   "id": "4c552ee4",
   "metadata": {
    "execution": {
     "iopub.execute_input": "2023-08-07T19:36:49.998096Z",
     "iopub.status.busy": "2023-08-07T19:36:49.997236Z",
     "iopub.status.idle": "2023-08-07T19:36:50.002061Z",
     "shell.execute_reply": "2023-08-07T19:36:50.001169Z"
    },
    "papermill": {
     "duration": 0.014563,
     "end_time": "2023-08-07T19:36:50.004089",
     "exception": false,
     "start_time": "2023-08-07T19:36:49.989526",
     "status": "completed"
    },
    "tags": []
   },
   "outputs": [],
   "source": [
    "from torch import nn"
   ]
  },
  {
   "cell_type": "code",
   "execution_count": 9,
   "id": "b201a65e",
   "metadata": {
    "execution": {
     "iopub.execute_input": "2023-08-07T19:36:50.018651Z",
     "iopub.status.busy": "2023-08-07T19:36:50.018375Z",
     "iopub.status.idle": "2023-08-07T19:36:50.087175Z",
     "shell.execute_reply": "2023-08-07T19:36:50.086308Z"
    },
    "papermill": {
     "duration": 0.078397,
     "end_time": "2023-08-07T19:36:50.089092",
     "exception": false,
     "start_time": "2023-08-07T19:36:50.010695",
     "status": "completed"
    },
    "tags": []
   },
   "outputs": [
    {
     "data": {
      "text/plain": [
       "'cuda'"
      ]
     },
     "execution_count": 9,
     "metadata": {},
     "output_type": "execute_result"
    }
   ],
   "source": [
    "device = \"cuda\" if torch.cuda.is_available() else \"cpu\"\n",
    "device"
   ]
  },
  {
   "cell_type": "markdown",
   "id": "fd280d72",
   "metadata": {
    "papermill": {
     "duration": 0.006619,
     "end_time": "2023-08-07T19:36:50.102507",
     "exception": false,
     "start_time": "2023-08-07T19:36:50.095888",
     "status": "completed"
    },
    "tags": []
   },
   "source": [
    "**\"Building The Regression Model BluePrint\"**"
   ]
  },
  {
   "cell_type": "code",
   "execution_count": 10,
   "id": "1abb6491",
   "metadata": {
    "execution": {
     "iopub.execute_input": "2023-08-07T19:36:50.117272Z",
     "iopub.status.busy": "2023-08-07T19:36:50.116983Z",
     "iopub.status.idle": "2023-08-07T19:36:50.124759Z",
     "shell.execute_reply": "2023-08-07T19:36:50.123905Z"
    },
    "papermill": {
     "duration": 0.017449,
     "end_time": "2023-08-07T19:36:50.126821",
     "exception": false,
     "start_time": "2023-08-07T19:36:50.109372",
     "status": "completed"
    },
    "tags": []
   },
   "outputs": [],
   "source": [
    "# layer_1 = nn.Linear(in_features=1 , out_features=2)\n",
    "\n",
    "# class LinearRegressionTest(nn.Module):\n",
    "#     def __init__(self):\n",
    "#         super().__init__()\n",
    "        \n",
    "#         self.LinearLayer = nn.Linear(in_features = 1, out_features=1)\n",
    "        \n",
    "#     def forward(self,x:torch.Tensor) -> torch.Tensor:\n",
    "#         return self.LinearLayer(x)\n",
    "    \n",
    "\n",
    "    \n",
    "class LinearRegressionTest(nn.Module):\n",
    "    def __init__(self):\n",
    "        super().__init__()\n",
    "        \n",
    "        ## Weights\n",
    "        self.weight = nn.Parameter(data = torch.randn(1, requires_grad=True,\n",
    "                                                     dtype = torch.float32))\n",
    "        \n",
    "        ##Bias\n",
    "        self.bias = nn.Parameter(data = torch.randn(1, requires_grad=True,\n",
    "                                                   dtype = torch.float32))\n",
    "        \n",
    "    \n",
    "    def forward(self,x:torch.Tensor) -> torch.Tensor:\n",
    "        return self.weight*x + self.bias\n",
    "\n",
    "        \n",
    "            \n",
    "    \n",
    "    \n",
    "    \n",
    "    \n",
    "    \n"
   ]
  },
  {
   "cell_type": "code",
   "execution_count": 11,
   "id": "f2de80a3",
   "metadata": {
    "execution": {
     "iopub.execute_input": "2023-08-07T19:36:50.143662Z",
     "iopub.status.busy": "2023-08-07T19:36:50.143389Z",
     "iopub.status.idle": "2023-08-07T19:36:50.185270Z",
     "shell.execute_reply": "2023-08-07T19:36:50.184280Z"
    },
    "papermill": {
     "duration": 0.054586,
     "end_time": "2023-08-07T19:36:50.188124",
     "exception": false,
     "start_time": "2023-08-07T19:36:50.133538",
     "status": "completed"
    },
    "tags": []
   },
   "outputs": [
    {
     "data": {
      "text/plain": [
       "(LinearRegressionTest(),\n",
       " OrderedDict([('weight', tensor([-0.6484])), ('bias', tensor([-0.7058]))]))"
      ]
     },
     "execution_count": 11,
     "metadata": {},
     "output_type": "execute_result"
    }
   ],
   "source": [
    "torch.manual_seed(43)\n",
    "model = LinearRegressionTest()\n",
    "model, model.state_dict()"
   ]
  },
  {
   "cell_type": "code",
   "execution_count": 12,
   "id": "3b335c03",
   "metadata": {
    "execution": {
     "iopub.execute_input": "2023-08-07T19:36:50.203679Z",
     "iopub.status.busy": "2023-08-07T19:36:50.203417Z",
     "iopub.status.idle": "2023-08-07T19:36:50.207710Z",
     "shell.execute_reply": "2023-08-07T19:36:50.206431Z"
    },
    "papermill": {
     "duration": 0.014565,
     "end_time": "2023-08-07T19:36:50.210031",
     "exception": false,
     "start_time": "2023-08-07T19:36:50.195466",
     "status": "completed"
    },
    "tags": []
   },
   "outputs": [],
   "source": [
    "# next(model.parameters()).device"
   ]
  },
  {
   "cell_type": "code",
   "execution_count": 13,
   "id": "b54e4b3a",
   "metadata": {
    "execution": {
     "iopub.execute_input": "2023-08-07T19:36:50.224819Z",
     "iopub.status.busy": "2023-08-07T19:36:50.224567Z",
     "iopub.status.idle": "2023-08-07T19:36:53.208150Z",
     "shell.execute_reply": "2023-08-07T19:36:53.207206Z"
    },
    "papermill": {
     "duration": 2.993834,
     "end_time": "2023-08-07T19:36:53.210701",
     "exception": false,
     "start_time": "2023-08-07T19:36:50.216867",
     "status": "completed"
    },
    "tags": []
   },
   "outputs": [
    {
     "data": {
      "text/plain": [
       "[Parameter containing:\n",
       " tensor([-0.6484], device='cuda:0', requires_grad=True),\n",
       " Parameter containing:\n",
       " tensor([-0.7058], device='cuda:0', requires_grad=True)]"
      ]
     },
     "execution_count": 13,
     "metadata": {},
     "output_type": "execute_result"
    }
   ],
   "source": [
    "model.to(device)\n",
    "list(model.parameters())"
   ]
  },
  {
   "cell_type": "code",
   "execution_count": 14,
   "id": "75688030",
   "metadata": {
    "execution": {
     "iopub.execute_input": "2023-08-07T19:36:53.227806Z",
     "iopub.status.busy": "2023-08-07T19:36:53.227515Z",
     "iopub.status.idle": "2023-08-07T19:36:53.232057Z",
     "shell.execute_reply": "2023-08-07T19:36:53.231160Z"
    },
    "papermill": {
     "duration": 0.014649,
     "end_time": "2023-08-07T19:36:53.234032",
     "exception": false,
     "start_time": "2023-08-07T19:36:53.219383",
     "status": "completed"
    },
    "tags": []
   },
   "outputs": [],
   "source": [
    "##lets define our loss function scheme\n",
    "loss_fn = nn.L1Loss()\n",
    "## and an optimizer as well\n",
    "optimizer = torch.optim.SGD(params = model.parameters(),lr=0.01)"
   ]
  },
  {
   "cell_type": "markdown",
   "id": "552f4aef",
   "metadata": {
    "papermill": {
     "duration": 0.006969,
     "end_time": "2023-08-07T19:36:53.247955",
     "exception": false,
     "start_time": "2023-08-07T19:36:53.240986",
     "status": "completed"
    },
    "tags": []
   },
   "source": [
    "**\"Remember the basic steps for the training\" \n",
    "1-> forward Pass\n",
    "2-> calculate error\n",
    "3-> set gradient to zero\n",
    "4-> calculate gradient\n",
    "5-> backward propagation i.e. update the optimizer\n",
    "**"
   ]
  },
  {
   "cell_type": "code",
   "execution_count": 15,
   "id": "5bb01db4",
   "metadata": {
    "execution": {
     "iopub.execute_input": "2023-08-07T19:36:53.270014Z",
     "iopub.status.busy": "2023-08-07T19:36:53.269532Z",
     "iopub.status.idle": "2023-08-07T19:36:55.551942Z",
     "shell.execute_reply": "2023-08-07T19:36:55.550932Z"
    },
    "papermill": {
     "duration": 2.297358,
     "end_time": "2023-08-07T19:36:55.554085",
     "exception": false,
     "start_time": "2023-08-07T19:36:53.256727",
     "status": "completed"
    },
    "tags": []
   },
   "outputs": [
    {
     "name": "stdout",
     "output_type": "stream",
     "text": [
      "Epoch: 0|| train_loss: 39.49446105957031 ||test_loss: 50.96949768066406\n",
      "Epoch: 10|| train_loss: 6.7984843254089355 ||test_loss: 22.614852905273438\n",
      "Epoch: 20|| train_loss: 5.993862152099609 ||test_loss: 24.417593002319336\n",
      "Epoch: 30|| train_loss: 5.288267612457275 ||test_loss: 25.99793243408203\n",
      "Epoch: 40|| train_loss: 4.665167331695557 ||test_loss: 27.393024444580078\n",
      "Epoch: 50|| train_loss: 4.100496768951416 ||test_loss: 28.656938552856445\n",
      "Epoch: 60|| train_loss: 3.5869357585906982 ||test_loss: 29.806119918823242\n",
      "Epoch: 70|| train_loss: 3.1089305877685547 ||test_loss: 30.8754940032959\n",
      "Epoch: 80|| train_loss: 2.665282726287842 ||test_loss: 31.867767333984375\n",
      "Epoch: 90|| train_loss: 2.2465438842773438 ||test_loss: 32.80413818359375\n",
      "Epoch: 100|| train_loss: 1.855946660041809 ||test_loss: 33.6773681640625\n",
      "Epoch: 110|| train_loss: 1.4848519563674927 ||test_loss: 34.5068359375\n",
      "Epoch: 120|| train_loss: 1.1290405988693237 ||test_loss: 35.302024841308594\n",
      "Epoch: 130|| train_loss: 0.7918339371681213 ||test_loss: 36.05548095703125\n",
      "Epoch: 140|| train_loss: 2.662458658218384 ||test_loss: 31.83823585510254\n",
      "Epoch: 150|| train_loss: 2.259899616241455 ||test_loss: 32.738304138183594\n",
      "Epoch: 160|| train_loss: 1.8771438598632812 ||test_loss: 33.59394073486328\n",
      "Epoch: 170|| train_loss: 1.517511248588562 ||test_loss: 34.39769744873047\n",
      "Epoch: 180|| train_loss: 1.172863245010376 ||test_loss: 35.1678466796875\n",
      "Epoch: 190|| train_loss: 0.8465156555175781 ||test_loss: 35.89693832397461\n",
      "Epoch: 200|| train_loss: 2.370400905609131 ||test_loss: 32.4605598449707\n",
      "Epoch: 210|| train_loss: 1.9954866170883179 ||test_loss: 33.298606872558594\n",
      "Epoch: 220|| train_loss: 1.6396745443344116 ||test_loss: 34.09379196166992\n",
      "Epoch: 230|| train_loss: 1.3024674654006958 ||test_loss: 34.847251892089844\n",
      "Epoch: 240|| train_loss: 0.9797413349151611 ||test_loss: 35.5682258605957\n",
      "Epoch: 250|| train_loss: 0.6796978116035461 ||test_loss: 26.03984260559082\n",
      "Epoch: 260|| train_loss: 4.664199352264404 ||test_loss: 27.261381149291992\n",
      "Epoch: 270|| train_loss: 4.16409969329834 ||test_loss: 28.380346298217773\n",
      "Epoch: 280|| train_loss: 3.69916033744812 ||test_loss: 29.42040252685547\n",
      "Epoch: 290|| train_loss: 3.2721853256225586 ||test_loss: 30.375255584716797\n",
      "Epoch: 300|| train_loss: 2.86962628364563 ||test_loss: 31.27532386779785\n",
      "Epoch: 310|| train_loss: 2.4907915592193604 ||test_loss: 32.12215805053711\n",
      "Epoch: 320|| train_loss: 2.134979009628296 ||test_loss: 32.9173469543457\n",
      "Epoch: 330|| train_loss: 1.7977725267410278 ||test_loss: 33.67080307006836\n",
      "Epoch: 340|| train_loss: 1.4750458002090454 ||test_loss: 34.391780853271484\n",
      "Epoch: 350|| train_loss: 1.1665027141571045 ||test_loss: 35.0809440612793\n",
      "Epoch: 360|| train_loss: 0.8684217929840088 ||test_loss: 35.74665069580078\n",
      "Epoch: 370|| train_loss: 0.899303138256073 ||test_loss: 35.67189407348633\n",
      "Epoch: 380|| train_loss: 2.9481093883514404 ||test_loss: 31.054340362548828\n",
      "Epoch: 390|| train_loss: 2.584656000137329 ||test_loss: 31.866668701171875\n",
      "Epoch: 400|| train_loss: 2.2400078773498535 ||test_loss: 32.63682174682617\n",
      "Epoch: 410|| train_loss: 1.9100396633148193 ||test_loss: 33.37403106689453\n",
      "Epoch: 420|| train_loss: 1.5944554805755615 ||test_loss: 34.0789909362793\n",
      "Epoch: 430|| train_loss: 1.292953610420227 ||test_loss: 34.75236511230469\n",
      "Epoch: 440|| train_loss: 1.0085549354553223 ||test_loss: 35.387386322021484\n",
      "Epoch: 450|| train_loss: 0.7341249585151672 ||test_loss: 36.00006103515625\n",
      "Epoch: 460|| train_loss: 0.7854371666908264 ||test_loss: 35.879486083984375\n",
      "Epoch: 470|| train_loss: 0.677207350730896 ||test_loss: 35.7589225769043\n",
      "Epoch: 480|| train_loss: 0.7285125851631165 ||test_loss: 35.99752426147461\n",
      "Epoch: 490|| train_loss: 0.700100839138031 ||test_loss: 36.056427001953125\n",
      "Epoch: 500|| train_loss: 2.8667590618133545 ||test_loss: 31.17326545715332\n",
      "Epoch: 510|| train_loss: 2.5295519828796387 ||test_loss: 31.92672348022461\n",
      "Epoch: 520|| train_loss: 2.2104458808898926 ||test_loss: 32.63957595825195\n",
      "Epoch: 530|| train_loss: 1.905423879623413 ||test_loss: 33.32085037231445\n",
      "Epoch: 540|| train_loss: 1.6141834259033203 ||test_loss: 33.97120666503906\n",
      "Epoch: 550|| train_loss: 1.3297851085662842 ||test_loss: 34.60623550415039\n",
      "Epoch: 560|| train_loss: 1.0620007514953613 ||test_loss: 35.204002380371094\n",
      "Epoch: 570|| train_loss: 0.8038729429244995 ||test_loss: 35.78013229370117\n",
      "Epoch: 580|| train_loss: 0.8708824515342712 ||test_loss: 35.62437057495117\n",
      "Epoch: 590|| train_loss: 0.6226487755775452 ||test_loss: 29.1734676361084\n",
      "Epoch: 600|| train_loss: 3.3708388805389404 ||test_loss: 29.985795974731445\n",
      "Epoch: 610|| train_loss: 3.029911518096924 ||test_loss: 30.74759864807129\n",
      "Epoch: 620|| train_loss: 2.7071850299835205 ||test_loss: 31.468570709228516\n",
      "Epoch: 630|| train_loss: 2.39864182472229 ||test_loss: 32.157737731933594\n",
      "Epoch: 640|| train_loss: 2.1039810180664062 ||test_loss: 32.81577682495117\n",
      "Epoch: 650|| train_loss: 1.819582462310791 ||test_loss: 33.4507942199707\n",
      "Epoch: 660|| train_loss: 1.5517982244491577 ||test_loss: 34.04856491088867\n",
      "Epoch: 670|| train_loss: 1.293670415878296 ||test_loss: 34.62469482421875\n",
      "Epoch: 680|| train_loss: 1.0419774055480957 ||test_loss: 35.1863899230957\n",
      "Epoch: 690|| train_loss: 0.802774965763092 ||test_loss: 35.720088958740234\n",
      "Epoch: 700|| train_loss: 2.212385892868042 ||test_loss: 32.54196548461914\n",
      "Epoch: 710|| train_loss: 1.9346331357955933 ||test_loss: 33.16209030151367\n",
      "Epoch: 720|| train_loss: 1.6668494939804077 ||test_loss: 33.75986099243164\n",
      "Epoch: 730|| train_loss: 1.4151577949523926 ||test_loss: 34.321556091308594\n",
      "Epoch: 740|| train_loss: 1.1697096824645996 ||test_loss: 34.8692512512207\n",
      "Epoch: 750|| train_loss: 0.9336309432983398 ||test_loss: 35.39594650268555\n",
      "Epoch: 760|| train_loss: 0.7035943269729614 ||test_loss: 35.90910720825195\n",
      "Epoch: 770|| train_loss: 0.7952781319618225 ||test_loss: 35.69804000854492\n",
      "Epoch: 780|| train_loss: 0.5794060230255127 ||test_loss: 27.48135757446289\n",
      "Epoch: 790|| train_loss: 4.079758644104004 ||test_loss: 28.293684005737305\n",
      "Epoch: 800|| train_loss: 3.738839626312256 ||test_loss: 29.055465698242188\n",
      "Epoch: 810|| train_loss: 3.416116237640381 ||test_loss: 29.77643394470215\n",
      "Epoch: 820|| train_loss: 3.1110942363739014 ||test_loss: 30.457706451416016\n",
      "Epoch: 830|| train_loss: 2.823274850845337 ||test_loss: 31.100399017333984\n",
      "Epoch: 840|| train_loss: 2.5455219745635986 ||test_loss: 31.720521926879883\n",
      "Epoch: 850|| train_loss: 2.277738332748413 ||test_loss: 32.318294525146484\n",
      "Epoch: 860|| train_loss: 2.0260465145111084 ||test_loss: 32.87998580932617\n",
      "Epoch: 870|| train_loss: 1.7805984020233154 ||test_loss: 33.42768478393555\n",
      "Epoch: 880|| train_loss: 1.5445202589035034 ||test_loss: 33.95438003540039\n",
      "Epoch: 890|| train_loss: 1.3175036907196045 ||test_loss: 34.46076965332031\n",
      "Epoch: 900|| train_loss: 1.0965282917022705 ||test_loss: 34.95361328125\n",
      "Epoch: 910|| train_loss: 0.8843144774436951 ||test_loss: 35.42682647705078\n",
      "Epoch: 920|| train_loss: 0.6779414415359497 ||test_loss: 35.8869514465332\n",
      "Epoch: 930|| train_loss: 3.62444806098938 ||test_loss: 29.249074935913086\n",
      "Epoch: 940|| train_loss: 3.333207845687866 ||test_loss: 29.899436950683594\n",
      "Epoch: 950|| train_loss: 3.0521318912506104 ||test_loss: 30.527008056640625\n",
      "Epoch: 960|| train_loss: 2.7843480110168457 ||test_loss: 31.12478256225586\n",
      "Epoch: 970|| train_loss: 2.532655954360962 ||test_loss: 31.68647575378418\n",
      "Epoch: 980|| train_loss: 2.287207841873169 ||test_loss: 32.23417282104492\n",
      "Epoch: 990|| train_loss: 2.0511298179626465 ||test_loss: 32.760868072509766\n",
      "Epoch: 1000|| train_loss: 1.824113130569458 ||test_loss: 33.26725769042969\n",
      "Epoch: 1010|| train_loss: 1.6031373739242554 ||test_loss: 33.76010513305664\n",
      "Epoch: 1020|| train_loss: 1.3938443660736084 ||test_loss: 34.22677230834961\n",
      "Epoch: 1030|| train_loss: 1.1874712705612183 ||test_loss: 34.686893463134766\n",
      "Epoch: 1040|| train_loss: 0.9895673990249634 ||test_loss: 35.128047943115234\n",
      "Epoch: 1050|| train_loss: 0.7973092198371887 ||test_loss: 35.55654525756836\n",
      "Epoch: 1060|| train_loss: 0.6050510406494141 ||test_loss: 35.985050201416016\n",
      "Epoch: 1070|| train_loss: 3.1869189739227295 ||test_loss: 30.16817855834961\n",
      "Epoch: 1080|| train_loss: 2.9352266788482666 ||test_loss: 30.72987174987793\n",
      "Epoch: 1090|| train_loss: 2.692901134490967 ||test_loss: 31.270570755004883\n",
      "Epoch: 1100|| train_loss: 2.4568231105804443 ||test_loss: 31.797264099121094\n",
      "Epoch: 1110|| train_loss: 2.2358479499816895 ||test_loss: 32.29011535644531\n",
      "Epoch: 1120|| train_loss: 2.0148720741271973 ||test_loss: 32.782962799072266\n",
      "Epoch: 1130|| train_loss: 1.8084990978240967 ||test_loss: 33.24308395385742\n",
      "Epoch: 1140|| train_loss: 1.6021267175674438 ||test_loss: 33.70321273803711\n",
      "Epoch: 1150|| train_loss: 1.4098687171936035 ||test_loss: 34.131710052490234\n",
      "Epoch: 1160|| train_loss: 1.2176098823547363 ||test_loss: 34.56021499633789\n",
      "Epoch: 1170|| train_loss: 1.0335137844085693 ||test_loss: 34.97043228149414\n",
      "Epoch: 1180|| train_loss: 0.8548579216003418 ||test_loss: 35.36846160888672\n",
      "Epoch: 1190|| train_loss: 0.6762025952339172 ||test_loss: 35.76649475097656\n",
      "Epoch: 1200|| train_loss: 0.5128884315490723 ||test_loss: 29.807621002197266\n",
      "Epoch: 1210|| train_loss: 3.08536434173584 ||test_loss: 30.33431625366211\n",
      "Epoch: 1220|| train_loss: 2.855327606201172 ||test_loss: 30.847475051879883\n",
      "Epoch: 1230|| train_loss: 2.634352445602417 ||test_loss: 31.340322494506836\n",
      "Epoch: 1240|| train_loss: 2.4221386909484863 ||test_loss: 31.81353187561035\n",
      "Epoch: 1250|| train_loss: 2.2157654762268066 ||test_loss: 32.27365493774414\n",
      "Epoch: 1260|| train_loss: 2.0178616046905518 ||test_loss: 32.714805603027344\n",
      "Epoch: 1270|| train_loss: 1.8256036043167114 ||test_loss: 33.143310546875\n",
      "Epoch: 1280|| train_loss: 1.6360656023025513 ||test_loss: 33.56571578979492\n",
      "Epoch: 1290|| train_loss: 1.4574105739593506 ||test_loss: 33.9637451171875\n",
      "Epoch: 1300|| train_loss: 1.2787545919418335 ||test_loss: 34.361778259277344\n",
      "Epoch: 1310|| train_loss: 1.1105906963348389 ||test_loss: 34.73630905151367\n",
      "Epoch: 1320|| train_loss: 0.9450495839118958 ||test_loss: 35.1049690246582\n",
      "Epoch: 1330|| train_loss: 0.7795084118843079 ||test_loss: 35.4736328125\n",
      "Epoch: 1340|| train_loss: 0.6240509152412415 ||test_loss: 35.81970977783203\n",
      "Epoch: 1350|| train_loss: 1.4959042072296143 ||test_loss: 33.85310363769531\n",
      "Epoch: 1360|| train_loss: 1.3277403116226196 ||test_loss: 34.227638244628906\n",
      "Epoch: 1370|| train_loss: 1.1621992588043213 ||test_loss: 34.59629821777344\n",
      "Epoch: 1380|| train_loss: 0.9966580867767334 ||test_loss: 34.964962005615234\n",
      "Epoch: 1390|| train_loss: 0.8412005305290222 ||test_loss: 35.311038970947266\n",
      "Epoch: 1400|| train_loss: 0.6882621645927429 ||test_loss: 35.651485443115234\n",
      "Epoch: 1410|| train_loss: 0.5353231430053711 ||test_loss: 35.99191665649414\n",
      "Epoch: 1420|| train_loss: 3.380735397338867 ||test_loss: 29.58213233947754\n",
      "Epoch: 1430|| train_loss: 3.1714422702789307 ||test_loss: 30.04880142211914\n",
      "Epoch: 1440|| train_loss: 2.965069532394409 ||test_loss: 30.50892448425293\n",
      "Epoch: 1450|| train_loss: 2.7699882984161377 ||test_loss: 30.943748474121094\n",
      "Epoch: 1460|| train_loss: 2.5777299404144287 ||test_loss: 31.372249603271484\n",
      "Epoch: 1470|| train_loss: 2.3963541984558105 ||test_loss: 31.776376724243164\n",
      "Epoch: 1480|| train_loss: 2.217698812484741 ||test_loss: 32.17440414428711\n",
      "Epoch: 1490|| train_loss: 2.041666269302368 ||test_loss: 32.56656265258789\n",
      "Epoch: 1500|| train_loss: 1.8761250972747803 ||test_loss: 32.93522262573242\n",
      "Epoch: 1510|| train_loss: 1.7105844020843506 ||test_loss: 33.30388259887695\n",
      "Epoch: 1520|| train_loss: 1.5526055097579956 ||test_loss: 33.65560531616211\n",
      "Epoch: 1530|| train_loss: 1.3996673822402954 ||test_loss: 33.99604797363281\n",
      "Epoch: 1540|| train_loss: 1.2467286586761475 ||test_loss: 34.33648681640625\n",
      "Epoch: 1550|| train_loss: 1.0986344814300537 ||test_loss: 34.66607666015625\n",
      "Epoch: 1560|| train_loss: 0.9578104019165039 ||test_loss: 34.97939682006836\n",
      "Epoch: 1570|| train_loss: 0.816986083984375 ||test_loss: 35.292720794677734\n",
      "Epoch: 1580|| train_loss: 0.6761623024940491 ||test_loss: 35.606040954589844\n",
      "Epoch: 1590|| train_loss: 0.5446292161941528 ||test_loss: 35.898563385009766\n",
      "Epoch: 1600|| train_loss: 0.8882246017456055 ||test_loss: 35.121463775634766\n",
      "Epoch: 1610|| train_loss: 0.7497228980064392 ||test_loss: 35.429588317871094\n",
      "Epoch: 1620|| train_loss: 0.6205132007598877 ||test_loss: 35.7169075012207\n",
      "Epoch: 1630|| train_loss: 0.4913037121295929 ||test_loss: 36.00423812866211\n",
      "Epoch: 1640|| train_loss: 3.590926170349121 ||test_loss: 29.02248191833496\n",
      "Epoch: 1650|| train_loss: 3.398668050765991 ||test_loss: 29.450984954833984\n",
      "Epoch: 1660|| train_loss: 3.214571952819824 ||test_loss: 29.861202239990234\n",
      "Epoch: 1670|| train_loss: 3.035916328430176 ||test_loss: 30.259233474731445\n",
      "Epoch: 1680|| train_loss: 2.862506151199341 ||test_loss: 30.645517349243164\n",
      "Epoch: 1690|| train_loss: 2.696964979171753 ||test_loss: 31.01417350769043\n",
      "Epoch: 1700|| train_loss: 2.531423807144165 ||test_loss: 31.382831573486328\n",
      "Epoch: 1710|| train_loss: 2.3759660720825195 ||test_loss: 31.728918075561523\n",
      "Epoch: 1720|| train_loss: 2.223027229309082 ||test_loss: 32.069358825683594\n",
      "Epoch: 1730|| train_loss: 2.070089340209961 ||test_loss: 32.40979766845703\n",
      "Epoch: 1740|| train_loss: 1.926840901374817 ||test_loss: 32.728538513183594\n",
      "Epoch: 1750|| train_loss: 1.7860167026519775 ||test_loss: 33.0418586730957\n",
      "Epoch: 1760|| train_loss: 1.645192265510559 ||test_loss: 33.35517883300781\n",
      "Epoch: 1770|| train_loss: 1.5090138912200928 ||test_loss: 33.65810012817383\n",
      "Epoch: 1780|| train_loss: 1.379804015159607 ||test_loss: 33.945430755615234\n",
      "Epoch: 1790|| train_loss: 1.2505944967269897 ||test_loss: 34.232757568359375\n",
      "Epoch: 1800|| train_loss: 1.1213841438293457 ||test_loss: 34.52008056640625\n",
      "Epoch: 1810|| train_loss: 0.9988428950309753 ||test_loss: 34.79248809814453\n",
      "Epoch: 1820|| train_loss: 0.8807476758956909 ||test_loss: 35.05494689941406\n",
      "Epoch: 1830|| train_loss: 0.7626520395278931 ||test_loss: 35.317405700683594\n",
      "Epoch: 1840|| train_loss: 0.6445561647415161 ||test_loss: 35.57986068725586\n",
      "Epoch: 1850|| train_loss: 0.5264606475830078 ||test_loss: 35.842315673828125\n",
      "Epoch: 1860|| train_loss: 0.41967421770095825 ||test_loss: 32.00484848022461\n",
      "Epoch: 1870|| train_loss: 2.088853359222412 ||test_loss: 32.318172454833984\n",
      "Epoch: 1880|| train_loss: 1.9573205709457397 ||test_loss: 32.61069107055664\n",
      "Epoch: 1890|| train_loss: 1.8281110525131226 ||test_loss: 32.89802551269531\n",
      "Epoch: 1900|| train_loss: 1.6989011764526367 ||test_loss: 33.18534469604492\n",
      "Epoch: 1910|| train_loss: 1.5696909427642822 ||test_loss: 33.47267150878906\n",
      "Epoch: 1920|| train_loss: 1.451595425605774 ||test_loss: 33.735130310058594\n",
      "Epoch: 1930|| train_loss: 1.3335000276565552 ||test_loss: 33.99759292602539\n",
      "Epoch: 1940|| train_loss: 1.2154045104980469 ||test_loss: 34.260047912597656\n",
      "Epoch: 1950|| train_loss: 1.0973087549209595 ||test_loss: 34.52250671386719\n",
      "Epoch: 1960|| train_loss: 0.9855759739875793 ||test_loss: 34.77073669433594\n",
      "Epoch: 1970|| train_loss: 0.8780823945999146 ||test_loss: 35.00947570800781\n",
      "Epoch: 1980|| train_loss: 0.7705891132354736 ||test_loss: 35.24821853637695\n",
      "Epoch: 1990|| train_loss: 0.6630961298942566 ||test_loss: 35.486961364746094\n",
      "Epoch: 2000|| train_loss: 0.5556029677391052 ||test_loss: 35.7257080078125\n",
      "Epoch: 2010|| train_loss: 0.4541768431663513 ||test_loss: 35.95087814331055\n",
      "Epoch: 2020|| train_loss: 2.541414976119995 ||test_loss: 31.248886108398438\n",
      "Epoch: 2030|| train_loss: 2.412205696105957 ||test_loss: 31.536211013793945\n",
      "Epoch: 2040|| train_loss: 2.2829959392547607 ||test_loss: 31.823537826538086\n",
      "Epoch: 2050|| train_loss: 2.15600848197937 ||test_loss: 32.10588836669922\n",
      "Epoch: 2060|| train_loss: 2.0379130840301514 ||test_loss: 32.36834716796875\n",
      "Epoch: 2070|| train_loss: 1.9198178052902222 ||test_loss: 32.63080596923828\n",
      "Epoch: 2080|| train_loss: 1.8017218112945557 ||test_loss: 32.89326477050781\n",
      "Epoch: 2090|| train_loss: 1.6857479810714722 ||test_loss: 33.150978088378906\n",
      "Epoch: 2100|| train_loss: 1.5782544612884521 ||test_loss: 33.38972091674805\n",
      "Epoch: 2110|| train_loss: 1.4707616567611694 ||test_loss: 33.62846755981445\n",
      "Epoch: 2120|| train_loss: 1.363268256187439 ||test_loss: 33.86720657348633\n",
      "Epoch: 2130|| train_loss: 1.255774736404419 ||test_loss: 34.10594940185547\n",
      "Epoch: 2140|| train_loss: 1.152325987815857 ||test_loss: 34.33564376831055\n",
      "Epoch: 2150|| train_loss: 1.0549471378326416 ||test_loss: 34.55177688598633\n",
      "Epoch: 2160|| train_loss: 0.9575678706169128 ||test_loss: 34.76789855957031\n",
      "Epoch: 2170|| train_loss: 0.8601884245872498 ||test_loss: 34.98402404785156\n",
      "Epoch: 2180|| train_loss: 0.7628092765808105 ||test_loss: 35.20015335083008\n",
      "Epoch: 2190|| train_loss: 0.6654304265975952 ||test_loss: 35.41627883911133\n",
      "Epoch: 2200|| train_loss: 0.5757434368133545 ||test_loss: 35.615211486816406\n",
      "Epoch: 2210|| train_loss: 0.48797833919525146 ||test_loss: 35.80984878540039\n",
      "Epoch: 2220|| train_loss: 0.4002135396003723 ||test_loss: 36.004486083984375\n",
      "Epoch: 2230|| train_loss: 0.47199878096580505 ||test_loss: 35.839942932128906\n",
      "Epoch: 2240|| train_loss: 0.384233683347702 ||test_loss: 36.034584045410156\n",
      "Epoch: 2250|| train_loss: 2.6235122680664062 ||test_loss: 30.990291595458984\n",
      "Epoch: 2260|| train_loss: 2.5054168701171875 ||test_loss: 31.252748489379883\n",
      "Epoch: 2270|| train_loss: 2.3958041667938232 ||test_loss: 31.49622917175293\n",
      "Epoch: 2280|| train_loss: 2.2883107662200928 ||test_loss: 31.734975814819336\n",
      "Epoch: 2290|| train_loss: 2.1808176040649414 ||test_loss: 31.97372055053711\n",
      "Epoch: 2300|| train_loss: 2.073323965072632 ||test_loss: 32.21246337890625\n",
      "Epoch: 2310|| train_loss: 1.9678521156311035 ||test_loss: 32.446678161621094\n",
      "Epoch: 2320|| train_loss: 1.87047278881073 ||test_loss: 32.66280746459961\n",
      "Epoch: 2330|| train_loss: 1.7730939388275146 ||test_loss: 32.87893295288086\n",
      "Epoch: 2340|| train_loss: 1.6757147312164307 ||test_loss: 33.095062255859375\n",
      "Epoch: 2350|| train_loss: 1.5783354043960571 ||test_loss: 33.311187744140625\n",
      "Epoch: 2360|| train_loss: 1.4809564352035522 ||test_loss: 33.527313232421875\n",
      "Epoch: 2370|| train_loss: 1.3931924104690552 ||test_loss: 33.72195053100586\n",
      "Epoch: 2380|| train_loss: 1.3054273128509521 ||test_loss: 33.916587829589844\n",
      "Epoch: 2390|| train_loss: 1.2176625728607178 ||test_loss: 34.11122131347656\n",
      "Epoch: 2400|| train_loss: 1.1298974752426147 ||test_loss: 34.30585861206055\n",
      "Epoch: 2410|| train_loss: 1.0421324968338013 ||test_loss: 34.50049591064453\n",
      "Epoch: 2420|| train_loss: 0.9543672204017639 ||test_loss: 34.69512939453125\n",
      "Epoch: 2430|| train_loss: 0.8757163882255554 ||test_loss: 34.86940383911133\n",
      "Epoch: 2440|| train_loss: 0.797065258026123 ||test_loss: 35.04367446899414\n",
      "Epoch: 2450|| train_loss: 0.718414306640625 ||test_loss: 35.21794509887695\n",
      "Epoch: 2460|| train_loss: 0.6397634148597717 ||test_loss: 35.39221954345703\n",
      "Epoch: 2470|| train_loss: 0.5611122846603394 ||test_loss: 35.566490173339844\n",
      "Epoch: 2480|| train_loss: 0.48246118426322937 ||test_loss: 35.740760803222656\n",
      "Epoch: 2490|| train_loss: 0.4038107097148895 ||test_loss: 35.915035247802734\n",
      "Epoch: 2500|| train_loss: 1.1240862607955933 ||test_loss: 34.29087829589844\n",
      "Epoch: 2510|| train_loss: 1.0454351902008057 ||test_loss: 34.46514892578125\n",
      "Epoch: 2520|| train_loss: 0.9667838215827942 ||test_loss: 34.63941955566406\n",
      "Epoch: 2530|| train_loss: 0.8881332874298096 ||test_loss: 34.813690185546875\n",
      "Epoch: 2540|| train_loss: 0.8094822764396667 ||test_loss: 34.98796463012695\n",
      "Epoch: 2550|| train_loss: 0.7308310270309448 ||test_loss: 35.162235260009766\n",
      "Epoch: 2560|| train_loss: 0.6573486328125 ||test_loss: 35.32496643066406\n",
      "Epoch: 2570|| train_loss: 0.5873116850852966 ||test_loss: 35.47999954223633\n",
      "Epoch: 2580|| train_loss: 0.5172746181488037 ||test_loss: 35.635032653808594\n",
      "Epoch: 2590|| train_loss: 0.44723770022392273 ||test_loss: 35.79006576538086\n",
      "Epoch: 2600|| train_loss: 0.3772001564502716 ||test_loss: 35.94509506225586\n",
      "Epoch: 2610|| train_loss: 1.0185496807098389 ||test_loss: 34.498619079589844\n",
      "Epoch: 2620|| train_loss: 0.9450671672821045 ||test_loss: 34.661346435546875\n",
      "Epoch: 2630|| train_loss: 0.8750303387641907 ||test_loss: 34.81637954711914\n",
      "Epoch: 2640|| train_loss: 0.8049927949905396 ||test_loss: 34.97140884399414\n",
      "Epoch: 2650|| train_loss: 0.7349556684494019 ||test_loss: 35.12644577026367\n",
      "Epoch: 2660|| train_loss: 0.6649187803268433 ||test_loss: 35.28147888183594\n",
      "Epoch: 2670|| train_loss: 0.5948820114135742 ||test_loss: 35.4365119934082\n",
      "Epoch: 2680|| train_loss: 0.5248450636863708 ||test_loss: 35.59154510498047\n",
      "Epoch: 2690|| train_loss: 0.45480796694755554 ||test_loss: 35.74658203125\n",
      "Epoch: 2700|| train_loss: 0.3880155086517334 ||test_loss: 35.894371032714844\n",
      "Epoch: 2710|| train_loss: 0.32611361145973206 ||test_loss: 35.13504409790039\n",
      "Epoch: 2720|| train_loss: 0.6541809439659119 ||test_loss: 35.29007339477539\n",
      "Epoch: 2730|| train_loss: 0.5841434597969055 ||test_loss: 35.445106506347656\n",
      "Epoch: 2740|| train_loss: 0.5222195982933044 ||test_loss: 35.58203125\n",
      "Epoch: 2750|| train_loss: 0.4602963924407959 ||test_loss: 35.71894836425781\n",
      "Epoch: 2760|| train_loss: 0.39837387204170227 ||test_loss: 35.85586929321289\n",
      "Epoch: 2770|| train_loss: 0.33645063638687134 ||test_loss: 35.99279022216797\n",
      "Epoch: 2780|| train_loss: 2.15272855758667 ||test_loss: 31.901386260986328\n",
      "Epoch: 2790|| train_loss: 2.074077606201172 ||test_loss: 32.07565689086914\n",
      "Epoch: 2800|| train_loss: 1.9954264163970947 ||test_loss: 32.24993133544922\n",
      "Epoch: 2810|| train_loss: 1.9167760610580444 ||test_loss: 32.42420196533203\n",
      "Epoch: 2820|| train_loss: 1.8450161218643188 ||test_loss: 32.58308410644531\n",
      "Epoch: 2830|| train_loss: 1.7749793529510498 ||test_loss: 32.73811340332031\n",
      "Epoch: 2840|| train_loss: 1.7049424648284912 ||test_loss: 32.893150329589844\n",
      "Epoch: 2850|| train_loss: 1.6349056959152222 ||test_loss: 33.048179626464844\n",
      "Epoch: 2860|| train_loss: 1.564868450164795 ||test_loss: 33.203216552734375\n",
      "Epoch: 2870|| train_loss: 1.4948315620422363 ||test_loss: 33.358245849609375\n",
      "Epoch: 2880|| train_loss: 1.4247949123382568 ||test_loss: 33.51327896118164\n",
      "Epoch: 2890|| train_loss: 1.3563793897628784 ||test_loss: 33.66469192504883\n",
      "Epoch: 2900|| train_loss: 1.2944567203521729 ||test_loss: 33.80160903930664\n",
      "Epoch: 2910|| train_loss: 1.232533574104309 ||test_loss: 33.938533782958984\n",
      "Epoch: 2920|| train_loss: 1.1706109046936035 ||test_loss: 34.07545471191406\n",
      "Epoch: 2930|| train_loss: 1.1086878776550293 ||test_loss: 34.212371826171875\n",
      "Epoch: 2940|| train_loss: 1.0467650890350342 ||test_loss: 34.34929275512695\n",
      "Epoch: 2950|| train_loss: 0.98484206199646 ||test_loss: 34.48621368408203\n",
      "Epoch: 2960|| train_loss: 0.9229194521903992 ||test_loss: 34.62313461303711\n",
      "Epoch: 2970|| train_loss: 0.8609960675239563 ||test_loss: 34.76005554199219\n",
      "Epoch: 2980|| train_loss: 0.8005974292755127 ||test_loss: 34.893577575683594\n",
      "Epoch: 2990|| train_loss: 0.7462882995605469 ||test_loss: 35.013511657714844\n"
     ]
    }
   ],
   "source": [
    "##Lets start the training loop\n",
    "torch.manual_seed(43)\n",
    "\n",
    "\n",
    "epochs = 3000\n",
    "## Load the dataset into GPU\n",
    "# X.to(device)\n",
    "Y.to(device)\n",
    "X_train = X_train.to(device)\n",
    "X_test = X_test.to(device)\n",
    "\n",
    "y_pred = y_pred.to(device)\n",
    "y_test = y_test.to(device)\n",
    "\n",
    "\n",
    "\n",
    "for epoch in range(epochs):\n",
    "    \n",
    "    ## put model into GPU\n",
    "    model.to(device)\n",
    "    \n",
    "    \n",
    "    ## forward pass\n",
    "    preds = model(X_train)\n",
    "    \n",
    "    ##calculate loss\n",
    "    loss = loss_fn(preds, y_pred)\n",
    "    \n",
    "    ## set grad to 0\n",
    "    optimizer.zero_grad()\n",
    "    \n",
    "    ## backprop/ calc gradient\n",
    "    loss.backward()\n",
    "    \n",
    "    ## update the optimizer\n",
    "    optimizer.step()\n",
    "    \n",
    "    ## model evaluation\n",
    "    model.eval()\n",
    "    \n",
    "    with torch.inference_mode():\n",
    "        ## forward pass\n",
    "        test_pred = model(X_test)\n",
    "        ##loss calculation\n",
    "        test_loss = loss_fn(test_pred, y_test)\n",
    "        ## thats it\n",
    "    \n",
    "    \n",
    "    \n",
    "    ## performance monitoring\n",
    "    if epoch%10==0:\n",
    "        print(f\"Epoch: {epoch}|| train_loss: {loss} ||test_loss: {test_loss}\")\n",
    "        \n",
    "    \n"
   ]
  },
  {
   "cell_type": "code",
   "execution_count": 16,
   "id": "1eba893b",
   "metadata": {
    "execution": {
     "iopub.execute_input": "2023-08-07T19:36:55.572611Z",
     "iopub.status.busy": "2023-08-07T19:36:55.571719Z",
     "iopub.status.idle": "2023-08-07T19:36:55.590846Z",
     "shell.execute_reply": "2023-08-07T19:36:55.589819Z"
    },
    "papermill": {
     "duration": 0.030601,
     "end_time": "2023-08-07T19:36:55.593139",
     "exception": false,
     "start_time": "2023-08-07T19:36:55.562538",
     "status": "completed"
    },
    "tags": []
   },
   "outputs": [
    {
     "data": {
      "text/plain": [
       "tensor([[24.1122],\n",
       "        [24.1420],\n",
       "        [24.1717],\n",
       "        [24.2015],\n",
       "        [24.2313],\n",
       "        [24.2610],\n",
       "        [24.2908],\n",
       "        [24.3205],\n",
       "        [24.3503],\n",
       "        [24.3801],\n",
       "        [24.4098],\n",
       "        [24.4396],\n",
       "        [24.4694],\n",
       "        [24.4991],\n",
       "        [24.5289],\n",
       "        [24.5586],\n",
       "        [24.5884],\n",
       "        [24.6182],\n",
       "        [24.6479],\n",
       "        [24.6777],\n",
       "        [24.7074],\n",
       "        [24.7372],\n",
       "        [24.7670],\n",
       "        [24.7967],\n",
       "        [24.8265],\n",
       "        [24.8562],\n",
       "        [24.8860],\n",
       "        [24.9158],\n",
       "        [24.9455],\n",
       "        [24.9753],\n",
       "        [25.0050],\n",
       "        [25.0348],\n",
       "        [25.0646],\n",
       "        [25.0943],\n",
       "        [25.1241],\n",
       "        [25.1539],\n",
       "        [25.1836],\n",
       "        [25.2134],\n",
       "        [25.2431],\n",
       "        [25.2729],\n",
       "        [25.3027],\n",
       "        [25.3324],\n",
       "        [25.3622],\n",
       "        [25.3919],\n",
       "        [25.4217],\n",
       "        [25.4515],\n",
       "        [25.4812],\n",
       "        [25.5110],\n",
       "        [25.5407],\n",
       "        [25.5705],\n",
       "        [25.6003],\n",
       "        [25.6300],\n",
       "        [25.6598],\n",
       "        [25.6895],\n",
       "        [25.7193],\n",
       "        [25.7491],\n",
       "        [25.7788],\n",
       "        [25.8086],\n",
       "        [25.8383],\n",
       "        [25.8681],\n",
       "        [25.8979],\n",
       "        [25.9276],\n",
       "        [25.9574],\n",
       "        [25.9872],\n",
       "        [26.0169],\n",
       "        [26.0467],\n",
       "        [26.0764],\n",
       "        [26.1062],\n",
       "        [26.1360],\n",
       "        [26.1657],\n",
       "        [26.1955],\n",
       "        [26.2252],\n",
       "        [26.2550],\n",
       "        [26.2848],\n",
       "        [26.3145],\n",
       "        [26.3443],\n",
       "        [26.3740],\n",
       "        [26.4038],\n",
       "        [26.4336],\n",
       "        [26.4633],\n",
       "        [26.4931],\n",
       "        [26.5228],\n",
       "        [26.5526],\n",
       "        [26.5824],\n",
       "        [26.6121],\n",
       "        [26.6419],\n",
       "        [26.6717],\n",
       "        [26.7014],\n",
       "        [26.7312],\n",
       "        [26.7609],\n",
       "        [26.7907],\n",
       "        [26.8205],\n",
       "        [26.8502],\n",
       "        [26.8800],\n",
       "        [26.9097],\n",
       "        [26.9395],\n",
       "        [26.9693],\n",
       "        [26.9990],\n",
       "        [27.0288],\n",
       "        [27.0585],\n",
       "        [27.0883],\n",
       "        [27.1181],\n",
       "        [27.1478],\n",
       "        [27.1776],\n",
       "        [27.2073],\n",
       "        [27.2371],\n",
       "        [27.2669],\n",
       "        [27.2966],\n",
       "        [27.3264],\n",
       "        [27.3562],\n",
       "        [27.3859],\n",
       "        [27.4157],\n",
       "        [27.4454],\n",
       "        [27.4752],\n",
       "        [27.5050],\n",
       "        [27.5347],\n",
       "        [27.5645],\n",
       "        [27.5942],\n",
       "        [27.6240],\n",
       "        [27.6538],\n",
       "        [27.6835],\n",
       "        [27.7133],\n",
       "        [27.7430],\n",
       "        [27.7728],\n",
       "        [27.8026],\n",
       "        [27.8323],\n",
       "        [27.8621],\n",
       "        [27.8918],\n",
       "        [27.9216],\n",
       "        [27.9514],\n",
       "        [27.9811],\n",
       "        [28.0109],\n",
       "        [28.0407],\n",
       "        [28.0704],\n",
       "        [28.1002],\n",
       "        [28.1299],\n",
       "        [28.1597],\n",
       "        [28.1895],\n",
       "        [28.2192],\n",
       "        [28.2490],\n",
       "        [28.2787],\n",
       "        [28.3085],\n",
       "        [28.3383],\n",
       "        [28.3680],\n",
       "        [28.3978],\n",
       "        [28.4275],\n",
       "        [28.4573],\n",
       "        [28.4871],\n",
       "        [28.5168],\n",
       "        [28.5466],\n",
       "        [28.5763],\n",
       "        [28.6061],\n",
       "        [28.6359],\n",
       "        [28.6656],\n",
       "        [28.6954],\n",
       "        [28.7251],\n",
       "        [28.7549],\n",
       "        [28.7847],\n",
       "        [28.8144],\n",
       "        [28.8442],\n",
       "        [28.8740],\n",
       "        [28.9037],\n",
       "        [28.9335],\n",
       "        [28.9632],\n",
       "        [28.9930],\n",
       "        [29.0228],\n",
       "        [29.0525],\n",
       "        [29.0823],\n",
       "        [29.1120],\n",
       "        [29.1418],\n",
       "        [29.1716],\n",
       "        [29.2013],\n",
       "        [29.2311],\n",
       "        [29.2608],\n",
       "        [29.2906],\n",
       "        [29.3204],\n",
       "        [29.3501],\n",
       "        [29.3799],\n",
       "        [29.4096],\n",
       "        [29.4394],\n",
       "        [29.4692],\n",
       "        [29.4989],\n",
       "        [29.5287],\n",
       "        [29.5584],\n",
       "        [29.5882],\n",
       "        [29.6180],\n",
       "        [29.6477],\n",
       "        [29.6775],\n",
       "        [29.7073],\n",
       "        [29.7370],\n",
       "        [29.7668],\n",
       "        [29.7965],\n",
       "        [29.8263],\n",
       "        [29.8561],\n",
       "        [29.8858],\n",
       "        [29.9156],\n",
       "        [29.9453],\n",
       "        [29.9751],\n",
       "        [30.0049],\n",
       "        [30.0346]], device='cuda:0')"
      ]
     },
     "execution_count": 16,
     "metadata": {},
     "output_type": "execute_result"
    }
   ],
   "source": [
    "## now that the training is over\n",
    "## Lets check the Predictions\n",
    "\n",
    "model.eval()\n",
    "\n",
    "with torch.inference_mode():\n",
    "    fx = model(X_test)\n",
    "fx\n"
   ]
  },
  {
   "cell_type": "code",
   "execution_count": 17,
   "id": "67f5c860",
   "metadata": {
    "execution": {
     "iopub.execute_input": "2023-08-07T19:36:55.611360Z",
     "iopub.status.busy": "2023-08-07T19:36:55.611061Z",
     "iopub.status.idle": "2023-08-07T19:36:55.619915Z",
     "shell.execute_reply": "2023-08-07T19:36:55.618999Z"
    },
    "papermill": {
     "duration": 0.020339,
     "end_time": "2023-08-07T19:36:55.621969",
     "exception": false,
     "start_time": "2023-08-07T19:36:55.601630",
     "status": "completed"
    },
    "tags": []
   },
   "outputs": [],
   "source": [
    "## lets save the model\n",
    "from pathlib import Path\n",
    "\n",
    "##  first create the model directory\n",
    "MODEL_PATH = Path(\"Models\")\n",
    "MODEL_PATH.mkdir(parents=True, exist_ok=True)\n",
    "\n",
    "## second create model path save\n",
    "MODEL_NAME = 'test.pth'\n",
    "MODEL_SAVE_PATH = MODEL_PATH/MODEL_NAME\n",
    "\n",
    "## Thirdly save the model\n",
    "torch.save(obj=model.state_dict, f = MODEL_SAVE_PATH)"
   ]
  },
  {
   "cell_type": "code",
   "execution_count": 18,
   "id": "d271fb4d",
   "metadata": {
    "execution": {
     "iopub.execute_input": "2023-08-07T19:36:55.639876Z",
     "iopub.status.busy": "2023-08-07T19:36:55.639614Z",
     "iopub.status.idle": "2023-08-07T19:36:55.643701Z",
     "shell.execute_reply": "2023-08-07T19:36:55.642686Z"
    },
    "papermill": {
     "duration": 0.015645,
     "end_time": "2023-08-07T19:36:55.645998",
     "exception": false,
     "start_time": "2023-08-07T19:36:55.630353",
     "status": "completed"
    },
    "tags": []
   },
   "outputs": [],
   "source": [
    "##HOORAY###"
   ]
  },
  {
   "cell_type": "code",
   "execution_count": null,
   "id": "d2735ca2",
   "metadata": {
    "papermill": {
     "duration": 0.008369,
     "end_time": "2023-08-07T19:36:55.662822",
     "exception": false,
     "start_time": "2023-08-07T19:36:55.654453",
     "status": "completed"
    },
    "tags": []
   },
   "outputs": [],
   "source": []
  }
 ],
 "metadata": {
  "kernelspec": {
   "display_name": "Python 3",
   "language": "python",
   "name": "python3"
  },
  "language_info": {
   "codemirror_mode": {
    "name": "ipython",
    "version": 3
   },
   "file_extension": ".py",
   "mimetype": "text/x-python",
   "name": "python",
   "nbconvert_exporter": "python",
   "pygments_lexer": "ipython3",
   "version": "3.10.12"
  },
  "papermill": {
   "default_parameters": {},
   "duration": 21.735009,
   "end_time": "2023-08-07T19:36:57.847143",
   "environment_variables": {},
   "exception": null,
   "input_path": "__notebook__.ipynb",
   "output_path": "__notebook__.ipynb",
   "parameters": {},
   "start_time": "2023-08-07T19:36:36.112134",
   "version": "2.4.0"
  }
 },
 "nbformat": 4,
 "nbformat_minor": 5
}
