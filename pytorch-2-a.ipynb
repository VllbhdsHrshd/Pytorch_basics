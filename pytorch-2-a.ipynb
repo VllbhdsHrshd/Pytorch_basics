{
 "cells": [
  {
   "cell_type": "code",
   "execution_count": 1,
   "id": "c30d58bd",
   "metadata": {
    "_cell_guid": "b1076dfc-b9ad-4769-8c92-a6c4dae69d19",
    "_uuid": "8f2839f25d086af736a60e9eeb907d3b93b6e0e5",
    "execution": {
     "iopub.execute_input": "2023-08-06T18:19:24.208190Z",
     "iopub.status.busy": "2023-08-06T18:19:24.207517Z",
     "iopub.status.idle": "2023-08-06T18:19:27.501100Z",
     "shell.execute_reply": "2023-08-06T18:19:27.500086Z"
    },
    "papermill": {
     "duration": 3.305262,
     "end_time": "2023-08-06T18:19:27.503656",
     "exception": false,
     "start_time": "2023-08-06T18:19:24.198394",
     "status": "completed"
    },
    "tags": []
   },
   "outputs": [],
   "source": [
    "import torch\n",
    "from torch import nn\n",
    "import matplotlib.pyplot as plt"
   ]
  },
  {
   "cell_type": "code",
   "execution_count": 2,
   "id": "172940c5",
   "metadata": {
    "execution": {
     "iopub.execute_input": "2023-08-06T18:19:27.520197Z",
     "iopub.status.busy": "2023-08-06T18:19:27.519705Z",
     "iopub.status.idle": "2023-08-06T18:19:27.618987Z",
     "shell.execute_reply": "2023-08-06T18:19:27.618060Z"
    },
    "papermill": {
     "duration": 0.110167,
     "end_time": "2023-08-06T18:19:27.621167",
     "exception": false,
     "start_time": "2023-08-06T18:19:27.511000",
     "status": "completed"
    },
    "tags": []
   },
   "outputs": [
    {
     "data": {
      "text/plain": [
       "(tensor([[0.0000],\n",
       "         [0.0200],\n",
       "         [0.0400],\n",
       "         [0.0600],\n",
       "         [0.0800],\n",
       "         [0.1000],\n",
       "         [0.1200],\n",
       "         [0.1400],\n",
       "         [0.1600],\n",
       "         [0.1800]]),\n",
       " tensor([[0.3000],\n",
       "         [0.3140],\n",
       "         [0.3280],\n",
       "         [0.3420],\n",
       "         [0.3560],\n",
       "         [0.3700],\n",
       "         [0.3840],\n",
       "         [0.3980],\n",
       "         [0.4120],\n",
       "         [0.4260]]))"
      ]
     },
     "execution_count": 2,
     "metadata": {},
     "output_type": "execute_result"
    }
   ],
   "source": [
    "#create known parameter\n",
    "weight = 0.7\n",
    "bias =0.3\n",
    "# create data\n",
    "start = 0\n",
    "end = 1\n",
    "step = 0.02\n",
    "X = torch.arange(start, end, step).unsqueeze(dim=1)\n",
    "y = weight * X + bias\n",
    "\n",
    "X[:10], y[:10]\n",
    "\n",
    "\n"
   ]
  },
  {
   "cell_type": "code",
   "execution_count": 3,
   "id": "35243bdb",
   "metadata": {
    "execution": {
     "iopub.execute_input": "2023-08-06T18:19:27.637465Z",
     "iopub.status.busy": "2023-08-06T18:19:27.637071Z",
     "iopub.status.idle": "2023-08-06T18:19:27.648549Z",
     "shell.execute_reply": "2023-08-06T18:19:27.647532Z"
    },
    "papermill": {
     "duration": 0.021897,
     "end_time": "2023-08-06T18:19:27.650526",
     "exception": false,
     "start_time": "2023-08-06T18:19:27.628629",
     "status": "completed"
    },
    "tags": []
   },
   "outputs": [
    {
     "name": "stdout",
     "output_type": "stream",
     "text": [
      "40\n"
     ]
    },
    {
     "data": {
      "text/plain": [
       "(40, 40, 10, 10)"
      ]
     },
     "execution_count": 3,
     "metadata": {},
     "output_type": "execute_result"
    }
   ],
   "source": [
    "#lets split our synthetic dataset\n",
    "train_split = int(0.8*len(X))\n",
    "print(train_split)\n",
    "X_train, y_train  =  X[:train_split], y[:train_split]\n",
    "X_test , y_test = X[train_split:], y[train_split:]\n",
    "len(X_train), len(y_train), len(X_test), len(y_test)\n",
    "# print(X[12:])"
   ]
  },
  {
   "cell_type": "code",
   "execution_count": 4,
   "id": "3e19f154",
   "metadata": {
    "execution": {
     "iopub.execute_input": "2023-08-06T18:19:27.667806Z",
     "iopub.status.busy": "2023-08-06T18:19:27.666914Z",
     "iopub.status.idle": "2023-08-06T18:19:27.674377Z",
     "shell.execute_reply": "2023-08-06T18:19:27.673371Z"
    },
    "papermill": {
     "duration": 0.017803,
     "end_time": "2023-08-06T18:19:27.676299",
     "exception": false,
     "start_time": "2023-08-06T18:19:27.658496",
     "status": "completed"
    },
    "tags": []
   },
   "outputs": [],
   "source": [
    "## Lets define our function for the plot\n",
    "def plot_predictions(train_data = X_train, train_labels = y_train,\n",
    "                    test_data = X_test, test_labels = y_test,\n",
    "                    predictions = None):\n",
    "    \n",
    "    \n",
    "    plt.figure(figsize=(10,7))\n",
    "    \n",
    "    ##training data\n",
    "    plt.scatter(train_data, train_labels, c=\"b\", s=4, label=\"Training data\")\n",
    "    \n",
    "    ## test data\n",
    "    plt.scatter(test_data, test_labels, c =\"g\", s =4, label=\"Testing data\")\n",
    "    \n",
    "    \n",
    "    \n",
    "    if predictions is not None:\n",
    "        plt.scatter(test_data, predictions, c='r', s=4, label=\"Predictions\")\n",
    "        \n",
    "    \n",
    "    plt.legend(prop={\"size\":14})\n",
    "    \n",
    "    \n",
    "    \n",
    "    "
   ]
  },
  {
   "cell_type": "code",
   "execution_count": 5,
   "id": "9f754755",
   "metadata": {
    "execution": {
     "iopub.execute_input": "2023-08-06T18:19:27.693251Z",
     "iopub.status.busy": "2023-08-06T18:19:27.691832Z",
     "iopub.status.idle": "2023-08-06T18:19:28.138828Z",
     "shell.execute_reply": "2023-08-06T18:19:28.137662Z"
    },
    "papermill": {
     "duration": 0.457703,
     "end_time": "2023-08-06T18:19:28.141371",
     "exception": false,
     "start_time": "2023-08-06T18:19:27.683668",
     "status": "completed"
    },
    "tags": []
   },
   "outputs": [
    {
     "data": {
      "image/png": "[encoded data removed]",
      "text/plain": [
       "<Figure size 1000x700 with 1 Axes>"
      ]
     },
     "metadata": {},
     "output_type": "display_data"
    }
   ],
   "source": [
    "plot_predictions()"
   ]
  },
  {
   "cell_type": "code",
   "execution_count": 6,
   "id": "22771e50",
   "metadata": {
    "execution": {
     "iopub.execute_input": "2023-08-06T18:19:28.168290Z",
     "iopub.status.busy": "2023-08-06T18:19:28.167853Z",
     "iopub.status.idle": "2023-08-06T18:19:28.178189Z",
     "shell.execute_reply": "2023-08-06T18:19:28.177329Z"
    },
    "papermill": {
     "duration": 0.025604,
     "end_time": "2023-08-06T18:19:28.180837",
     "exception": false,
     "start_time": "2023-08-06T18:19:28.155233",
     "status": "completed"
    },
    "tags": []
   },
   "outputs": [],
   "source": [
    "#lets create our linear regression model\n",
    "\n",
    "class LinearRegressionModel(nn.Module):\n",
    "    def __init__(self):\n",
    "        super().__init__()\n",
    "        \n",
    "        self.weights = nn.Parameter(torch.randn(1,\n",
    "                                               dtype=torch.float),\n",
    "                                   requires_grad=True)\n",
    "        \n",
    "        self.bias = nn.Parameter(torch.randn(1,\n",
    "                                            dtype=torch.float),\n",
    "                                requires_grad=True)\n",
    "        \n",
    "        \n",
    "    \n",
    "    def forward(self, x:torch.Tensor) -> torch.Tensor:\n",
    "        return self.weights * x + self.bias\n",
    "    "
   ]
  },
  {
   "cell_type": "code",
   "execution_count": 7,
   "id": "4daf399a",
   "metadata": {
    "execution": {
     "iopub.execute_input": "2023-08-06T18:19:28.204600Z",
     "iopub.status.busy": "2023-08-06T18:19:28.204224Z",
     "iopub.status.idle": "2023-08-06T18:19:28.221174Z",
     "shell.execute_reply": "2023-08-06T18:19:28.220318Z"
    },
    "papermill": {
     "duration": 0.032388,
     "end_time": "2023-08-06T18:19:28.224325",
     "exception": false,
     "start_time": "2023-08-06T18:19:28.191937",
     "status": "completed"
    },
    "tags": []
   },
   "outputs": [
    {
     "data": {
      "text/plain": [
       "[Parameter containing:\n",
       " tensor([0.3367], requires_grad=True),\n",
       " Parameter containing:\n",
       " tensor([0.1288], requires_grad=True)]"
      ]
     },
     "execution_count": 7,
     "metadata": {},
     "output_type": "execute_result"
    }
   ],
   "source": [
    "## Lets enable reproducability\n",
    "torch.manual_seed(42)\n",
    "\n",
    "## Lets instantiate an object of our constructed class\n",
    "model_0 = LinearRegressionModel()\n",
    "\n",
    "## Lets check all the parameters of our model\n",
    "list(model_0.parameters())\n"
   ]
  },
  {
   "cell_type": "code",
   "execution_count": 8,
   "id": "28a63f4e",
   "metadata": {
    "execution": {
     "iopub.execute_input": "2023-08-06T18:19:28.247904Z",
     "iopub.status.busy": "2023-08-06T18:19:28.247550Z",
     "iopub.status.idle": "2023-08-06T18:19:28.256162Z",
     "shell.execute_reply": "2023-08-06T18:19:28.255307Z"
    },
    "papermill": {
     "duration": 0.025488,
     "end_time": "2023-08-06T18:19:28.260953",
     "exception": false,
     "start_time": "2023-08-06T18:19:28.235465",
     "status": "completed"
    },
    "tags": []
   },
   "outputs": [
    {
     "data": {
      "text/plain": [
       "OrderedDict([('weights', tensor([0.3367])), ('bias', tensor([0.1288]))])"
      ]
     },
     "execution_count": 8,
     "metadata": {},
     "output_type": "execute_result"
    }
   ],
   "source": [
    "model_0.state_dict()"
   ]
  },
  {
   "cell_type": "code",
   "execution_count": 9,
   "id": "8f21b7be",
   "metadata": {
    "execution": {
     "iopub.execute_input": "2023-08-06T18:19:28.285755Z",
     "iopub.status.busy": "2023-08-06T18:19:28.285375Z",
     "iopub.status.idle": "2023-08-06T18:19:28.290276Z",
     "shell.execute_reply": "2023-08-06T18:19:28.289375Z"
    },
    "papermill": {
     "duration": 0.022189,
     "end_time": "2023-08-06T18:19:28.294682",
     "exception": false,
     "start_time": "2023-08-06T18:19:28.272493",
     "status": "completed"
    },
    "tags": []
   },
   "outputs": [],
   "source": [
    "with torch.inference_mode(): ##  I believe grad is turned off here\n",
    "    y_preds = model_0(X_test)"
   ]
  },
  {
   "cell_type": "code",
   "execution_count": 10,
   "id": "23620417",
   "metadata": {
    "execution": {
     "iopub.execute_input": "2023-08-06T18:19:28.318536Z",
     "iopub.status.busy": "2023-08-06T18:19:28.318196Z",
     "iopub.status.idle": "2023-08-06T18:19:28.324243Z",
     "shell.execute_reply": "2023-08-06T18:19:28.323245Z"
    },
    "papermill": {
     "duration": 0.024161,
     "end_time": "2023-08-06T18:19:28.330332",
     "exception": false,
     "start_time": "2023-08-06T18:19:28.306171",
     "status": "completed"
    },
    "tags": []
   },
   "outputs": [
    {
     "name": "stdout",
     "output_type": "stream",
     "text": [
      "tensor([[0.3982],\n",
      "        [0.4049],\n",
      "        [0.4116],\n",
      "        [0.4184],\n",
      "        [0.4251],\n",
      "        [0.4318],\n",
      "        [0.4386],\n",
      "        [0.4453],\n",
      "        [0.4520],\n",
      "        [0.4588]])\n"
     ]
    }
   ],
   "source": [
    "print(y_preds)"
   ]
  },
  {
   "cell_type": "code",
   "execution_count": 11,
   "id": "3e8dfcea",
   "metadata": {
    "execution": {
     "iopub.execute_input": "2023-08-06T18:19:28.355084Z",
     "iopub.status.busy": "2023-08-06T18:19:28.354716Z",
     "iopub.status.idle": "2023-08-06T18:19:28.360944Z",
     "shell.execute_reply": "2023-08-06T18:19:28.360119Z"
    },
    "papermill": {
     "duration": 0.024625,
     "end_time": "2023-08-06T18:19:28.366662",
     "exception": false,
     "start_time": "2023-08-06T18:19:28.342037",
     "status": "completed"
    },
    "tags": []
   },
   "outputs": [
    {
     "name": "stdout",
     "output_type": "stream",
     "text": [
      "10\n",
      "10\n",
      "tensor([[0.3982],\n",
      "        [0.4049],\n",
      "        [0.4116],\n",
      "        [0.4184],\n",
      "        [0.4251],\n",
      "        [0.4318],\n",
      "        [0.4386],\n",
      "        [0.4453],\n",
      "        [0.4520],\n",
      "        [0.4588]])\n"
     ]
    }
   ],
   "source": [
    "## Lets check the predictions\n",
    "\n",
    "print(len(X_test))\n",
    "print(len(y_preds))\n",
    "print(y_preds)"
   ]
  },
  {
   "cell_type": "code",
   "execution_count": 12,
   "id": "ef4f8dff",
   "metadata": {
    "execution": {
     "iopub.execute_input": "2023-08-06T18:19:28.391073Z",
     "iopub.status.busy": "2023-08-06T18:19:28.390711Z",
     "iopub.status.idle": "2023-08-06T18:19:28.921591Z",
     "shell.execute_reply": "2023-08-06T18:19:28.920687Z"
    },
    "papermill": {
     "duration": 0.546445,
     "end_time": "2023-08-06T18:19:28.924570",
     "exception": false,
     "start_time": "2023-08-06T18:19:28.378125",
     "status": "completed"
    },
    "tags": []
   },
   "outputs": [
    {
     "data": {
      "image/png": "[encoded data removed]",
      "text/plain": [
       "<Figure size 1000x700 with 1 Axes>"
      ]
     },
     "metadata": {},
     "output_type": "display_data"
    }
   ],
   "source": [
    "plot_predictions(predictions=y_preds)"
   ]
  },
  {
   "cell_type": "code",
   "execution_count": 13,
   "id": "491fbdcc",
   "metadata": {
    "execution": {
     "iopub.execute_input": "2023-08-06T18:19:28.952894Z",
     "iopub.status.busy": "2023-08-06T18:19:28.952525Z",
     "iopub.status.idle": "2023-08-06T18:19:28.961630Z",
     "shell.execute_reply": "2023-08-06T18:19:28.960791Z"
    },
    "papermill": {
     "duration": 0.028328,
     "end_time": "2023-08-06T18:19:28.966488",
     "exception": false,
     "start_time": "2023-08-06T18:19:28.938160",
     "status": "completed"
    },
    "tags": []
   },
   "outputs": [
    {
     "data": {
      "text/plain": [
       "tensor([[0.4618],\n",
       "        [0.4691],\n",
       "        [0.4764],\n",
       "        [0.4836],\n",
       "        [0.4909],\n",
       "        [0.4982],\n",
       "        [0.5054],\n",
       "        [0.5127],\n",
       "        [0.5200],\n",
       "        [0.5272]])"
      ]
     },
     "execution_count": 13,
     "metadata": {},
     "output_type": "execute_result"
    }
   ],
   "source": [
    "## So what would be the difference\n",
    "y_test - y_preds"
   ]
  },
  {
   "cell_type": "code",
   "execution_count": 14,
   "id": "35ab9555",
   "metadata": {
    "execution": {
     "iopub.execute_input": "2023-08-06T18:19:28.993866Z",
     "iopub.status.busy": "2023-08-06T18:19:28.993433Z",
     "iopub.status.idle": "2023-08-06T18:19:28.998994Z",
     "shell.execute_reply": "2023-08-06T18:19:28.998171Z"
    },
    "papermill": {
     "duration": 0.023578,
     "end_time": "2023-08-06T18:19:29.002992",
     "exception": false,
     "start_time": "2023-08-06T18:19:28.979414",
     "status": "completed"
    },
    "tags": []
   },
   "outputs": [],
   "source": [
    "##lets get the training started\n",
    "## we need a loss function and an optimizer\n",
    "## loss function -->> MAE for Regression BCE for Classification\n",
    "## torch.nn.L1Loss() for our purpose\n",
    "##  torch.optim.SGD(params, lr)\n",
    "loss_fn = nn.L1Loss()\n",
    "\n",
    "optimizer = torch.optim.SGD(params=model_0.parameters(), lr = 0.005)\n"
   ]
  },
  {
   "cell_type": "code",
   "execution_count": 15,
   "id": "75b75fb7",
   "metadata": {
    "execution": {
     "iopub.execute_input": "2023-08-06T18:19:29.030339Z",
     "iopub.status.busy": "2023-08-06T18:19:29.029992Z",
     "iopub.status.idle": "2023-08-06T18:19:29.920225Z",
     "shell.execute_reply": "2023-08-06T18:19:29.918986Z"
    },
    "papermill": {
     "duration": 0.906806,
     "end_time": "2023-08-06T18:19:29.922661",
     "exception": false,
     "start_time": "2023-08-06T18:19:29.015855",
     "status": "completed"
    },
    "tags": []
   },
   "outputs": [
    {
     "name": "stdout",
     "output_type": "stream",
     "text": [
      "Epoch: 0|| Train_loss: 0.31288138031959534 || Test_loss: 0.4878006875514984\n",
      "Epoch: 100|| Train_loss: 0.041651852428913116 || Test_loss: 0.10024197399616241\n",
      "Epoch: 200|| Train_loss: 0.024415848776698112 || Test_loss: 0.056821130216121674\n",
      "Epoch: 300|| Train_loss: 0.007245116867125034 || Test_loss: 0.016491109505295753\n",
      "Epoch: 400|| Train_loss: 0.001977377338334918 || Test_loss: 0.0024690269492566586\n",
      "Epoch: 500|| Train_loss: 0.001977377338334918 || Test_loss: 0.0024690269492566586\n",
      "Epoch: 600|| Train_loss: 0.001977377338334918 || Test_loss: 0.0024690269492566586\n",
      "Epoch: 700|| Train_loss: 0.001977377338334918 || Test_loss: 0.0024690269492566586\n",
      "Epoch: 800|| Train_loss: 0.001977377338334918 || Test_loss: 0.0024690269492566586\n",
      "Epoch: 900|| Train_loss: 0.001977377338334918 || Test_loss: 0.0024690269492566586\n",
      "Epoch: 1000|| Train_loss: 0.001977377338334918 || Test_loss: 0.0024690269492566586\n",
      "Epoch: 1100|| Train_loss: 0.001977377338334918 || Test_loss: 0.0024690269492566586\n",
      "Epoch: 1200|| Train_loss: 0.001977377338334918 || Test_loss: 0.0024690269492566586\n",
      "Epoch: 1300|| Train_loss: 0.001977377338334918 || Test_loss: 0.0024690269492566586\n",
      "Epoch: 1400|| Train_loss: 0.001977377338334918 || Test_loss: 0.0024690269492566586\n",
      "Epoch: 1500|| Train_loss: 0.001977377338334918 || Test_loss: 0.0024690269492566586\n",
      "Epoch: 1600|| Train_loss: 0.001977377338334918 || Test_loss: 0.0024690269492566586\n",
      "Epoch: 1700|| Train_loss: 0.001977377338334918 || Test_loss: 0.0024690269492566586\n",
      "Epoch: 1800|| Train_loss: 0.001977377338334918 || Test_loss: 0.0024690269492566586\n",
      "Epoch: 1900|| Train_loss: 0.001977377338334918 || Test_loss: 0.0024690269492566586\n"
     ]
    }
   ],
   "source": [
    "## steps for training\n",
    "## forward_pass -> calculate_loss -> set_gradient_to_Zero -> compute_grad_backprop ->\n",
    "## update_optimizer\n",
    "\n",
    "## steps for Testing\n",
    "## forward_pass -> cal_loss -> cla_eval_metrics\n",
    "\n",
    "torch.manual_seed(42)\n",
    "\n",
    "\n",
    "epochs = 2000\n",
    "\n",
    "## Record_keeping\n",
    "train_loss_values = []\n",
    "test_loss_values = []\n",
    "epoch_count = []\n",
    "\n",
    "\n",
    "for epoch in range(epochs):\n",
    "    \n",
    "    ## training begining\n",
    "    model_0.train()\n",
    "    \n",
    "    ## Forward_pass\n",
    "    y_pred = model_0(X_train)\n",
    "    \n",
    "    ## calculate Loss\n",
    "    \n",
    "    loss = loss_fn(y_pred, y_train)\n",
    "    \n",
    "    \n",
    "    ## set grad to Zero\n",
    "    optimizer.zero_grad()\n",
    "    \n",
    "    \n",
    "    ## backprop after grad calc\n",
    "    loss.backward()\n",
    "    \n",
    "    \n",
    "    ## update optimizer\n",
    "    optimizer.step()\n",
    "    \n",
    "    \n",
    "    ## Testing\n",
    "    \n",
    "    ## put model in eval_mode\n",
    "    model_0.eval()\n",
    "    \n",
    "    with torch.inference_mode():\n",
    "        \n",
    "        ## Forward Pass\n",
    "        test_pred = model_0(X_test)\n",
    "        \n",
    "        ## calc loss on Test data(comparison on data of same type)\n",
    "        test_loss = loss_fn(test_pred, y_test.type(torch.float))\n",
    "        \n",
    "        ## print / Check \n",
    "        \n",
    "        if epoch%100==0:\n",
    "            epoch_count.append(epoch)\n",
    "            train_loss_values.append(loss.detach().numpy())\n",
    "            test_loss_values.append(loss.detach().numpy())\n",
    "            \n",
    "            print(f\"Epoch: {epoch}|| Train_loss: {loss} || Test_loss: {test_loss}\")\n",
    "        \n",
    "        \n",
    "\n",
    "\n",
    "\n",
    "\n",
    "\n",
    "\n",
    "\n",
    "\n",
    "\n",
    "\n",
    "\n",
    "\n",
    "\n",
    "\n"
   ]
  },
  {
   "cell_type": "code",
   "execution_count": 16,
   "id": "78faf083",
   "metadata": {
    "execution": {
     "iopub.execute_input": "2023-08-06T18:19:29.943675Z",
     "iopub.status.busy": "2023-08-06T18:19:29.943340Z",
     "iopub.status.idle": "2023-08-06T18:19:30.290135Z",
     "shell.execute_reply": "2023-08-06T18:19:30.289228Z"
    },
    "papermill": {
     "duration": 0.359727,
     "end_time": "2023-08-06T18:19:30.292106",
     "exception": false,
     "start_time": "2023-08-06T18:19:29.932379",
     "status": "completed"
    },
    "tags": []
   },
   "outputs": [
    {
     "data": {
      "text/plain": [
       "<matplotlib.legend.Legend at 0x7f6aa8c1c1f0>"
      ]
     },
     "execution_count": 16,
     "metadata": {},
     "output_type": "execute_result"
    },
    {
     "data": {
      "image/png": "[encoded data removed]",
      "text/plain": [
       "<Figure size 640x480 with 1 Axes>"
      ]
     },
     "metadata": {},
     "output_type": "display_data"
    }
   ],
   "source": [
    "## lets check the progress graphically\n",
    "plt.plot(epoch_count, train_loss_values, label=\"Train Loss\")\n",
    "plt.plot(epoch_count, test_loss_values, label=\"test loss\")\n",
    "plt.title(\"Training and Test loss\")\n",
    "plt.xlabel(\"Epochs\")\n",
    "plt.ylabel(\"Loss\")\n",
    "plt.legend()"
   ]
  },
  {
   "cell_type": "code",
   "execution_count": 17,
   "id": "6a1c920f",
   "metadata": {
    "execution": {
     "iopub.execute_input": "2023-08-06T18:19:30.313551Z",
     "iopub.status.busy": "2023-08-06T18:19:30.312665Z",
     "iopub.status.idle": "2023-08-06T18:19:30.320692Z",
     "shell.execute_reply": "2023-08-06T18:19:30.319789Z"
    },
    "papermill": {
     "duration": 0.020819,
     "end_time": "2023-08-06T18:19:30.322824",
     "exception": false,
     "start_time": "2023-08-06T18:19:30.302005",
     "status": "completed"
    },
    "tags": []
   },
   "outputs": [
    {
     "name": "stdout",
     "output_type": "stream",
     "text": [
      "weightandbias: \n",
      "OrderedDict([('weights', tensor([0.6954])), ('bias', tensor([0.2998]))])\n",
      "0.7 0.3\n"
     ]
    }
   ],
   "source": [
    "## lower the loss better the accuracy\n",
    "## lets see what our model learned\n",
    "print(\"weightandbias: \")\n",
    "print(model_0.state_dict())\n",
    "print(weight, bias)\n"
   ]
  },
  {
   "cell_type": "code",
   "execution_count": 18,
   "id": "98487a98",
   "metadata": {
    "execution": {
     "iopub.execute_input": "2023-08-06T18:19:30.343837Z",
     "iopub.status.busy": "2023-08-06T18:19:30.342969Z",
     "iopub.status.idle": "2023-08-06T18:19:30.351002Z",
     "shell.execute_reply": "2023-08-06T18:19:30.349978Z"
    },
    "papermill": {
     "duration": 0.020688,
     "end_time": "2023-08-06T18:19:30.353188",
     "exception": false,
     "start_time": "2023-08-06T18:19:30.332500",
     "status": "completed"
    },
    "tags": []
   },
   "outputs": [
    {
     "data": {
      "text/plain": [
       "tensor([[0.8561],\n",
       "        [0.8701],\n",
       "        [0.8840],\n",
       "        [0.8979],\n",
       "        [0.9118],\n",
       "        [0.9257],\n",
       "        [0.9396],\n",
       "        [0.9535],\n",
       "        [0.9674],\n",
       "        [0.9813]])"
      ]
     },
     "execution_count": 18,
     "metadata": {},
     "output_type": "execute_result"
    }
   ],
   "source": [
    "## lets check the model's predictions\n",
    "model_0.eval()\n",
    "with torch.inference_mode():\n",
    "    y_preds = model_0(X_test)\n",
    "y_preds\n"
   ]
  },
  {
   "cell_type": "code",
   "execution_count": 19,
   "id": "a9181777",
   "metadata": {
    "execution": {
     "iopub.execute_input": "2023-08-06T18:19:30.373971Z",
     "iopub.status.busy": "2023-08-06T18:19:30.373653Z",
     "iopub.status.idle": "2023-08-06T18:19:30.759839Z",
     "shell.execute_reply": "2023-08-06T18:19:30.758905Z"
    },
    "papermill": {
     "duration": 0.399353,
     "end_time": "2023-08-06T18:19:30.762348",
     "exception": false,
     "start_time": "2023-08-06T18:19:30.362995",
     "status": "completed"
    },
    "tags": []
   },
   "outputs": [
    {
     "data": {
      "image/png": "[encoded data removed]",
      "text/plain": [
       "<Figure size 1000x700 with 1 Axes>"
      ]
     },
     "metadata": {},
     "output_type": "display_data"
    }
   ],
   "source": [
    "## lets see the predictions in plotted graphs\n",
    "plot_predictions(predictions=y_preds)\n"
   ]
  },
  {
   "cell_type": "markdown",
   "id": "3b33d3fc",
   "metadata": {
    "papermill": {
     "duration": 0.01017,
     "end_time": "2023-08-06T18:19:30.783209",
     "exception": false,
     "start_time": "2023-08-06T18:19:30.773039",
     "status": "completed"
    },
    "tags": []
   },
   "source": [
    "**Looks like we are getting there**"
   ]
  },
  {
   "cell_type": "code",
   "execution_count": 20,
   "id": "95b95fe9",
   "metadata": {
    "execution": {
     "iopub.execute_input": "2023-08-06T18:19:30.805091Z",
     "iopub.status.busy": "2023-08-06T18:19:30.804796Z",
     "iopub.status.idle": "2023-08-06T18:19:30.814640Z",
     "shell.execute_reply": "2023-08-06T18:19:30.813626Z"
    },
    "papermill": {
     "duration": 0.023125,
     "end_time": "2023-08-06T18:19:30.816710",
     "exception": false,
     "start_time": "2023-08-06T18:19:30.793585",
     "status": "completed"
    },
    "tags": []
   },
   "outputs": [
    {
     "name": "stdout",
     "output_type": "stream",
     "text": [
      "Saving.. : models/pytorch_02.pth\n"
     ]
    }
   ],
   "source": [
    "## Lets learn to save and load the model\n",
    "## official and recommended way is to save and load state_dict()\n",
    "from pathlib import Path\n",
    "MODEL_PATH = Path(\"models\")\n",
    "MODEL_PATH.mkdir(parents=True, exist_ok=True)\n",
    "MODEL_NAME = \"pytorch_02.pth\"\n",
    "MODEL_SAVE_PATH = MODEL_PATH / MODEL_NAME\n",
    "\n",
    "print(f\"Saving.. : {MODEL_SAVE_PATH}\")\n",
    "torch.save(obj=model_0.state_dict(), f = MODEL_SAVE_PATH)\n"
   ]
  },
  {
   "cell_type": "code",
   "execution_count": 21,
   "id": "ab15ea85",
   "metadata": {
    "execution": {
     "iopub.execute_input": "2023-08-06T18:19:30.838548Z",
     "iopub.status.busy": "2023-08-06T18:19:30.837784Z",
     "iopub.status.idle": "2023-08-06T18:19:30.847809Z",
     "shell.execute_reply": "2023-08-06T18:19:30.846927Z"
    },
    "papermill": {
     "duration": 0.023109,
     "end_time": "2023-08-06T18:19:30.849927",
     "exception": false,
     "start_time": "2023-08-06T18:19:30.826818",
     "status": "completed"
    },
    "tags": []
   },
   "outputs": [
    {
     "data": {
      "text/plain": [
       "<All keys matched successfully>"
      ]
     },
     "execution_count": 21,
     "metadata": {},
     "output_type": "execute_result"
    }
   ],
   "source": [
    "## and now load the model...\n",
    "loaded_model_0 = LinearRegressionModel()\n",
    "loaded_model_0.load_state_dict(torch.load(f=MODEL_SAVE_PATH))\n"
   ]
  },
  {
   "cell_type": "code",
   "execution_count": 22,
   "id": "53409e28",
   "metadata": {
    "execution": {
     "iopub.execute_input": "2023-08-06T18:19:30.871546Z",
     "iopub.status.busy": "2023-08-06T18:19:30.871253Z",
     "iopub.status.idle": "2023-08-06T18:19:30.876991Z",
     "shell.execute_reply": "2023-08-06T18:19:30.875304Z"
    },
    "papermill": {
     "duration": 0.018897,
     "end_time": "2023-08-06T18:19:30.879012",
     "exception": false,
     "start_time": "2023-08-06T18:19:30.860115",
     "status": "completed"
    },
    "tags": []
   },
   "outputs": [],
   "source": [
    "# 1. Put the loaded model into evaluation mode\n",
    "loaded_model_0.eval()\n",
    "\n",
    "# 2. Use the inference mode context manager to make predictions\n",
    "with torch.inference_mode():\n",
    "    loaded_model_preds = loaded_model_0(X_test) # perform a forward pass on the test data with the loaded model"
   ]
  },
  {
   "cell_type": "code",
   "execution_count": 23,
   "id": "604e587d",
   "metadata": {
    "execution": {
     "iopub.execute_input": "2023-08-06T18:19:30.900826Z",
     "iopub.status.busy": "2023-08-06T18:19:30.900576Z",
     "iopub.status.idle": "2023-08-06T18:19:30.907291Z",
     "shell.execute_reply": "2023-08-06T18:19:30.906403Z"
    },
    "papermill": {
     "duration": 0.019826,
     "end_time": "2023-08-06T18:19:30.909316",
     "exception": false,
     "start_time": "2023-08-06T18:19:30.889490",
     "status": "completed"
    },
    "tags": []
   },
   "outputs": [
    {
     "data": {
      "text/plain": [
       "tensor([[True],\n",
       "        [True],\n",
       "        [True],\n",
       "        [True],\n",
       "        [True],\n",
       "        [True],\n",
       "        [True],\n",
       "        [True],\n",
       "        [True],\n",
       "        [True]])"
      ]
     },
     "execution_count": 23,
     "metadata": {},
     "output_type": "execute_result"
    }
   ],
   "source": [
    "# Compare previous model predictions with loaded model predictions (these should be the same)\n",
    "y_preds == loaded_model_preds"
   ]
  },
  {
   "cell_type": "code",
   "execution_count": 24,
   "id": "e625a2a3",
   "metadata": {
    "execution": {
     "iopub.execute_input": "2023-08-06T18:19:30.931847Z",
     "iopub.status.busy": "2023-08-06T18:19:30.931066Z",
     "iopub.status.idle": "2023-08-06T18:19:30.935325Z",
     "shell.execute_reply": "2023-08-06T18:19:30.934477Z"
    },
    "papermill": {
     "duration": 0.017373,
     "end_time": "2023-08-06T18:19:30.937211",
     "exception": false,
     "start_time": "2023-08-06T18:19:30.919838",
     "status": "completed"
    },
    "tags": []
   },
   "outputs": [],
   "source": [
    "## ok thats it for the part A\n",
    "## lets look forward in part B"
   ]
  },
  {
   "cell_type": "code",
   "execution_count": null,
   "id": "117db2ed",
   "metadata": {
    "papermill": {
     "duration": 0.010289,
     "end_time": "2023-08-06T18:19:30.957851",
     "exception": false,
     "start_time": "2023-08-06T18:19:30.947562",
     "status": "completed"
    },
    "tags": []
   },
   "outputs": [],
   "source": []
  }
 ],
 "metadata": {
  "kernelspec": {
   "display_name": "Python 3",
   "language": "python",
   "name": "python3"
  },
  "language_info": {
   "codemirror_mode": {
    "name": "ipython",
    "version": 3
   },
   "file_extension": ".py",
   "mimetype": "text/x-python",
   "name": "python",
   "nbconvert_exporter": "python",
   "pygments_lexer": "ipython3",
   "version": "3.10.12"
  },
  "papermill": {
   "default_parameters": {},
   "duration": 18.295335,
   "end_time": "2023-08-06T18:19:32.492121",
   "environment_variables": {},
   "exception": null,
   "input_path": "__notebook__.ipynb",
   "output_path": "__notebook__.ipynb",
   "parameters": {},
   "start_time": "2023-08-06T18:19:14.196786",
   "version": "2.4.0"
  }
 },
 "nbformat": 4,
 "nbformat_minor": 5
}
